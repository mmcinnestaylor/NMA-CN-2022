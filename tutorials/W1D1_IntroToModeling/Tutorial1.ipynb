{
  "cells": [
    {
      "cell_type": "markdown",
      "metadata": {
        "id": "view-in-github",
        "colab_type": "text"
      },
      "source": [
        "<a href=\"https://colab.research.google.com/github/mmcinnestaylor/NMA-CN-2022/blob/main/tutorials/W1D1_IntroToModeling/Tutorial1.ipynb\" target=\"_parent\"><img src=\"https://colab.research.google.com/assets/colab-badge.svg\" alt=\"Open In Colab\"/></a>"
      ]
    },
    {
      "cell_type": "markdown",
      "metadata": {
        "execution": {},
        "id": "6sZL_IzjR_Nr"
      },
      "source": [
        "# Tutorial 1: \"What\" models\n",
        "**Week 1, Day 1: Model Types**\n",
        "\n",
        "**By Neuromatch Academy**\n",
        "\n",
        "__Content creators:__ Matt Laporte, Byron Galbraith, Konrad Kording\n",
        "\n",
        "__Content reviewers:__ Dalin Guo, Aishwarya Balwani, Madineh Sarvestani, Maryam Vaziri-Pashkam, Michael Waskom, Ella Batty\n",
        "\n",
        "__Post-production team:__ Gagana B, Spiros Chavlis\n",
        "\n",
        "We would like to acknowledge [Steinmetz _et al._ (2019)](https://www.nature.com/articles/s41586-019-1787-x) for sharing their data, a subset of which is used here.\n"
      ]
    },
    {
      "cell_type": "markdown",
      "metadata": {
        "execution": {},
        "id": "Nbew8vNlR_Nz"
      },
      "source": [
        "<p align='center'><img src='https://github.com/NeuromatchAcademy/widgets/blob/master/sponsors.png?raw=True'/></p>"
      ]
    },
    {
      "cell_type": "markdown",
      "metadata": {
        "execution": {},
        "id": "ss3MoiYzR_N2"
      },
      "source": [
        "___\n",
        "# Tutorial Objectives\n",
        "\n",
        "*Estimated timing of tutorial: 50 minutes*\n",
        "\n",
        "This is tutorial 1 of a 3-part series on different flavors of models used to understand neural data. In this tutorial we will explore 'What' models, used to describe the data. To understand what our data looks like, we will visualize it in different ways. Then we will compare it to simple mathematical models. Specifically, we will:\n",
        "\n",
        "- Load a dataset with spiking activity from hundreds of neurons and understand how it is organized\n",
        "- Make plots to visualize characteristics of the spiking activity across the population\n",
        "- Compute the distribution of \"inter-spike intervals\" (ISIs) for a single neuron\n",
        "- Consider several formal models of this distribution's shape and fit them to the data \"by hand\""
      ]
    },
    {
      "cell_type": "code",
      "execution_count": null,
      "metadata": {
        "cellView": "form",
        "execution": {},
        "id": "bHT6-rSLR_N3"
      },
      "outputs": [],
      "source": [
        "# @title Tutorial slides\n",
        "\n",
        "# @markdown These are the slides for the videos in all tutorials today\n",
        "from IPython.display import IFrame\n",
        "IFrame(src=f\"https://mfr.ca-1.osf.io/render?url=https://osf.io/6dxwe/?direct%26mode=render%26action=download%26mode=render\", width=854, height=480)"
      ]
    },
    {
      "cell_type": "code",
      "execution_count": null,
      "metadata": {
        "cellView": "form",
        "execution": {},
        "id": "pNnKWWthR_N5"
      },
      "outputs": [],
      "source": [
        "# @title Video 1: \"What\" Models\n",
        "from ipywidgets import widgets\n",
        "\n",
        "out2 = widgets.Output()\n",
        "with out2:\n",
        "  from IPython.display import IFrame\n",
        "  class BiliVideo(IFrame):\n",
        "      def __init__(self, id, page=1, width=400, height=300, **kwargs):\n",
        "          self.id=id\n",
        "          src = 'https://player.bilibili.com/player.html?bvid={0}&page={1}'.format(id, page)\n",
        "          super(BiliVideo, self).__init__(src, width, height, **kwargs)\n",
        "\n",
        "  video = BiliVideo(id=\"BV1mz4y1X7ot\", width=854, height=480, fs=1)\n",
        "  print('Video available at https://www.bilibili.com/video/{0}'.format(video.id))\n",
        "  display(video)\n",
        "\n",
        "out1 = widgets.Output()\n",
        "with out1:\n",
        "  from IPython.display import YouTubeVideo\n",
        "  video = YouTubeVideo(id=\"KgqR_jbjMQg\", width=854, height=480, fs=1, rel=0)\n",
        "  print('Video available at https://youtube.com/watch?v=' + video.id)\n",
        "  display(video)\n",
        "\n",
        "out = widgets.Tab([out1, out2])\n",
        "out.set_title(0, 'Youtube')\n",
        "out.set_title(1, 'Bilibili')\n",
        "\n",
        "display(out)"
      ]
    },
    {
      "cell_type": "markdown",
      "metadata": {
        "execution": {},
        "id": "-evW-b7GR_OQ"
      },
      "source": [
        "# Setup\n",
        "\n"
      ]
    },
    {
      "cell_type": "markdown",
      "metadata": {
        "execution": {},
        "id": "WL-y1c1LR_OY"
      },
      "source": [
        "Python requires you to explicitly \"import\" libraries before their functions are available to use. We will always specify our imports at the beginning of each notebook or script."
      ]
    },
    {
      "cell_type": "code",
      "execution_count": null,
      "metadata": {
        "execution": {},
        "pycharm": {
          "name": "#%%\n"
        },
        "id": "RAoKwbRSR_OZ"
      },
      "outputs": [],
      "source": [
        "import numpy as np\n",
        "import matplotlib.pyplot as plt"
      ]
    },
    {
      "cell_type": "markdown",
      "metadata": {
        "execution": {},
        "id": "Y5pk0gbRR_Ob"
      },
      "source": [
        "Tutorial notebooks typically begin with several set-up steps that are hidden from view by default.\n",
        "\n",
        "**Important:** Even though the code is hidden, you still need to run it so that the rest of the notebook can work properly. Step through each cell, either by pressing the play button in the upper-left-hand corner or with a keyboard shortcut (`Cmd-Return` on a Mac, `Ctrl-Enter` otherwise). A number will appear inside the brackets (e.g. `[3]`) to tell you that the cell was executed and what order that happened in.\n",
        "\n",
        "If you are curious to see what is going on inside each cell, you can double click to expand. Once expanded, double-click the white space to the right of the editor to collapse again."
      ]
    },
    {
      "cell_type": "code",
      "execution_count": null,
      "metadata": {
        "execution": {},
        "pycharm": {
          "name": "#%%\n"
        },
        "id": "L3oG3uRXR_Oh"
      },
      "outputs": [],
      "source": [
        "# @title Figure Settings\n",
        "import ipywidgets as widgets #interactive display\n",
        "\n",
        "%matplotlib inline\n",
        "%config InlineBackend.figure_format = 'retina'\n",
        "plt.style.use(\"https://raw.githubusercontent.com/NeuromatchAcademy/course-content/main/nma.mplstyle\")"
      ]
    },
    {
      "cell_type": "code",
      "execution_count": null,
      "metadata": {
        "execution": {},
        "id": "Nhh0-PeYR_Ol"
      },
      "outputs": [],
      "source": [
        "# @title Plotting functions\n",
        "\n",
        "def plot_isis(single_neuron_isis):\n",
        "  plt.hist(single_neuron_isis, bins=50, histtype=\"stepfilled\")\n",
        "  plt.axvline(single_neuron_isis.mean(), color=\"orange\", label=\"Mean ISI\")\n",
        "  plt.xlabel(\"ISI duration (s)\")\n",
        "  plt.ylabel(\"Number of spikes\")\n",
        "  plt.legend()"
      ]
    },
    {
      "cell_type": "code",
      "execution_count": null,
      "metadata": {
        "execution": {},
        "pycharm": {
          "name": "#%%\n"
        },
        "id": "VkM2BI2yR_Os"
      },
      "outputs": [],
      "source": [
        "#@title Data retrieval\n",
        "#@markdown This cell downloads the example dataset that we will use in this tutorial.\n",
        "import io\n",
        "import requests\n",
        "r = requests.get('https://osf.io/sy5xt/download')\n",
        "if r.status_code != 200:\n",
        "  print('Failed to download data')\n",
        "else:\n",
        "  spike_times = np.load(io.BytesIO(r.content), allow_pickle=True)['spike_times']"
      ]
    },
    {
      "cell_type": "markdown",
      "metadata": {
        "execution": {},
        "id": "cc4XHAkDR_Ot"
      },
      "source": [
        "---\n",
        "\n",
        "# Section 1: Exploring the Steinmetz dataset\n",
        "\n",
        "In this tutorial we will explore the structure of a neuroscience dataset.\n",
        "\n",
        "We consider a subset of data from a study of [Steinmetz _et al._ (2019)](https://www.nature.com/articles/s41586-019-1787-x). In this study, Neuropixels probes were implanted in the brains of mice. Electrical potentials were measured by hundreds of electrodes along the length of each probe. Each electrode's measurements captured local variations in the electric field due to nearby spiking neurons. A spike sorting algorithm was used to infer spike times and cluster spikes according to common origin: a single cluster of sorted spikes is causally attributed to a single neuron.\n",
        "\n",
        "In particular, a single recording session of spike times and neuron assignments was loaded and assigned to `spike_times` in the preceding setup.\n",
        "\n",
        "Typically a dataset comes with some information about its structure. However, this information may be incomplete. You might also apply some transformations or \"pre-processing\" to create a working representation of the data of interest, which might go partly undocumented depending on the circumstances. In any case it is important to be able to use the available tools to investigate unfamiliar aspects of a data structure.\n",
        "\n",
        "Let's see what our data looks like..."
      ]
    },
    {
      "cell_type": "markdown",
      "metadata": {
        "execution": {},
        "id": "ABP0WlKHR_Oy"
      },
      "source": [
        "## Section 1.1: Warming up with `spike_times`"
      ]
    },
    {
      "cell_type": "markdown",
      "metadata": {
        "execution": {},
        "id": "LwJi_QATR_Oz"
      },
      "source": [
        "What is the Python type of our variable?"
      ]
    },
    {
      "cell_type": "code",
      "execution_count": null,
      "metadata": {
        "execution": {},
        "pycharm": {
          "name": "#%%\n"
        },
        "id": "kqABdEWLR_Oz",
        "outputId": "68ca104a-1774-49b2-d5d9-0266ce9390fd",
        "colab": {
          "base_uri": "https://localhost:8080/"
        }
      },
      "outputs": [
        {
          "output_type": "execute_result",
          "data": {
            "text/plain": [
              "numpy.ndarray"
            ]
          },
          "metadata": {},
          "execution_count": 5
        }
      ],
      "source": [
        "type(spike_times)"
      ]
    },
    {
      "cell_type": "markdown",
      "metadata": {
        "execution": {},
        "id": "zk7IBB1xR_O0"
      },
      "source": [
        "You should see `numpy.ndarray`, which means that it's a normal NumPy array.\n",
        "\n",
        "If you see an error message, it probably means that you did not execute the set-up cells at the top of the notebook. So go ahead and make sure to do that.\n",
        "\n",
        "Once everything is running properly, we can ask the next question about the dataset: what's its shape?"
      ]
    },
    {
      "cell_type": "code",
      "execution_count": null,
      "metadata": {
        "execution": {},
        "pycharm": {
          "name": "#%%\n"
        },
        "id": "V6BFQsJTR_O4",
        "outputId": "1223263b-5bdf-40d8-8d30-5c0100d725cb",
        "colab": {
          "base_uri": "https://localhost:8080/"
        }
      },
      "outputs": [
        {
          "output_type": "execute_result",
          "data": {
            "text/plain": [
              "(734,)"
            ]
          },
          "metadata": {},
          "execution_count": 6
        }
      ],
      "source": [
        "spike_times.shape"
      ]
    },
    {
      "cell_type": "markdown",
      "metadata": {
        "execution": {},
        "id": "kfiOUvoLR_O5"
      },
      "source": [
        "There are 734 entries in one dimension, and no other dimensions. What is the Python type of the first entry, and what is *its* shape?"
      ]
    },
    {
      "cell_type": "code",
      "execution_count": null,
      "metadata": {
        "execution": {},
        "pycharm": {
          "name": "#%%\n"
        },
        "id": "Gt-wS9FPR_O5",
        "outputId": "867832ec-ef90-4326-e04b-376b977a27b8",
        "colab": {
          "base_uri": "https://localhost:8080/"
        }
      },
      "outputs": [
        {
          "output_type": "stream",
          "name": "stdout",
          "text": [
            "<class 'numpy.ndarray'>\n",
            "(826,)\n"
          ]
        }
      ],
      "source": [
        "idx = 0\n",
        "print(\n",
        "  type(spike_times[idx]),\n",
        "  spike_times[idx].shape,\n",
        "  sep=\"\\n\",\n",
        ")"
      ]
    },
    {
      "cell_type": "markdown",
      "metadata": {
        "execution": {},
        "id": "2Y3PzQ5IR_O6"
      },
      "source": [
        "It's also a NumPy array with a 1D shape! Why didn't this show up as a second dimension in the shape of `spike_times`? That is, why not `spike_times.shape == (734, 826)`?\n",
        "\n",
        "To investigate, let's check another entry."
      ]
    },
    {
      "cell_type": "code",
      "execution_count": null,
      "metadata": {
        "execution": {},
        "pycharm": {
          "name": "#%%\n"
        },
        "id": "KFPfA4rFR_O7",
        "outputId": "21369102-81ca-47ca-cc6e-f540ba20b494",
        "colab": {
          "base_uri": "https://localhost:8080/"
        }
      },
      "outputs": [
        {
          "output_type": "stream",
          "name": "stdout",
          "text": [
            "<class 'numpy.ndarray'>\n",
            "(9723,)\n"
          ]
        }
      ],
      "source": [
        "idx = 321\n",
        "print(\n",
        "  type(spike_times[idx]),\n",
        "  spike_times[idx].shape,\n",
        "  sep=\"\\n\",\n",
        ")"
      ]
    },
    {
      "cell_type": "markdown",
      "metadata": {
        "execution": {},
        "id": "WmGeXvN6R_O8"
      },
      "source": [
        "It's also a 1D NumPy array, but it has a different shape. Checking the NumPy types of the values in these arrays, and their first few elements, we see they are composed of floating point numbers (not another level of `np.ndarray`):"
      ]
    },
    {
      "cell_type": "code",
      "execution_count": null,
      "metadata": {
        "execution": {},
        "pycharm": {
          "name": "#%%\n"
        },
        "id": "3KcGjz5HR_O-",
        "outputId": "208e12b5-af1a-47f7-9795-ad255f29de1b",
        "colab": {
          "base_uri": "https://localhost:8080/"
        }
      },
      "outputs": [
        {
          "output_type": "stream",
          "name": "stdout",
          "text": [
            "Neuron 0:\n",
            "float32\n",
            "[ 0.8149   14.822467 24.9646   25.1436   38.8709  ]\n",
            "\n",
            "\n",
            "Neuron 321:\n",
            "float32\n",
            "[1.0698667 1.1536334 1.2403667 1.7072    1.799    ]\n",
            "\n",
            "\n"
          ]
        }
      ],
      "source": [
        "i_neurons = [0, 321]\n",
        "i_print = slice(0, 5)\n",
        "\n",
        "for i in i_neurons:\n",
        "  print(\n",
        "    \"Neuron {}:\".format(i),\n",
        "    spike_times[i].dtype,\n",
        "    spike_times[i][i_print],\n",
        "    \"\\n\",\n",
        "    sep=\"\\n\"\n",
        "  )"
      ]
    },
    {
      "cell_type": "markdown",
      "metadata": {
        "execution": {},
        "id": "Nq8-DrjfR_O_"
      },
      "source": [
        "Note that this time we've checked the NumPy `dtype` rather than the Python variable type. These two arrays contain floating point numbers (\"floats\") with 32 bits of precision.\n",
        "\n",
        "The basic picture is coming together:\n",
        "- `spike_times` is 1D, its entries are NumPy arrays, and its length is the number of neurons (734): by indexing it, we select a subset of neurons.\n",
        "- An array in `spike_times` is also 1D and corresponds to a single neuron; its entries are floating point numbers, and its length is the number of spikes attributed to that neuron. By indexing it, we select a subset of spike times for that neuron.\n",
        "\n",
        "Visually, you can think of the data structure as looking something like this:\n",
        "\n",
        "```\n",
        "| . . . . . |\n",
        "| . . . . . . . . |\n",
        "| . . . |\n",
        "| . . . . . . . |\n",
        "```\n",
        "\n",
        "Before moving on, we'll calculate and store the number of neurons in the dataset and the number of spikes per neuron:"
      ]
    },
    {
      "cell_type": "code",
      "execution_count": null,
      "metadata": {
        "execution": {},
        "pycharm": {
          "name": "#%%\n"
        },
        "id": "5LKdzQULR_PA",
        "outputId": "950a695a-c822-47ba-f3b1-f18809a5640e",
        "colab": {
          "base_uri": "https://localhost:8080/"
        }
      },
      "outputs": [
        {
          "output_type": "stream",
          "name": "stdout",
          "text": [
            "Number of neurons: 734\n",
            "Number of spikes for first five neurons: [826, 2818, 3953, 646, 1115]\n"
          ]
        }
      ],
      "source": [
        "n_neurons = len(spike_times)\n",
        "total_spikes_per_neuron = [len(spike_times_i) for spike_times_i in spike_times]\n",
        "\n",
        "print(f\"Number of neurons: {n_neurons}\")\n",
        "print(f\"Number of spikes for first five neurons: {total_spikes_per_neuron[:5]}\")"
      ]
    },
    {
      "cell_type": "code",
      "execution_count": null,
      "metadata": {
        "cellView": "form",
        "execution": {},
        "id": "a4pVKJ4SR_PA"
      },
      "outputs": [],
      "source": [
        "# @title Video 2: Exploring the dataset\n",
        "from ipywidgets import widgets\n",
        "\n",
        "out2 = widgets.Output()\n",
        "with out2:\n",
        "  from IPython.display import IFrame\n",
        "  class BiliVideo(IFrame):\n",
        "      def __init__(self, id, page=1, width=400, height=300, **kwargs):\n",
        "          self.id=id\n",
        "          src = 'https://player.bilibili.com/player.html?bvid={0}&page={1}'.format(id, page)\n",
        "          super(BiliVideo, self).__init__(src, width, height, **kwargs)\n",
        "\n",
        "  video = BiliVideo(id=\"BV1Hp4y1S7Au\", width=854, height=480, fs=1)\n",
        "  print('Video available at https://www.bilibili.com/video/{0}'.format(video.id))\n",
        "  display(video)\n",
        "\n",
        "out1 = widgets.Output()\n",
        "with out1:\n",
        "  from IPython.display import YouTubeVideo\n",
        "  video = YouTubeVideo(id=\"oHwYWUI_o1U\", width=854, height=480, fs=1, rel=0)\n",
        "  print('Video available at https://youtube.com/watch?v=' + video.id)\n",
        "  display(video)\n",
        "\n",
        "out = widgets.Tab([out1, out2])\n",
        "out.set_title(0, 'Youtube')\n",
        "out.set_title(1, 'Bilibili')\n",
        "\n",
        "display(out)"
      ]
    },
    {
      "cell_type": "markdown",
      "metadata": {
        "execution": {},
        "id": "e6YeCfsVR_PA"
      },
      "source": [
        "## Section 1.2: Getting warmer: counting and plotting total spike counts\n",
        "\n",
        "As we've seen, the number of spikes over the entire recording is variable between neurons. More generally, some neurons tend to spike more than others in a given period. Let's explore what the distribution of spiking looks like across all the neurons in the dataset."
      ]
    },
    {
      "cell_type": "markdown",
      "metadata": {
        "execution": {},
        "id": "lHH5FJ5jR_PB"
      },
      "source": [
        "Are most neurons \"loud\" or \"quiet\", compared to the average? To see, we'll define bins of constant width in terms of total spikes and count the neurons that fall in each bin. This is known as a \"histogram\".\n",
        "\n",
        "You can plot a histogram with the matplotlib function `plt.hist`. If you just need to compute it, you can use the numpy function `np.histogram` instead."
      ]
    },
    {
      "cell_type": "code",
      "execution_count": null,
      "metadata": {
        "execution": {},
        "pycharm": {
          "name": "#%%\n"
        },
        "id": "tHrY6n6YR_PB",
        "outputId": "e6c43907-a16a-48d5-db7c-86bd1b031da8",
        "colab": {
          "base_uri": "https://localhost:8080/",
          "height": 431
        }
      },
      "outputs": [
        {
          "output_type": "display_data",
          "data": {
            "text/plain": [
              "<Figure size 576x432 with 1 Axes>"
            ],
            "image/png": "[encoded data removed]"
          },
          "metadata": {
            "image/png": {
              "width": 558,
              "height": 414
            },
            "needs_background": "light"
          }
        }
      ],
      "source": [
        "plt.hist(total_spikes_per_neuron, bins=50, histtype=\"stepfilled\")\n",
        "plt.xlabel(\"Total spikes per neuron\")\n",
        "plt.ylabel(\"Number of neurons\");"
      ]
    },
    {
      "cell_type": "markdown",
      "metadata": {
        "execution": {},
        "id": "vyR7yV4tR_PB"
      },
      "source": [
        "Let's see what percentage of neurons have a below-average spike count:"
      ]
    },
    {
      "cell_type": "code",
      "execution_count": null,
      "metadata": {
        "execution": {},
        "pycharm": {
          "name": "#%%\n"
        },
        "id": "CNRAxPEoR_PB",
        "outputId": "858e56c9-5a55-4f1b-eb4a-e5c70431d724",
        "colab": {
          "base_uri": "https://localhost:8080/"
        }
      },
      "outputs": [
        {
          "output_type": "stream",
          "name": "stdout",
          "text": [
            "68.0% of neurons are below the mean\n"
          ]
        }
      ],
      "source": [
        "mean_spike_count = np.mean(total_spikes_per_neuron)\n",
        "frac_below_mean = (total_spikes_per_neuron < mean_spike_count).mean()\n",
        "print(f\"{frac_below_mean:2.1%} of neurons are below the mean\")"
      ]
    },
    {
      "cell_type": "markdown",
      "metadata": {
        "execution": {},
        "id": "0wKZBARlR_PB"
      },
      "source": [
        "We can also see this by adding the average spike count to the histogram plot:"
      ]
    },
    {
      "cell_type": "code",
      "execution_count": null,
      "metadata": {
        "execution": {},
        "pycharm": {
          "name": "#%%\n"
        },
        "id": "j1_ZjQgGR_PC",
        "outputId": "f08147c6-e5a3-4c79-e70f-3ff4bae64b3f",
        "colab": {
          "base_uri": "https://localhost:8080/",
          "height": 431
        }
      },
      "outputs": [
        {
          "output_type": "display_data",
          "data": {
            "text/plain": [
              "<Figure size 576x432 with 1 Axes>"
            ],
            "image/png": "[encoded data removed]"
          },
          "metadata": {
            "image/png": {
              "width": 558,
              "height": 414
            },
            "needs_background": "light"
          }
        }
      ],
      "source": [
        "plt.hist(total_spikes_per_neuron, bins=50, histtype=\"stepfilled\")\n",
        "plt.xlabel(\"Total spikes per neuron\")\n",
        "plt.ylabel(\"Number of neurons\")\n",
        "plt.axvline(mean_spike_count, color=\"orange\", label=\"Mean neuron\")\n",
        "plt.legend();"
      ]
    },
    {
      "cell_type": "markdown",
      "metadata": {
        "execution": {},
        "id": "cMzwTr9dR_PD"
      },
      "source": [
        "This shows that the majority of neurons are relatively \"quiet\" compared to the mean, while a small number of neurons are exceptionally \"loud\": they must have spiked more often to reach a large count.\n",
        "\n",
        "### Coding Exercise 1.2: Comparing mean and median neurons\n",
        "\n",
        "If the mean neuron is more active than 68% of the population, what does that imply about the relationship between the mean neuron and the median neuron?\n",
        "\n",
        "*Exercise objective:* Reproduce the plot above, but add the median neuron.\n"
      ]
    },
    {
      "cell_type": "code",
      "execution_count": null,
      "metadata": {
        "execution": {},
        "pycharm": {
          "name": "#%%\n"
        },
        "id": "Qu6_iSeuR_PE",
        "outputId": "7f327f51-b748-495c-8b17-43d4bec42e8e",
        "colab": {
          "base_uri": "https://localhost:8080/",
          "height": 449
        }
      },
      "outputs": [
        {
          "output_type": "execute_result",
          "data": {
            "text/plain": [
              "<matplotlib.legend.Legend at 0x7f27f4d80bd0>"
            ]
          },
          "metadata": {},
          "execution_count": 14
        },
        {
          "output_type": "display_data",
          "data": {
            "text/plain": [
              "<Figure size 576x432 with 1 Axes>"
            ],
            "image/png": "[encoded data removed]"
          },
          "metadata": {
            "image/png": {
              "width": 558,
              "height": 414
            },
            "needs_background": "light"
          }
        }
      ],
      "source": [
        "#################################################################################\n",
        "## TODO for students:\n",
        "# Fill out function and remove\n",
        "# raise NotImplementedError(\"Student exercise: complete histogram plotting with median\")\n",
        "#################################################################################\n",
        "\n",
        "# Compute median spike count\n",
        "median_spike_count = np.median(total_spikes_per_neuron)  # Hint: Try the function np.median\n",
        "\n",
        "# Visualize median, mean, and histogram\n",
        "plt.hist(total_spikes_per_neuron, bins=50, histtype=\"stepfilled\")\n",
        "plt.axvline(median_spike_count, color=\"limegreen\", label=\"Median neuron\")\n",
        "plt.axvline(mean_spike_count, color=\"orange\", label=\"Mean neuron\")\n",
        "plt.xlabel(\"Total spikes per neuron\")\n",
        "plt.ylabel(\"Number of neurons\")\n",
        "plt.legend()"
      ]
    },
    {
      "cell_type": "markdown",
      "metadata": {
        "execution": {},
        "pycharm": {
          "name": "#%%\n"
        },
        "id": "Jlnj8Qq1R_PE"
      },
      "source": [
        "[*Click for solution*](https://github.com/NeuromatchAcademy/course-content/tree/main//tutorials/W1D1_ModelTypes/solutions/W1D1_Tutorial1_Solution_9af91fe0.py)\n",
        "\n",
        "*Example output:*\n",
        "\n",
        "<img alt='Solution hint' align='left' width=1116.0 height=827.0 src=https://raw.githubusercontent.com/NeuromatchAcademy/course-content/main/tutorials/W1D1_ModelTypes/static/W1D1_Tutorial1_Solution_9af91fe0_0.png>\n",
        "\n"
      ]
    },
    {
      "cell_type": "markdown",
      "metadata": {
        "execution": {},
        "id": "wdcW6dV-R_PF"
      },
      "source": [
        "\n",
        "*Bonus:* The median is the 50th percentile. What about other percentiles? Can you show the interquartile range on the histogram?"
      ]
    },
    {
      "cell_type": "markdown",
      "metadata": {
        "execution": {},
        "id": "TT5zaJfPR_PG"
      },
      "source": [
        "---\n",
        "\n",
        "# Section 2: Visualizing neuronal spiking activity\n",
        "\n",
        "*Estimated timing to here from start of tutorial: 15 min*"
      ]
    },
    {
      "cell_type": "markdown",
      "metadata": {
        "execution": {},
        "id": "VaF4_o2sR_PG"
      },
      "source": [
        "## Section 2.1: Getting a subset of the data\n",
        "\n",
        "Now we'll visualize trains of spikes. Because the recordings are long, we will first define a short time interval and restrict the visualization to only the spikes in this interval. We defined a helper function, `restrict_spike_times`, to do this for you. If you call `help()` on the function, it will tell you a little bit about itself:"
      ]
    },
    {
      "cell_type": "code",
      "execution_count": null,
      "metadata": {
        "cellView": "form",
        "execution": {},
        "id": "WQEnWq_RR_PG"
      },
      "outputs": [],
      "source": [
        "# @markdown Execute this cell for helper function `restrict_spike_times`\n",
        "def restrict_spike_times(spike_times, interval):\n",
        "  \"\"\"Given a spike_time dataset, restrict to spikes within given interval.\n",
        "\n",
        "  Args:\n",
        "    spike_times (sequence of np.ndarray): List or array of arrays,\n",
        "      each inner array has spike times for a single neuron.\n",
        "    interval (tuple): Min, max time values; keep min <= t < max.\n",
        "\n",
        "  Returns:\n",
        "    np.ndarray: like `spike_times`, but only within `interval`\n",
        "  \"\"\"\n",
        "  interval_spike_times = []\n",
        "  for spikes in spike_times:\n",
        "    interval_mask = (spikes >= interval[0]) & (spikes < interval[1])\n",
        "    interval_spike_times.append(spikes[interval_mask])\n",
        "  return np.array(interval_spike_times, object)"
      ]
    },
    {
      "cell_type": "code",
      "execution_count": null,
      "metadata": {
        "execution": {},
        "pycharm": {
          "name": "#%%\n"
        },
        "id": "VAj-aUU5R_PH",
        "outputId": "328b8f35-932c-4844-cf89-d42987080e60",
        "colab": {
          "base_uri": "https://localhost:8080/"
        }
      },
      "outputs": [
        {
          "output_type": "stream",
          "name": "stdout",
          "text": [
            "Help on function restrict_spike_times in module __main__:\n",
            "\n",
            "restrict_spike_times(spike_times, interval)\n",
            "    Given a spike_time dataset, restrict to spikes within given interval.\n",
            "    \n",
            "    Args:\n",
            "      spike_times (sequence of np.ndarray): List or array of arrays,\n",
            "        each inner array has spike times for a single neuron.\n",
            "      interval (tuple): Min, max time values; keep min <= t < max.\n",
            "    \n",
            "    Returns:\n",
            "      np.ndarray: like `spike_times`, but only within `interval`\n",
            "\n"
          ]
        }
      ],
      "source": [
        "help(restrict_spike_times)"
      ]
    },
    {
      "cell_type": "code",
      "execution_count": null,
      "metadata": {
        "execution": {},
        "pycharm": {
          "name": "#%%\n"
        },
        "id": "lhPyRCH5R_PI"
      },
      "outputs": [],
      "source": [
        "t_interval = (5, 15)  # units are seconds after start of recording\n",
        "interval_spike_times = restrict_spike_times(spike_times, t_interval)"
      ]
    },
    {
      "cell_type": "markdown",
      "metadata": {
        "execution": {},
        "id": "Yj6NFyWLR_PI"
      },
      "source": [
        "Is this a representative interval? What fraction of the total spikes fall in this interval?"
      ]
    },
    {
      "cell_type": "code",
      "execution_count": null,
      "metadata": {
        "execution": {},
        "pycharm": {
          "name": "#%%\n"
        },
        "id": "HvYGFpIfR_PI",
        "outputId": "f91a00d8-04e9-428c-b895-6f0c3145f73f",
        "colab": {
          "base_uri": "https://localhost:8080/"
        }
      },
      "outputs": [
        {
          "output_type": "stream",
          "name": "stdout",
          "text": [
            "0.33% of the total spikes are in the interval\n"
          ]
        }
      ],
      "source": [
        "original_counts = sum([len(spikes) for spikes in spike_times])\n",
        "interval_counts = sum([len(spikes) for spikes in interval_spike_times])\n",
        "frac_interval_spikes = interval_counts / original_counts\n",
        "print(f\"{frac_interval_spikes:.2%} of the total spikes are in the interval\")"
      ]
    },
    {
      "cell_type": "markdown",
      "metadata": {
        "execution": {},
        "id": "sr6HTlvbR_PJ"
      },
      "source": [
        "How does this compare to the ratio between the interval duration and the experiment duration? (What fraction of the total time is in this interval?)\n",
        "\n",
        "We can approximate the experiment duration by taking the minimum and maximum spike time in the whole dataset. To do that, we \"concatenate\" all of the neurons into one array and then use `np.ptp` (\"peak-to-peak\") to get the difference between the maximum and minimum value:"
      ]
    },
    {
      "cell_type": "code",
      "execution_count": null,
      "metadata": {
        "execution": {},
        "pycharm": {
          "name": "#%%\n"
        },
        "id": "InnM-Y18R_PJ",
        "outputId": "c62853c1-377b-40a0-9954-b74ab18f7255",
        "colab": {
          "base_uri": "https://localhost:8080/"
        }
      },
      "outputs": [
        {
          "output_type": "stream",
          "name": "stdout",
          "text": [
            "0.37% of the total time is in the interval\n"
          ]
        }
      ],
      "source": [
        "spike_times_flat = np.concatenate(spike_times)\n",
        "experiment_duration = np.ptp(spike_times_flat)\n",
        "interval_duration = t_interval[1] - t_interval[0]\n",
        "\n",
        "frac_interval_time = interval_duration / experiment_duration\n",
        "print(f\"{frac_interval_time:.2%} of the total time is in the interval\")"
      ]
    },
    {
      "cell_type": "markdown",
      "metadata": {
        "execution": {},
        "id": "LYWahVWbR_PJ"
      },
      "source": [
        "These two values—the fraction of total spikes and the fraction of total time—are similar. This suggests the average spike rate of the neuronal population is not very different in this interval compared to the entire recording.\n",
        "\n",
        "## Section 2.2: Plotting spike trains and rasters\n",
        "\n",
        "Now that we have a representative subset, we're ready to plot the spikes, using the matplotlib `plt.eventplot` function. Let's look at a single neuron first:"
      ]
    },
    {
      "cell_type": "code",
      "execution_count": null,
      "metadata": {
        "execution": {},
        "pycharm": {
          "name": "#%%\n"
        },
        "id": "HCCTC3WTR_PK",
        "outputId": "29565fa6-5f66-44de-8838-33ec9c6f193b",
        "colab": {
          "base_uri": "https://localhost:8080/",
          "height": 431
        }
      },
      "outputs": [
        {
          "output_type": "display_data",
          "data": {
            "text/plain": [
              "<Figure size 576x432 with 1 Axes>"
            ],
            "image/png": "[encoded data removed]"
          },
          "metadata": {
            "image/png": {
              "width": 557,
              "height": 414
            },
            "needs_background": "light"
          }
        }
      ],
      "source": [
        "neuron_idx = 1\n",
        "plt.eventplot(interval_spike_times[neuron_idx], color=\".2\")\n",
        "plt.xlabel(\"Time (s)\")\n",
        "plt.yticks([]);"
      ]
    },
    {
      "cell_type": "markdown",
      "metadata": {
        "execution": {},
        "id": "siitVtqwR_PM"
      },
      "source": [
        "We can also plot multiple neurons. Here are three:"
      ]
    },
    {
      "cell_type": "code",
      "execution_count": null,
      "metadata": {
        "execution": {},
        "pycharm": {
          "name": "#%%\n"
        },
        "id": "3DyJcOKjR_PN",
        "outputId": "cccb3397-c8ef-41be-8fed-5eed765843e6",
        "colab": {
          "base_uri": "https://localhost:8080/",
          "height": 430
        }
      },
      "outputs": [
        {
          "output_type": "display_data",
          "data": {
            "text/plain": [
              "<Figure size 576x432 with 1 Axes>"
            ],
            "image/png": "[encoded data removed]"
          },
          "metadata": {
            "image/png": {
              "width": 557,
              "height": 413
            },
            "needs_background": "light"
          }
        }
      ],
      "source": [
        "neuron_idx = [1, 11, 51]\n",
        "plt.eventplot(interval_spike_times[neuron_idx], color=\".2\")\n",
        "plt.xlabel(\"Time (s)\")\n",
        "plt.yticks([]);"
      ]
    },
    {
      "cell_type": "markdown",
      "metadata": {
        "execution": {},
        "id": "8ZDVYV3jR_PN"
      },
      "source": [
        "This makes a \"raster\" plot, where the spikes from each neuron appear in a different row.\n",
        "\n",
        "Plotting a large number of neurons can give you a sense for the characteristics in the population. Let's show every 5th neuron that was recorded:"
      ]
    },
    {
      "cell_type": "code",
      "execution_count": null,
      "metadata": {
        "execution": {},
        "pycharm": {
          "name": "#%%\n"
        },
        "id": "T7HKk7oXR_PP",
        "outputId": "e2b77818-3bda-4b12-8764-7309611d0f1d",
        "colab": {
          "base_uri": "https://localhost:8080/",
          "height": 430
        }
      },
      "outputs": [
        {
          "output_type": "display_data",
          "data": {
            "text/plain": [
              "<Figure size 576x432 with 1 Axes>"
            ],
            "image/png": "[encoded data removed]"
          },
          "metadata": {
            "image/png": {
              "width": 558,
              "height": 413
            },
            "needs_background": "light"
          }
        }
      ],
      "source": [
        "neuron_idx = np.arange(0, len(spike_times), 5)\n",
        "plt.eventplot(interval_spike_times[neuron_idx], color=\".2\")\n",
        "plt.xlabel(\"Time (s)\")\n",
        "plt.yticks([]);"
      ]
    },
    {
      "cell_type": "markdown",
      "metadata": {
        "execution": {},
        "id": "pxeLROuoR_PQ"
      },
      "source": [
        "*Question*: How does the information in this plot relate to the histogram of total spike counts that you saw above?"
      ]
    },
    {
      "cell_type": "markdown",
      "metadata": {
        "execution": {},
        "id": "8c6_KC1sR_PR"
      },
      "source": [
        "[*Click for solution*](https://github.com/NeuromatchAcademy/course-content/tree/main//tutorials/W1D1_ModelTypes/solutions/W1D1_Tutorial1_Solution_b01195c9.py)\n",
        "\n"
      ]
    },
    {
      "cell_type": "code",
      "execution_count": null,
      "metadata": {
        "cellView": "form",
        "execution": {},
        "id": "WEiEVddSR_PR"
      },
      "outputs": [],
      "source": [
        "# @title Video 3: Visualizing activity\n",
        "from ipywidgets import widgets\n",
        "\n",
        "out2 = widgets.Output()\n",
        "with out2:\n",
        "  from IPython.display import IFrame\n",
        "  class BiliVideo(IFrame):\n",
        "      def __init__(self, id, page=1, width=400, height=300, **kwargs):\n",
        "          self.id=id\n",
        "          src = 'https://player.bilibili.com/player.html?bvid={0}&page={1}'.format(id, page)\n",
        "          super(BiliVideo, self).__init__(src, width, height, **kwargs)\n",
        "\n",
        "  video = BiliVideo(id=\"BV1dt4y1Q7C5\", width=854, height=480, fs=1)\n",
        "  print('Video available at https://www.bilibili.com/video/{0}'.format(video.id))\n",
        "  display(video)\n",
        "\n",
        "out1 = widgets.Output()\n",
        "with out1:\n",
        "  from IPython.display import YouTubeVideo\n",
        "  video = YouTubeVideo(id=\"QGA5FCW7kkA\", width=854, height=480, fs=1, rel=0)\n",
        "  print('Video available at https://youtube.com/watch?v=' + video.id)\n",
        "  display(video)\n",
        "\n",
        "out = widgets.Tab([out1, out2])\n",
        "out.set_title(0, 'Youtube')\n",
        "out.set_title(1, 'Bilibili')\n",
        "\n",
        "display(out)"
      ]
    },
    {
      "cell_type": "markdown",
      "metadata": {
        "execution": {},
        "id": "EWRwbUvIR_PR"
      },
      "source": [
        "---\n",
        "\n",
        "# Section 3: Inter-spike intervals and their distributions\n",
        "\n",
        "*Estimated timing to here from start of tutorial: 25 min*"
      ]
    },
    {
      "cell_type": "markdown",
      "metadata": {
        "execution": {},
        "id": "XjOOZzM8R_PS"
      },
      "source": [
        "Given the ordered arrays of spike times for each neuron in `spike_times`, which we've just visualized, what can we ask next?\n",
        "\n",
        "Scientific questions are informed by existing models. So, what knowledge do we already have that can inform questions about this data?\n",
        "\n",
        "We know that there are physical constraints on neuron spiking. Spiking costs energy, which the neuron's cellular machinery can only obtain at a finite rate. Therefore neurons should have a refractory period: they can only fire as quickly as their metabolic processes can support, and there is a minimum delay between consecutive spikes of the same neuron.\n",
        "\n",
        "More generally, we can ask \"how long does a neuron wait to spike again?\" or \"what is the longest a neuron will wait?\" Can we transform spike times into something else, to address questions like these more directly?\n",
        "\n",
        "We can consider the inter-spike times (or interspike intervals: ISIs). These are simply the time differences between consecutive spikes of the same neuron.\n",
        "\n",
        "### Exercise 3: Plot the distribution of ISIs for a single neuron\n",
        "\n",
        "*Exercise objective:* make a histogram, like we did for spike counts, to show the distribution of ISIs for one of the neurons in the dataset.\n",
        "\n",
        "Do this in three steps:\n",
        "\n",
        "1. Extract the spike times for one of the neurons\n",
        "2. Compute the ISIs (the amount of time between spikes, or equivalently, the difference between adjacent spike times)\n",
        "3. Plot a histogram with the array of individual ISIs"
      ]
    },
    {
      "cell_type": "code",
      "execution_count": null,
      "metadata": {
        "execution": {},
        "pycharm": {
          "name": "#%%\n"
        },
        "id": "ydy5Q2v2R_PT",
        "outputId": "e24e43e9-f482-42d0-8dcc-7fe22c4350d1",
        "colab": {
          "base_uri": "https://localhost:8080/",
          "height": 430
        }
      },
      "outputs": [
        {
          "output_type": "display_data",
          "data": {
            "text/plain": [
              "<Figure size 576x432 with 1 Axes>"
            ],
            "image/png": "[encoded data removed]"
          },
          "metadata": {
            "image/png": {
              "width": 558,
              "height": 413
            },
            "needs_background": "light"
          }
        }
      ],
      "source": [
        "def compute_single_neuron_isis(spike_times, neuron_idx):\n",
        "  \"\"\"Compute a vector of ISIs for a single neuron given spike times.\n",
        "\n",
        "  Args:\n",
        "    spike_times (list of 1D arrays): Spike time dataset, with the first\n",
        "      dimension corresponding to different neurons.\n",
        "    neuron_idx (int): Index of the unit to compute ISIs for.\n",
        "\n",
        "  Returns:\n",
        "    isis (1D array): Duration of time between each spike from one neuron.\n",
        "  \"\"\"\n",
        "  #############################################################################\n",
        "  # Students: Fill in missing code (...) and comment or remove the next line\n",
        "  # raise NotImplementedError(\"Exercise: compute single neuron ISIs\")\n",
        "  #############################################################################\n",
        "\n",
        "  # Extract the spike times for the specified neuron\n",
        "  single_neuron_spikes = spike_times[neuron_idx]\n",
        "\n",
        "  # Compute the ISIs for this set of spikes\n",
        "  # Hint: the function np.diff computes discrete differences along an array\n",
        "  isis = np.diff(single_neuron_spikes)\n",
        "\n",
        "  return isis\n",
        "\n",
        "# Compute ISIs\n",
        "single_neuron_isis = compute_single_neuron_isis(spike_times, neuron_idx=283)\n",
        "\n",
        "# Visualize ISIs\n",
        "plot_isis(single_neuron_isis)"
      ]
    },
    {
      "cell_type": "markdown",
      "metadata": {
        "execution": {},
        "pycharm": {
          "name": "#%%\n"
        },
        "id": "sgjlVczvR_PT"
      },
      "source": [
        "[*Click for solution*](https://github.com/NeuromatchAcademy/course-content/tree/main//tutorials/W1D1_ModelTypes/solutions/W1D1_Tutorial1_Solution_2972c168.py)\n",
        "\n",
        "*Example output:*\n",
        "\n",
        "<img alt='Solution hint' align='left' width=1116.0 height=828.0 src=https://raw.githubusercontent.com/NeuromatchAcademy/course-content/main/tutorials/W1D1_ModelTypes/static/W1D1_Tutorial1_Solution_2972c168_0.png>\n",
        "\n"
      ]
    },
    {
      "cell_type": "markdown",
      "metadata": {
        "execution": {},
        "id": "mSgGHzCpR_PU"
      },
      "source": [
        "---\n",
        "\n",
        "In general, the shorter ISIs are predominant, with counts decreasing rapidly (and smoothly, more or less) with increasing ISI. However, counts also rapidly decrease to zero with _decreasing_ ISI below the maximum of the distribution (8-11 ms). The absence of these very low ISIs agrees with the refractory period hypothesis: the neuron cannot fire quickly enough to populate this region of the ISI distribution.\n",
        "\n",
        "Check the distributions of some other neurons. To resolve various features of the distributions, you might need to play with the value of `bins` in the call to `plt.hist`. Using too few bins might smooth over interesting details, but if you use too many bins, the random variability will start to dominate.\n",
        "\n",
        "You might also want to restrict the range to see the shape of the distribution when focusing on relatively short or long ISIs. *Hint:* `plt.hist` takes a `range` argument"
      ]
    },
    {
      "cell_type": "markdown",
      "metadata": {
        "execution": {},
        "id": "wOnP9TFhR_PV"
      },
      "source": [
        "---\n",
        "\n",
        "# Section 4: What is the functional form of an ISI distribution?\n",
        "\n",
        "*Estimated timing to here from start of tutorial: 35 min*"
      ]
    },
    {
      "cell_type": "code",
      "execution_count": null,
      "metadata": {
        "cellView": "form",
        "execution": {},
        "id": "UOVg4gyCR_PX"
      },
      "outputs": [],
      "source": [
        "# @title Video 4: ISI distribution\n",
        "from ipywidgets import widgets\n",
        "\n",
        "out2 = widgets.Output()\n",
        "with out2:\n",
        "  from IPython.display import IFrame\n",
        "  class BiliVideo(IFrame):\n",
        "      def __init__(self, id, page=1, width=400, height=300, **kwargs):\n",
        "          self.id=id\n",
        "          src = 'https://player.bilibili.com/player.html?bvid={0}&page={1}'.format(id, page)\n",
        "          super(BiliVideo, self).__init__(src, width, height, **kwargs)\n",
        "\n",
        "  video = BiliVideo(id=\"BV1ov411B7Pm\", width=854, height=480, fs=1)\n",
        "  print('Video available at https://www.bilibili.com/video/{0}'.format(video.id))\n",
        "  display(video)\n",
        "\n",
        "out1 = widgets.Output()\n",
        "with out1:\n",
        "  from IPython.display import YouTubeVideo\n",
        "  video = YouTubeVideo(id=\"DHhM80MOTe8\", width=854, height=480, fs=1, rel=0)\n",
        "  print('Video available at https://youtube.com/watch?v=' + video.id)\n",
        "  display(video)\n",
        "\n",
        "out = widgets.Tab([out1, out2])\n",
        "out.set_title(0, 'Youtube')\n",
        "out.set_title(1, 'Bilibili')\n",
        "\n",
        "display(out)"
      ]
    },
    {
      "cell_type": "markdown",
      "metadata": {
        "execution": {},
        "id": "XhR6DC7jR_QD"
      },
      "source": [
        "The ISI histograms seem to follow continuous, monotonically decreasing functions above their maxima. The function is clearly non-linear. Could it belong to a single family of functions?\n",
        "\n",
        "To motivate the idea of using a mathematical function to explain physiological phenomena, let's define a few different function forms that we might expect the relationship to follow: exponential, inverse, and linear."
      ]
    },
    {
      "cell_type": "code",
      "execution_count": null,
      "metadata": {
        "execution": {},
        "pycharm": {
          "name": "#%%\n"
        },
        "id": "_mbkq2D0R_QE"
      },
      "outputs": [],
      "source": [
        "def exponential(xs, scale, rate, x0):\n",
        "  \"\"\"A simple parameterized exponential function, applied element-wise.\n",
        "\n",
        "  Args:\n",
        "    xs (np.ndarray or float): Input(s) to the function.\n",
        "    scale (float): Linear scaling factor.\n",
        "    rate (float): Exponential growth (positive) or decay (negative) rate.\n",
        "    x0 (float): Horizontal offset.\n",
        "\n",
        "  \"\"\"\n",
        "  ys = scale * np.exp(rate * (xs - x0))\n",
        "  return ys\n",
        "\n",
        "def inverse(xs, scale, x0):\n",
        "  \"\"\"A simple parameterized inverse function (`1/x`), applied element-wise.\n",
        "\n",
        "  Args:\n",
        "    xs (np.ndarray or float): Input(s) to the function.\n",
        "    scale (float): Linear scaling factor.\n",
        "    x0 (float): Horizontal offset.\n",
        "\n",
        "  \"\"\"\n",
        "  ys = scale / (xs - x0)\n",
        "  return ys\n",
        "\n",
        "def linear(xs, slope, y0):\n",
        "  \"\"\"A simple linear function, applied element-wise.\n",
        "\n",
        "  Args:\n",
        "    xs (np.ndarray or float): Input(s) to the function.\n",
        "    slope (float): Slope of the line.\n",
        "    y0 (float): y-intercept of the line.\n",
        "\n",
        "  \"\"\"\n",
        "  ys = slope * xs + y0\n",
        "  return ys"
      ]
    },
    {
      "cell_type": "markdown",
      "metadata": {
        "execution": {},
        "id": "l9xhhS_8R_QS"
      },
      "source": [
        "### Interactive Demo 4: ISI functions explorer\n",
        "\n",
        "Here is an interactive demo where you can vary the parameters of these functions and see how well the resulting outputs correspond to the data. Adjust the parameters by moving the sliders and see how close you can get the lines to follow the falling curve of the histogram. This will give you a taste of what you're trying to do when you *fit a model* to data.\n",
        "\n",
        "\"Interactive demo\" cells have hidden code that defines an interface where you can play with the parameters of some function using sliders. You don't need to worry about how the code works – but you do need to **run the cell** to enable the sliders.\n",
        "\n",
        "- Which type of function (exponential/inverse/linear) can you make match the data best?\n"
      ]
    },
    {
      "cell_type": "code",
      "execution_count": null,
      "metadata": {
        "cellView": "form",
        "execution": {},
        "pycharm": {
          "name": "#%%\n"
        },
        "id": "6m0L8JJsR_QZ",
        "outputId": "e911d816-1052-41c5-c6bb-2ae3d3282b74",
        "colab": {
          "base_uri": "https://localhost:8080/",
          "height": 654,
          "referenced_widgets": [
            "3db90a4f5745494ab79ac151b39163ca",
            "706ed8debb5b457caed1d456dba59fb1",
            "bf20fb209a344266a1c681c8f96255e2",
            "ac193af882454d15b79e72e0e6f2eefc",
            "17657cd7db7e4bd5b51bd548229168cd",
            "efd17f81528041b1a2b63ba8055f592f",
            "226220da3a604d179dec4385d538a8cc",
            "1283119368a0466b8c39f615c35c94ef",
            "f09caec3cbc0420c8467c96c97c27970",
            "eb772abf8f0c4e098c89b9499b3ee5d0",
            "c8f89743ecd349579f37cde1e19eaa10",
            "aaa9b53d758149739ab97e90dae377ec",
            "b90056a059f04ca5aad187e75f113d65",
            "95773ef8f9e646c0ae1ad10108ed5ec7",
            "294cc09429254651a43f2a81aebb5bfe",
            "c7c3e40f4ce04113aa6302133d9df274",
            "844348ce002741e2a64752399cbfcbb5",
            "2e3979149165411395feacdabf4fa813",
            "3e02416c683b402bbe443a9f9fa4e440",
            "575cca307cc347c6837510c5938e2faa",
            "6ba9a83cc2e6439eabdbd3b093a23262",
            "8fcf5d9469a44532adba1fdc1e568c35",
            "183707cf48864144a839468e95e8af63",
            "9a4bb8f1f10a4d2abb79fda963fc609f",
            "fb1e5edd66614ef3afbcf148787d648e"
          ]
        }
      },
      "outputs": [
        {
          "output_type": "display_data",
          "data": {
            "text/plain": [
              "interactive(children=(FloatSlider(value=1000.0, description='exp_scale', max=20000.0, step=250.0), FloatSlider…"
            ],
            "application/vnd.jupyter.widget-view+json": {
              "version_major": 2,
              "version_minor": 0,
              "model_id": "3db90a4f5745494ab79ac151b39163ca"
            }
          },
          "metadata": {}
        }
      ],
      "source": [
        "#@title\n",
        "\n",
        "#@markdown Be sure to run this cell to enable the demo\n",
        "# Don't worry about understanding this code! It's to setup an interactive plot.\n",
        "single_neuron_idx = 283\n",
        "single_neuron_spikes = spike_times[single_neuron_idx]\n",
        "single_neuron_isis = np.diff(single_neuron_spikes)\n",
        "\n",
        "counts, edges = np.histogram(\n",
        "  single_neuron_isis,\n",
        "  bins=50,\n",
        "  range=(0, single_neuron_isis.max())\n",
        ")\n",
        "\n",
        "functions = dict(\n",
        "  exponential=exponential,\n",
        "  inverse=inverse,\n",
        "  linear=linear,\n",
        ")\n",
        "\n",
        "colors = dict(\n",
        "  exponential=\"C1\",\n",
        "  inverse=\"C2\",\n",
        "  linear=\"C4\",\n",
        ")\n",
        "\n",
        "@widgets.interact(\n",
        "  exp_scale=widgets.FloatSlider(1000, min=0, max=20000, step=250),\n",
        "  exp_rate=widgets.FloatSlider(-10, min=-200, max=50, step=1),\n",
        "  exp_x0=widgets.FloatSlider(0.1, min=-0.5, max=0.5, step=0.005),\n",
        "  inv_scale=widgets.FloatSlider(1000, min=0, max=3e2, step=10),\n",
        "  inv_x0=widgets.FloatSlider(0, min=-0.2, max=0.2, step=0.01),\n",
        "  lin_slope=widgets.FloatSlider(-1e5, min=-6e5, max=1e5, step=10000),\n",
        "  lin_y0=widgets.FloatSlider(10000, min=0, max=4e4, step=1000),\n",
        ")\n",
        "def fit_plot(\n",
        "  exp_scale=1000, exp_rate=-10, exp_x0=0.1,\n",
        "  inv_scale=1000, inv_x0=0,\n",
        "  lin_slope=-1e5, lin_y0=2000,\n",
        "):\n",
        "  \"\"\"Helper function for plotting function fits with interactive sliders.\"\"\"\n",
        "  func_params = dict(\n",
        "    exponential=(exp_scale, exp_rate, exp_x0),\n",
        "    inverse=(inv_scale, inv_x0),\n",
        "    linear=(lin_slope, lin_y0),\n",
        "  )\n",
        "  f, ax = plt.subplots()\n",
        "  ax.fill_between(edges[:-1], counts, step=\"post\", alpha=.5)\n",
        "  xs = np.linspace(1e-10, edges.max())\n",
        "  for name, function in functions.items():\n",
        "    ys = function(xs, *func_params[name])\n",
        "    ax.plot(xs, ys, lw=3, color=colors[name], label=name);\n",
        "  ax.set(\n",
        "      xlim=(edges.min(), edges.max()),\n",
        "      ylim=(0, counts.max() * 1.1),\n",
        "      xlabel=\"ISI (s)\",\n",
        "      ylabel=\"Number of spikes\",\n",
        "  )\n",
        "  ax.legend()"
      ]
    },
    {
      "cell_type": "markdown",
      "metadata": {
        "execution": {},
        "id": "Y2CO6zkxR_Qc"
      },
      "source": [
        "[*Click for solution*](https://github.com/NeuromatchAcademy/course-content/tree/main//tutorials/W1D1_ModelTypes/solutions/W1D1_Tutorial1_Solution_b6cd7761.py)\n",
        "\n"
      ]
    },
    {
      "cell_type": "code",
      "execution_count": null,
      "metadata": {
        "cellView": "form",
        "execution": {},
        "id": "6o44ZuROR_Qf"
      },
      "outputs": [],
      "source": [
        "# @title Video 5: Fitting models by hand\n",
        "from ipywidgets import widgets\n",
        "\n",
        "out2 = widgets.Output()\n",
        "with out2:\n",
        "  from IPython.display import IFrame\n",
        "  class BiliVideo(IFrame):\n",
        "      def __init__(self, id, page=1, width=400, height=300, **kwargs):\n",
        "          self.id=id\n",
        "          src = 'https://player.bilibili.com/player.html?bvid={0}&page={1}'.format(id, page)\n",
        "          super(BiliVideo, self).__init__(src, width, height, **kwargs)\n",
        "\n",
        "  video = BiliVideo(id=\"BV1w54y1S7Eb\", width=854, height=480, fs=1)\n",
        "  print('Video available at https://www.bilibili.com/video/{0}'.format(video.id))\n",
        "  display(video)\n",
        "\n",
        "out1 = widgets.Output()\n",
        "with out1:\n",
        "  from IPython.display import YouTubeVideo\n",
        "  video = YouTubeVideo(id=\"uW2HDk_4-wk\", width=854, height=480, fs=1, rel=0)\n",
        "  print('Video available at https://youtube.com/watch?v=' + video.id)\n",
        "  display(video)\n",
        "\n",
        "out = widgets.Tab([out1, out2])\n",
        "out.set_title(0, 'Youtube')\n",
        "out.set_title(1, 'Bilibili')\n",
        "\n",
        "display(out)"
      ]
    },
    {
      "cell_type": "markdown",
      "metadata": {
        "execution": {},
        "id": "nKvDNtIgR_Qg"
      },
      "source": [
        "---\n",
        "# Section 5: Reflecting on what models\n",
        "\n",
        "*Estimated timing to here from start of tutorial: 40 min*"
      ]
    },
    {
      "cell_type": "markdown",
      "metadata": {
        "execution": {},
        "id": "3lgskAGhR_Qg"
      },
      "source": [
        "## Think! 5: Reflecting on what models\n",
        "\n",
        "Please discuss the following questions for around 10 minutes with your group:\n",
        "- Have you seen what models before?\n",
        "- Have you ever done one?\n",
        "- Why are what models useful?\n",
        "- When are they possible? Does your field have what models?\n",
        "- What do we learn from constructing them?"
      ]
    },
    {
      "cell_type": "markdown",
      "metadata": {
        "execution": {},
        "id": "NI9z36OcR_Qg"
      },
      "source": [
        "---\n",
        "# Summary\n",
        "\n",
        "*Estimated timing of tutorial: 50 minutes*\n",
        "\n",
        "In this tutorial, we loaded some neural data and poked at it to understand how the dataset is organized. Then we made some basic plots to visualize (1) the average level of activity across the population and (2) the distribution of ISIs for an individual neuron. In the very last bit, we started to think about using mathematical formalisms to understand or explain some physiological phenomenon. All of this only allowed us to understand \"What\" the data looks like.\n",
        "\n",
        "This is the first step towards developing models that can tell us something about the brain. That's what we'll focus on in the next two tutorials."
      ]
    }
  ],
  "metadata": {
    "colab": {
      "collapsed_sections": [],
      "name": "Copy of W1D1_Tutorial1",
      "provenance": [],
      "toc_visible": true,
      "include_colab_link": true
    },
    "kernel": {
      "display_name": "Python 3",
      "language": "python",
      "name": "python3"
    },
    "kernelspec": {
      "display_name": "Python 3",
      "name": "python3"
    },
    "language_info": {
      "codemirror_mode": {
        "name": "ipython",
        "version": 3
      },
      "file_extension": ".py",
      "mimetype": "text/x-python",
      "name": "python",
      "nbconvert_exporter": "python",
      "pygments_lexer": "ipython3",
      "version": "3.7.13"
    },
    "widgets": {
      "application/vnd.jupyter.widget-state+json": {
        "3db90a4f5745494ab79ac151b39163ca": {
          "model_module": "@jupyter-widgets/controls",
          "model_name": "VBoxModel",
          "model_module_version": "1.5.0",
          "state": {
            "_dom_classes": [
              "widget-interact"
            ],
            "_model_module": "@jupyter-widgets/controls",
            "_model_module_version": "1.5.0",
            "_model_name": "VBoxModel",
            "_view_count": null,
            "_view_module": "@jupyter-widgets/controls",
            "_view_module_version": "1.5.0",
            "_view_name": "VBoxView",
            "box_style": "",
            "children": [
              "IPY_MODEL_706ed8debb5b457caed1d456dba59fb1",
              "IPY_MODEL_bf20fb209a344266a1c681c8f96255e2",
              "IPY_MODEL_ac193af882454d15b79e72e0e6f2eefc",
              "IPY_MODEL_17657cd7db7e4bd5b51bd548229168cd",
              "IPY_MODEL_efd17f81528041b1a2b63ba8055f592f",
              "IPY_MODEL_226220da3a604d179dec4385d538a8cc",
              "IPY_MODEL_1283119368a0466b8c39f615c35c94ef",
              "IPY_MODEL_f09caec3cbc0420c8467c96c97c27970"
            ],
            "layout": "IPY_MODEL_eb772abf8f0c4e098c89b9499b3ee5d0"
          }
        },
        "706ed8debb5b457caed1d456dba59fb1": {
          "model_module": "@jupyter-widgets/controls",
          "model_name": "FloatSliderModel",
          "model_module_version": "1.5.0",
          "state": {
            "_dom_classes": [],
            "_model_module": "@jupyter-widgets/controls",
            "_model_module_version": "1.5.0",
            "_model_name": "FloatSliderModel",
            "_view_count": null,
            "_view_module": "@jupyter-widgets/controls",
            "_view_module_version": "1.5.0",
            "_view_name": "FloatSliderView",
            "continuous_update": true,
            "description": "exp_scale",
            "description_tooltip": null,
            "disabled": false,
            "layout": "IPY_MODEL_c8f89743ecd349579f37cde1e19eaa10",
            "max": 20000,
            "min": 0,
            "orientation": "horizontal",
            "readout": true,
            "readout_format": ".2f",
            "step": 250,
            "style": "IPY_MODEL_aaa9b53d758149739ab97e90dae377ec",
            "value": 8000
          }
        },
        "bf20fb209a344266a1c681c8f96255e2": {
          "model_module": "@jupyter-widgets/controls",
          "model_name": "FloatSliderModel",
          "model_module_version": "1.5.0",
          "state": {
            "_dom_classes": [],
            "_model_module": "@jupyter-widgets/controls",
            "_model_module_version": "1.5.0",
            "_model_name": "FloatSliderModel",
            "_view_count": null,
            "_view_module": "@jupyter-widgets/controls",
            "_view_module_version": "1.5.0",
            "_view_name": "FloatSliderView",
            "continuous_update": true,
            "description": "exp_rate",
            "description_tooltip": null,
            "disabled": false,
            "layout": "IPY_MODEL_b90056a059f04ca5aad187e75f113d65",
            "max": 50,
            "min": -200,
            "orientation": "horizontal",
            "readout": true,
            "readout_format": ".2f",
            "step": 1,
            "style": "IPY_MODEL_95773ef8f9e646c0ae1ad10108ed5ec7",
            "value": -71
          }
        },
        "ac193af882454d15b79e72e0e6f2eefc": {
          "model_module": "@jupyter-widgets/controls",
          "model_name": "FloatSliderModel",
          "model_module_version": "1.5.0",
          "state": {
            "_dom_classes": [],
            "_model_module": "@jupyter-widgets/controls",
            "_model_module_version": "1.5.0",
            "_model_name": "FloatSliderModel",
            "_view_count": null,
            "_view_module": "@jupyter-widgets/controls",
            "_view_module_version": "1.5.0",
            "_view_name": "FloatSliderView",
            "continuous_update": true,
            "description": "exp_x0",
            "description_tooltip": null,
            "disabled": false,
            "layout": "IPY_MODEL_294cc09429254651a43f2a81aebb5bfe",
            "max": 0.5,
            "min": -0.5,
            "orientation": "horizontal",
            "readout": true,
            "readout_format": ".2f",
            "step": 0.005,
            "style": "IPY_MODEL_c7c3e40f4ce04113aa6302133d9df274",
            "value": 0.05
          }
        },
        "17657cd7db7e4bd5b51bd548229168cd": {
          "model_module": "@jupyter-widgets/controls",
          "model_name": "FloatSliderModel",
          "model_module_version": "1.5.0",
          "state": {
            "_dom_classes": [],
            "_model_module": "@jupyter-widgets/controls",
            "_model_module_version": "1.5.0",
            "_model_name": "FloatSliderModel",
            "_view_count": null,
            "_view_module": "@jupyter-widgets/controls",
            "_view_module_version": "1.5.0",
            "_view_name": "FloatSliderView",
            "continuous_update": true,
            "description": "inv_scale",
            "description_tooltip": null,
            "disabled": false,
            "layout": "IPY_MODEL_844348ce002741e2a64752399cbfcbb5",
            "max": 300,
            "min": 0,
            "orientation": "horizontal",
            "readout": true,
            "readout_format": ".2f",
            "step": 10,
            "style": "IPY_MODEL_2e3979149165411395feacdabf4fa813",
            "value": 300
          }
        },
        "efd17f81528041b1a2b63ba8055f592f": {
          "model_module": "@jupyter-widgets/controls",
          "model_name": "FloatSliderModel",
          "model_module_version": "1.5.0",
          "state": {
            "_dom_classes": [],
            "_model_module": "@jupyter-widgets/controls",
            "_model_module_version": "1.5.0",
            "_model_name": "FloatSliderModel",
            "_view_count": null,
            "_view_module": "@jupyter-widgets/controls",
            "_view_module_version": "1.5.0",
            "_view_name": "FloatSliderView",
            "continuous_update": true,
            "description": "inv_x0",
            "description_tooltip": null,
            "disabled": false,
            "layout": "IPY_MODEL_3e02416c683b402bbe443a9f9fa4e440",
            "max": 0.2,
            "min": -0.2,
            "orientation": "horizontal",
            "readout": true,
            "readout_format": ".2f",
            "step": 0.01,
            "style": "IPY_MODEL_575cca307cc347c6837510c5938e2faa",
            "value": 0
          }
        },
        "226220da3a604d179dec4385d538a8cc": {
          "model_module": "@jupyter-widgets/controls",
          "model_name": "FloatSliderModel",
          "model_module_version": "1.5.0",
          "state": {
            "_dom_classes": [],
            "_model_module": "@jupyter-widgets/controls",
            "_model_module_version": "1.5.0",
            "_model_name": "FloatSliderModel",
            "_view_count": null,
            "_view_module": "@jupyter-widgets/controls",
            "_view_module_version": "1.5.0",
            "_view_name": "FloatSliderView",
            "continuous_update": true,
            "description": "lin_slope",
            "description_tooltip": null,
            "disabled": false,
            "layout": "IPY_MODEL_6ba9a83cc2e6439eabdbd3b093a23262",
            "max": 100000,
            "min": -600000,
            "orientation": "horizontal",
            "readout": true,
            "readout_format": ".2f",
            "step": 10000,
            "style": "IPY_MODEL_8fcf5d9469a44532adba1fdc1e568c35",
            "value": -100000
          }
        },
        "1283119368a0466b8c39f615c35c94ef": {
          "model_module": "@jupyter-widgets/controls",
          "model_name": "FloatSliderModel",
          "model_module_version": "1.5.0",
          "state": {
            "_dom_classes": [],
            "_model_module": "@jupyter-widgets/controls",
            "_model_module_version": "1.5.0",
            "_model_name": "FloatSliderModel",
            "_view_count": null,
            "_view_module": "@jupyter-widgets/controls",
            "_view_module_version": "1.5.0",
            "_view_name": "FloatSliderView",
            "continuous_update": true,
            "description": "lin_y0",
            "description_tooltip": null,
            "disabled": false,
            "layout": "IPY_MODEL_183707cf48864144a839468e95e8af63",
            "max": 40000,
            "min": 0,
            "orientation": "horizontal",
            "readout": true,
            "readout_format": ".2f",
            "step": 1000,
            "style": "IPY_MODEL_9a4bb8f1f10a4d2abb79fda963fc609f",
            "value": 10000
          }
        },
        "f09caec3cbc0420c8467c96c97c27970": {
          "model_module": "@jupyter-widgets/output",
          "model_name": "OutputModel",
          "model_module_version": "1.0.0",
          "state": {
            "_dom_classes": [],
            "_model_module": "@jupyter-widgets/output",
            "_model_module_version": "1.0.0",
            "_model_name": "OutputModel",
            "_view_count": null,
            "_view_module": "@jupyter-widgets/output",
            "_view_module_version": "1.0.0",
            "_view_name": "OutputView",
            "layout": "IPY_MODEL_fb1e5edd66614ef3afbcf148787d648e",
            "msg_id": "",
            "outputs": [
              {
                "output_type": "display_data",
                "data": {
                  "text/plain": "<Figure size 576x432 with 1 Axes>",
                  "image/png": "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\n"
                },
                "metadata": {
                  "image/png": {
                    "width": 558,
                    "height": 413
                  },
                  "needs_background": "light"
                }
              }
            ]
          }
        },
        "eb772abf8f0c4e098c89b9499b3ee5d0": {
          "model_module": "@jupyter-widgets/base",
          "model_name": "LayoutModel",
          "model_module_version": "1.2.0",
          "state": {
            "_model_module": "@jupyter-widgets/base",
            "_model_module_version": "1.2.0",
            "_model_name": "LayoutModel",
            "_view_count": null,
            "_view_module": "@jupyter-widgets/base",
            "_view_module_version": "1.2.0",
            "_view_name": "LayoutView",
            "align_content": null,
            "align_items": null,
            "align_self": null,
            "border": null,
            "bottom": null,
            "display": null,
            "flex": null,
            "flex_flow": null,
            "grid_area": null,
            "grid_auto_columns": null,
            "grid_auto_flow": null,
            "grid_auto_rows": null,
            "grid_column": null,
            "grid_gap": null,
            "grid_row": null,
            "grid_template_areas": null,
            "grid_template_columns": null,
            "grid_template_rows": null,
            "height": null,
            "justify_content": null,
            "justify_items": null,
            "left": null,
            "margin": null,
            "max_height": null,
            "max_width": null,
            "min_height": null,
            "min_width": null,
            "object_fit": null,
            "object_position": null,
            "order": null,
            "overflow": null,
            "overflow_x": null,
            "overflow_y": null,
            "padding": null,
            "right": null,
            "top": null,
            "visibility": null,
            "width": null
          }
        },
        "c8f89743ecd349579f37cde1e19eaa10": {
          "model_module": "@jupyter-widgets/base",
          "model_name": "LayoutModel",
          "model_module_version": "1.2.0",
          "state": {
            "_model_module": "@jupyter-widgets/base",
            "_model_module_version": "1.2.0",
            "_model_name": "LayoutModel",
            "_view_count": null,
            "_view_module": "@jupyter-widgets/base",
            "_view_module_version": "1.2.0",
            "_view_name": "LayoutView",
            "align_content": null,
            "align_items": null,
            "align_self": null,
            "border": null,
            "bottom": null,
            "display": null,
            "flex": null,
            "flex_flow": null,
            "grid_area": null,
            "grid_auto_columns": null,
            "grid_auto_flow": null,
            "grid_auto_rows": null,
            "grid_column": null,
            "grid_gap": null,
            "grid_row": null,
            "grid_template_areas": null,
            "grid_template_columns": null,
            "grid_template_rows": null,
            "height": null,
            "justify_content": null,
            "justify_items": null,
            "left": null,
            "margin": null,
            "max_height": null,
            "max_width": null,
            "min_height": null,
            "min_width": null,
            "object_fit": null,
            "object_position": null,
            "order": null,
            "overflow": null,
            "overflow_x": null,
            "overflow_y": null,
            "padding": null,
            "right": null,
            "top": null,
            "visibility": null,
            "width": null
          }
        },
        "aaa9b53d758149739ab97e90dae377ec": {
          "model_module": "@jupyter-widgets/controls",
          "model_name": "SliderStyleModel",
          "model_module_version": "1.5.0",
          "state": {
            "_model_module": "@jupyter-widgets/controls",
            "_model_module_version": "1.5.0",
            "_model_name": "SliderStyleModel",
            "_view_count": null,
            "_view_module": "@jupyter-widgets/base",
            "_view_module_version": "1.2.0",
            "_view_name": "StyleView",
            "description_width": "",
            "handle_color": null
          }
        },
        "b90056a059f04ca5aad187e75f113d65": {
          "model_module": "@jupyter-widgets/base",
          "model_name": "LayoutModel",
          "model_module_version": "1.2.0",
          "state": {
            "_model_module": "@jupyter-widgets/base",
            "_model_module_version": "1.2.0",
            "_model_name": "LayoutModel",
            "_view_count": null,
            "_view_module": "@jupyter-widgets/base",
            "_view_module_version": "1.2.0",
            "_view_name": "LayoutView",
            "align_content": null,
            "align_items": null,
            "align_self": null,
            "border": null,
            "bottom": null,
            "display": null,
            "flex": null,
            "flex_flow": null,
            "grid_area": null,
            "grid_auto_columns": null,
            "grid_auto_flow": null,
            "grid_auto_rows": null,
            "grid_column": null,
            "grid_gap": null,
            "grid_row": null,
            "grid_template_areas": null,
            "grid_template_columns": null,
            "grid_template_rows": null,
            "height": null,
            "justify_content": null,
            "justify_items": null,
            "left": null,
            "margin": null,
            "max_height": null,
            "max_width": null,
            "min_height": null,
            "min_width": null,
            "object_fit": null,
            "object_position": null,
            "order": null,
            "overflow": null,
            "overflow_x": null,
            "overflow_y": null,
            "padding": null,
            "right": null,
            "top": null,
            "visibility": null,
            "width": null
          }
        },
        "95773ef8f9e646c0ae1ad10108ed5ec7": {
          "model_module": "@jupyter-widgets/controls",
          "model_name": "SliderStyleModel",
          "model_module_version": "1.5.0",
          "state": {
            "_model_module": "@jupyter-widgets/controls",
            "_model_module_version": "1.5.0",
            "_model_name": "SliderStyleModel",
            "_view_count": null,
            "_view_module": "@jupyter-widgets/base",
            "_view_module_version": "1.2.0",
            "_view_name": "StyleView",
            "description_width": "",
            "handle_color": null
          }
        },
        "294cc09429254651a43f2a81aebb5bfe": {
          "model_module": "@jupyter-widgets/base",
          "model_name": "LayoutModel",
          "model_module_version": "1.2.0",
          "state": {
            "_model_module": "@jupyter-widgets/base",
            "_model_module_version": "1.2.0",
            "_model_name": "LayoutModel",
            "_view_count": null,
            "_view_module": "@jupyter-widgets/base",
            "_view_module_version": "1.2.0",
            "_view_name": "LayoutView",
            "align_content": null,
            "align_items": null,
            "align_self": null,
            "border": null,
            "bottom": null,
            "display": null,
            "flex": null,
            "flex_flow": null,
            "grid_area": null,
            "grid_auto_columns": null,
            "grid_auto_flow": null,
            "grid_auto_rows": null,
            "grid_column": null,
            "grid_gap": null,
            "grid_row": null,
            "grid_template_areas": null,
            "grid_template_columns": null,
            "grid_template_rows": null,
            "height": null,
            "justify_content": null,
            "justify_items": null,
            "left": null,
            "margin": null,
            "max_height": null,
            "max_width": null,
            "min_height": null,
            "min_width": null,
            "object_fit": null,
            "object_position": null,
            "order": null,
            "overflow": null,
            "overflow_x": null,
            "overflow_y": null,
            "padding": null,
            "right": null,
            "top": null,
            "visibility": null,
            "width": null
          }
        },
        "c7c3e40f4ce04113aa6302133d9df274": {
          "model_module": "@jupyter-widgets/controls",
          "model_name": "SliderStyleModel",
          "model_module_version": "1.5.0",
          "state": {
            "_model_module": "@jupyter-widgets/controls",
            "_model_module_version": "1.5.0",
            "_model_name": "SliderStyleModel",
            "_view_count": null,
            "_view_module": "@jupyter-widgets/base",
            "_view_module_version": "1.2.0",
            "_view_name": "StyleView",
            "description_width": "",
            "handle_color": null
          }
        },
        "844348ce002741e2a64752399cbfcbb5": {
          "model_module": "@jupyter-widgets/base",
          "model_name": "LayoutModel",
          "model_module_version": "1.2.0",
          "state": {
            "_model_module": "@jupyter-widgets/base",
            "_model_module_version": "1.2.0",
            "_model_name": "LayoutModel",
            "_view_count": null,
            "_view_module": "@jupyter-widgets/base",
            "_view_module_version": "1.2.0",
            "_view_name": "LayoutView",
            "align_content": null,
            "align_items": null,
            "align_self": null,
            "border": null,
            "bottom": null,
            "display": null,
            "flex": null,
            "flex_flow": null,
            "grid_area": null,
            "grid_auto_columns": null,
            "grid_auto_flow": null,
            "grid_auto_rows": null,
            "grid_column": null,
            "grid_gap": null,
            "grid_row": null,
            "grid_template_areas": null,
            "grid_template_columns": null,
            "grid_template_rows": null,
            "height": null,
            "justify_content": null,
            "justify_items": null,
            "left": null,
            "margin": null,
            "max_height": null,
            "max_width": null,
            "min_height": null,
            "min_width": null,
            "object_fit": null,
            "object_position": null,
            "order": null,
            "overflow": null,
            "overflow_x": null,
            "overflow_y": null,
            "padding": null,
            "right": null,
            "top": null,
            "visibility": null,
            "width": null
          }
        },
        "2e3979149165411395feacdabf4fa813": {
          "model_module": "@jupyter-widgets/controls",
          "model_name": "SliderStyleModel",
          "model_module_version": "1.5.0",
          "state": {
            "_model_module": "@jupyter-widgets/controls",
            "_model_module_version": "1.5.0",
            "_model_name": "SliderStyleModel",
            "_view_count": null,
            "_view_module": "@jupyter-widgets/base",
            "_view_module_version": "1.2.0",
            "_view_name": "StyleView",
            "description_width": "",
            "handle_color": null
          }
        },
        "3e02416c683b402bbe443a9f9fa4e440": {
          "model_module": "@jupyter-widgets/base",
          "model_name": "LayoutModel",
          "model_module_version": "1.2.0",
          "state": {
            "_model_module": "@jupyter-widgets/base",
            "_model_module_version": "1.2.0",
            "_model_name": "LayoutModel",
            "_view_count": null,
            "_view_module": "@jupyter-widgets/base",
            "_view_module_version": "1.2.0",
            "_view_name": "LayoutView",
            "align_content": null,
            "align_items": null,
            "align_self": null,
            "border": null,
            "bottom": null,
            "display": null,
            "flex": null,
            "flex_flow": null,
            "grid_area": null,
            "grid_auto_columns": null,
            "grid_auto_flow": null,
            "grid_auto_rows": null,
            "grid_column": null,
            "grid_gap": null,
            "grid_row": null,
            "grid_template_areas": null,
            "grid_template_columns": null,
            "grid_template_rows": null,
            "height": null,
            "justify_content": null,
            "justify_items": null,
            "left": null,
            "margin": null,
            "max_height": null,
            "max_width": null,
            "min_height": null,
            "min_width": null,
            "object_fit": null,
            "object_position": null,
            "order": null,
            "overflow": null,
            "overflow_x": null,
            "overflow_y": null,
            "padding": null,
            "right": null,
            "top": null,
            "visibility": null,
            "width": null
          }
        },
        "575cca307cc347c6837510c5938e2faa": {
          "model_module": "@jupyter-widgets/controls",
          "model_name": "SliderStyleModel",
          "model_module_version": "1.5.0",
          "state": {
            "_model_module": "@jupyter-widgets/controls",
            "_model_module_version": "1.5.0",
            "_model_name": "SliderStyleModel",
            "_view_count": null,
            "_view_module": "@jupyter-widgets/base",
            "_view_module_version": "1.2.0",
            "_view_name": "StyleView",
            "description_width": "",
            "handle_color": null
          }
        },
        "6ba9a83cc2e6439eabdbd3b093a23262": {
          "model_module": "@jupyter-widgets/base",
          "model_name": "LayoutModel",
          "model_module_version": "1.2.0",
          "state": {
            "_model_module": "@jupyter-widgets/base",
            "_model_module_version": "1.2.0",
            "_model_name": "LayoutModel",
            "_view_count": null,
            "_view_module": "@jupyter-widgets/base",
            "_view_module_version": "1.2.0",
            "_view_name": "LayoutView",
            "align_content": null,
            "align_items": null,
            "align_self": null,
            "border": null,
            "bottom": null,
            "display": null,
            "flex": null,
            "flex_flow": null,
            "grid_area": null,
            "grid_auto_columns": null,
            "grid_auto_flow": null,
            "grid_auto_rows": null,
            "grid_column": null,
            "grid_gap": null,
            "grid_row": null,
            "grid_template_areas": null,
            "grid_template_columns": null,
            "grid_template_rows": null,
            "height": null,
            "justify_content": null,
            "justify_items": null,
            "left": null,
            "margin": null,
            "max_height": null,
            "max_width": null,
            "min_height": null,
            "min_width": null,
            "object_fit": null,
            "object_position": null,
            "order": null,
            "overflow": null,
            "overflow_x": null,
            "overflow_y": null,
            "padding": null,
            "right": null,
            "top": null,
            "visibility": null,
            "width": null
          }
        },
        "8fcf5d9469a44532adba1fdc1e568c35": {
          "model_module": "@jupyter-widgets/controls",
          "model_name": "SliderStyleModel",
          "model_module_version": "1.5.0",
          "state": {
            "_model_module": "@jupyter-widgets/controls",
            "_model_module_version": "1.5.0",
            "_model_name": "SliderStyleModel",
            "_view_count": null,
            "_view_module": "@jupyter-widgets/base",
            "_view_module_version": "1.2.0",
            "_view_name": "StyleView",
            "description_width": "",
            "handle_color": null
          }
        },
        "183707cf48864144a839468e95e8af63": {
          "model_module": "@jupyter-widgets/base",
          "model_name": "LayoutModel",
          "model_module_version": "1.2.0",
          "state": {
            "_model_module": "@jupyter-widgets/base",
            "_model_module_version": "1.2.0",
            "_model_name": "LayoutModel",
            "_view_count": null,
            "_view_module": "@jupyter-widgets/base",
            "_view_module_version": "1.2.0",
            "_view_name": "LayoutView",
            "align_content": null,
            "align_items": null,
            "align_self": null,
            "border": null,
            "bottom": null,
            "display": null,
            "flex": null,
            "flex_flow": null,
            "grid_area": null,
            "grid_auto_columns": null,
            "grid_auto_flow": null,
            "grid_auto_rows": null,
            "grid_column": null,
            "grid_gap": null,
            "grid_row": null,
            "grid_template_areas": null,
            "grid_template_columns": null,
            "grid_template_rows": null,
            "height": null,
            "justify_content": null,
            "justify_items": null,
            "left": null,
            "margin": null,
            "max_height": null,
            "max_width": null,
            "min_height": null,
            "min_width": null,
            "object_fit": null,
            "object_position": null,
            "order": null,
            "overflow": null,
            "overflow_x": null,
            "overflow_y": null,
            "padding": null,
            "right": null,
            "top": null,
            "visibility": null,
            "width": null
          }
        },
        "9a4bb8f1f10a4d2abb79fda963fc609f": {
          "model_module": "@jupyter-widgets/controls",
          "model_name": "SliderStyleModel",
          "model_module_version": "1.5.0",
          "state": {
            "_model_module": "@jupyter-widgets/controls",
            "_model_module_version": "1.5.0",
            "_model_name": "SliderStyleModel",
            "_view_count": null,
            "_view_module": "@jupyter-widgets/base",
            "_view_module_version": "1.2.0",
            "_view_name": "StyleView",
            "description_width": "",
            "handle_color": null
          }
        },
        "fb1e5edd66614ef3afbcf148787d648e": {
          "model_module": "@jupyter-widgets/base",
          "model_name": "LayoutModel",
          "model_module_version": "1.2.0",
          "state": {
            "_model_module": "@jupyter-widgets/base",
            "_model_module_version": "1.2.0",
            "_model_name": "LayoutModel",
            "_view_count": null,
            "_view_module": "@jupyter-widgets/base",
            "_view_module_version": "1.2.0",
            "_view_name": "LayoutView",
            "align_content": null,
            "align_items": null,
            "align_self": null,
            "border": null,
            "bottom": null,
            "display": null,
            "flex": null,
            "flex_flow": null,
            "grid_area": null,
            "grid_auto_columns": null,
            "grid_auto_flow": null,
            "grid_auto_rows": null,
            "grid_column": null,
            "grid_gap": null,
            "grid_row": null,
            "grid_template_areas": null,
            "grid_template_columns": null,
            "grid_template_rows": null,
            "height": null,
            "justify_content": null,
            "justify_items": null,
            "left": null,
            "margin": null,
            "max_height": null,
            "max_width": null,
            "min_height": null,
            "min_width": null,
            "object_fit": null,
            "object_position": null,
            "order": null,
            "overflow": null,
            "overflow_x": null,
            "overflow_y": null,
            "padding": null,
            "right": null,
            "top": null,
            "visibility": null,
            "width": null
          }
        }
      }
    }
  },
  "nbformat": 4,
  "nbformat_minor": 0
}