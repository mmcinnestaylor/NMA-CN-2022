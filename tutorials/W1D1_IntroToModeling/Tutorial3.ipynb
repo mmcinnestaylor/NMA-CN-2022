{
  "cells": [
    {
      "cell_type": "markdown",
      "metadata": {
        "id": "view-in-github",
        "colab_type": "text"
      },
      "source": [
        "<a href=\"https://colab.research.google.com/github/mmcinnestaylor/NMA-CN-2022/blob/main/tutorials/W1D1_IntroToModeling/Tutorial3.ipynb\" target=\"_parent\"><img src=\"https://colab.research.google.com/assets/colab-badge.svg\" alt=\"Open In Colab\"/></a>"
      ]
    },
    {
      "cell_type": "markdown",
      "metadata": {
        "execution": {},
        "id": "w3k5QYFJuYqn"
      },
      "source": [
        "# Tutorial 3: \"Why\" models\n",
        "**Week 1, Day 1: Model Types**\n",
        "\n",
        "**By Neuromatch Academy**\n",
        "\n",
        "__Content creators:__ Matt Laporte, Byron Galbraith, Konrad Kording\n",
        "\n",
        "__Content reviewers:__ Dalin Guo, Aishwarya Balwani, Madineh Sarvestani, Maryam Vaziri-Pashkam, Michael Waskom, Ella Batty\n",
        "\n",
        "__Post-production team:__ Gagana B, Spiros Chavlis\n",
        "\n",
        "We would like to acknowledge [Steinmetz _et al._ (2019)](https://www.nature.com/articles/s41586-019-1787-x) for sharing their data, a subset of which is used here.\n"
      ]
    },
    {
      "cell_type": "markdown",
      "metadata": {
        "execution": {},
        "id": "-p0G2GnKuYqu"
      },
      "source": [
        "<p align='center'><img src='https://github.com/NeuromatchAcademy/widgets/blob/master/sponsors.png?raw=True'/></p>"
      ]
    },
    {
      "cell_type": "markdown",
      "metadata": {
        "execution": {},
        "id": "VcCplORquYqx"
      },
      "source": [
        "___\n",
        "# Tutorial Objectives\n",
        "\n",
        "*Estimated timing of tutorial: 45 minutes*\n",
        "\n",
        "This is tutorial 3 of a 3-part series on different flavors of models used to understand neural data. In parts 1 and 2 we explored mechanisms that would produce the data. In this tutorial we will explore models and techniques that can potentially explain *why* the spiking data we have observed is produced the way it is.\n",
        "\n",
        "To understand why different spiking behaviors may be beneficial, we will learn about the concept of entropy. Specifically, we will:\n",
        "\n",
        "- Write code to compute formula for entropy, a measure of information\n",
        "- Compute the entropy of a number of toy distributions\n",
        "- Compute the entropy of spiking activity from the Steinmetz dataset"
      ]
    },
    {
      "cell_type": "code",
      "execution_count": null,
      "metadata": {
        "cellView": "form",
        "execution": {},
        "id": "L9MFLe5YuYq2"
      },
      "outputs": [],
      "source": [
        "# @title Tutorial slides\n",
        "\n",
        "# @markdown These are the slides for the videos in all tutorials today\n",
        "from IPython.display import IFrame\n",
        "IFrame(src=f\"https://mfr.ca-1.osf.io/render?url=https://osf.io/6dxwe/?direct%26mode=render%26action=download%26mode=render\", width=854, height=480)"
      ]
    },
    {
      "cell_type": "code",
      "execution_count": null,
      "metadata": {
        "cellView": "form",
        "execution": {},
        "id": "LoQvi3C6uYq4"
      },
      "outputs": [],
      "source": [
        "# @title Video 1: “Why” models\n",
        "from ipywidgets import widgets\n",
        "\n",
        "out2 = widgets.Output()\n",
        "with out2:\n",
        "  from IPython.display import IFrame\n",
        "  class BiliVideo(IFrame):\n",
        "      def __init__(self, id, page=1, width=400, height=300, **kwargs):\n",
        "          self.id=id\n",
        "          src = 'https://player.bilibili.com/player.html?bvid={0}&page={1}'.format(id, page)\n",
        "          super(BiliVideo, self).__init__(src, width, height, **kwargs)\n",
        "\n",
        "  video = BiliVideo(id=\"BV16t4y1Q7DR\", width=854, height=480, fs=1)\n",
        "  print('Video available at https://www.bilibili.com/video/{0}'.format(video.id))\n",
        "  display(video)\n",
        "\n",
        "out1 = widgets.Output()\n",
        "with out1:\n",
        "  from IPython.display import YouTubeVideo\n",
        "  video = YouTubeVideo(id=\"OOIDEr1e5Gg\", width=854, height=480, fs=1, rel=0)\n",
        "  print('Video available at https://youtube.com/watch?v=' + video.id)\n",
        "  display(video)\n",
        "\n",
        "out = widgets.Tab([out1, out2])\n",
        "out.set_title(0, 'Youtube')\n",
        "out.set_title(1, 'Bilibili')\n",
        "\n",
        "display(out)"
      ]
    },
    {
      "cell_type": "markdown",
      "metadata": {
        "execution": {},
        "id": "fekWPNQguYq6"
      },
      "source": [
        "# Setup"
      ]
    },
    {
      "cell_type": "code",
      "execution_count": null,
      "metadata": {
        "cellView": "both",
        "execution": {},
        "id": "4aVGBVkYuYq7"
      },
      "outputs": [],
      "source": [
        "# Imports\n",
        "\n",
        "import numpy as np\n",
        "import matplotlib.pyplot as plt\n",
        "from scipy import stats"
      ]
    },
    {
      "cell_type": "code",
      "execution_count": null,
      "metadata": {
        "cellView": "form",
        "execution": {},
        "id": "ekEyV-tTuYq9"
      },
      "outputs": [],
      "source": [
        "#@title Figure Settings\n",
        "import ipywidgets as widgets #interactive display\n",
        "\n",
        "%matplotlib inline\n",
        "%config InlineBackend.figure_format = 'retina'\n",
        "plt.style.use(\"https://raw.githubusercontent.com/NeuromatchAcademy/course-content/main/nma.mplstyle\")"
      ]
    },
    {
      "cell_type": "code",
      "execution_count": null,
      "metadata": {
        "cellView": "form",
        "execution": {},
        "id": "Yy4qOJoruYq_"
      },
      "outputs": [],
      "source": [
        "#@title Plotting Functions\n",
        "\n",
        "def plot_pmf(pmf,isi_range):\n",
        "  \"\"\"Plot the probability mass function.\"\"\"\n",
        "  ymax = max(0.2, 1.05 * np.max(pmf))\n",
        "  pmf_ = np.insert(pmf, 0, pmf[0])\n",
        "  plt.plot(bins, pmf_, drawstyle=\"steps\")\n",
        "  plt.fill_between(bins, pmf_, step=\"pre\", alpha=0.4)\n",
        "  plt.title(f\"Neuron {neuron_idx}\")\n",
        "  plt.xlabel(\"Inter-spike interval (s)\")\n",
        "  plt.ylabel(\"Probability mass\")\n",
        "  plt.xlim(isi_range);\n",
        "  plt.ylim([0, ymax])"
      ]
    },
    {
      "cell_type": "code",
      "execution_count": null,
      "metadata": {
        "cellView": "form",
        "execution": {},
        "id": "dO-Q-xhfuYrB"
      },
      "outputs": [],
      "source": [
        "#@title Download Data\n",
        "import io\n",
        "import requests\n",
        "r = requests.get('https://osf.io/sy5xt/download')\n",
        "if r.status_code != 200:\n",
        "  print('Could not download data')\n",
        "else:\n",
        "  steinmetz_spikes = np.load(io.BytesIO(r.content), allow_pickle=True)['spike_times']"
      ]
    },
    {
      "cell_type": "markdown",
      "metadata": {
        "execution": {},
        "id": "Lzt1SQoJuYrE"
      },
      "source": [
        "---\n",
        "# Section 1: Optimization and Information\n",
        "\n",
        "*Remember that the notation section is located after the Summary for quick reference!*\n",
        "\n",
        "Neurons can only fire so often in a fixed period of time, as the act of emitting a spike consumes energy that is depleted and must eventually be replenished. To communicate effectively for downstream computation, the neuron would need to make good use of its limited spiking capability. This becomes an optimization problem: \n",
        "\n",
        "What is the optimal way for a neuron to fire in order to maximize its ability to communicate information?\n",
        "\n",
        "In order to explore this question, we first need to have a quantifiable measure for information. Shannon introduced the concept of entropy to do just that, and defined it as\n",
        "\n",
        "\\begin{equation}\n",
        "H_b(X) = -\\sum_{x\\in X} p(x) \\log_b p(x)\n",
        "\\end{equation}\n",
        "\n",
        "where $H$ is entropy measured in units of base $b$ and $p(x)$ is the probability of observing the event $x$ from the set of all possible events in $X$. See the Bonus Section 1 for a more detailed look at how this equation was derived.\n",
        "\n",
        "The most common base of measuring entropy is $b=2$, so we often talk about *bits* of information, though other bases are used as well (e.g. when $b=e$ we call the units *nats*)."
      ]
    },
    {
      "cell_type": "markdown",
      "metadata": {
        "execution": {},
        "id": "arCMGVDYuYrF"
      },
      "source": [
        "First, let's explore how entropy changes between some simple discrete probability distributions. In the rest of this tutorial we will refer to these as probability mass functions (PMF), where $p(x_i)$ equals the $i^{th}$ value in an array, and mass refers to how much of the distribution is contained at that value.\n",
        "\n",
        "For our first PMF, we will choose one where all of the probability mass is located in the middle of the distribution."
      ]
    },
    {
      "cell_type": "code",
      "execution_count": null,
      "metadata": {
        "execution": {},
        "id": "3j0iuQnjuYrG",
        "outputId": "7d1c0b17-7fb8-4195-aec0-d516b0d9f67a",
        "colab": {
          "base_uri": "https://localhost:8080/",
          "height": 430
        }
      },
      "outputs": [
        {
          "output_type": "display_data",
          "data": {
            "text/plain": [
              "<Figure size 576x432 with 1 Axes>"
            ],
            "image/png": "[encoded data removed]"
          },
          "metadata": {
            "image/png": {
              "width": 558,
              "height": 413
            },
            "needs_background": "light"
          }
        }
      ],
      "source": [
        "n_bins = 50  # number of points supporting the distribution\n",
        "x_range = (0, 1)  # will be subdivided evenly into bins corresponding to points\n",
        "\n",
        "bins = np.linspace(*x_range, n_bins + 1)  # bin edges\n",
        "\n",
        "pmf = np.zeros(n_bins)\n",
        "pmf[len(pmf) // 2] = 1.0  # middle point has all the mass\n",
        "\n",
        "# Since we already have a PMF, rather than un-binned samples, `plt.hist` is not\n",
        "# suitable. Instead, we directly plot the PMF as a step function to visualize\n",
        "# the histogram:\n",
        "pmf_ = np.insert(pmf, 0, pmf[0])  # this is necessary to align plot steps with bin edges\n",
        "plt.plot(bins, pmf_, drawstyle=\"steps\")\n",
        "# `fill_between` provides area shading\n",
        "plt.fill_between(bins, pmf_, step=\"pre\", alpha=0.4)\n",
        "plt.xlabel(\"x\")\n",
        "plt.ylabel(\"p(x)\")\n",
        "plt.xlim(x_range)\n",
        "plt.ylim(0, 1);"
      ]
    },
    {
      "cell_type": "markdown",
      "metadata": {
        "execution": {},
        "id": "K2EQ2KDeuYrG"
      },
      "source": [
        "If we were to draw a sample from this distribution, we know exactly what we would get every time. Distributions where all the mass is concentrated on a single event are known as *deterministic*.\n",
        "\n",
        "How much entropy is contained in a deterministic distribution? We will compute this in the next exercise."
      ]
    },
    {
      "cell_type": "markdown",
      "metadata": {
        "execution": {},
        "id": "dy1JnQKguYrG"
      },
      "source": [
        "## Coding Exercise 1: Computing Entropy\n",
        "\n",
        "Your first exercise is to implement a method that computes the entropy of a discrete probability distribution, given its mass function. Remember that we are interested in entropy in units of _bits_, so be sure to use the correct log function. \n",
        "\n",
        "Recall that $\\log(0)$ is undefined. When evaluated at $0$, NumPy log functions (such as `np.log2`) return `np.nan` (\"Not a Number\"). By convention, these undefined terms— which correspond to points in the distribution with zero mass—are excluded from the sum that computes the entropy."
      ]
    },
    {
      "cell_type": "code",
      "execution_count": null,
      "metadata": {
        "execution": {},
        "id": "ly41_EnEuYrH",
        "outputId": "f982f4a5-09d8-4b1a-8f2f-966245653d50",
        "colab": {
          "base_uri": "https://localhost:8080/"
        }
      },
      "outputs": [
        {
          "output_type": "stream",
          "name": "stdout",
          "text": [
            "0.00 bits\n"
          ]
        }
      ],
      "source": [
        "def entropy(pmf):\n",
        "  \"\"\"Given a discrete distribution, return the Shannon entropy in bits.\n",
        "\n",
        "  This is a measure of information in the distribution. For a totally\n",
        "  deterministic distribution, where samples are always found in the same bin,\n",
        "  then samples from the distribution give no more information and the entropy\n",
        "  is 0.\n",
        "\n",
        "  For now this assumes `pmf` arrives as a well-formed distribution (that is,\n",
        "  `np.sum(pmf)==1` and `not np.any(pmf < 0)`)\n",
        "\n",
        "  Args:\n",
        "    pmf (np.ndarray): The probability mass function for a discrete distribution\n",
        "      represented as an array of probabilities.\n",
        "  Returns:\n",
        "    h (number): The entropy of the distribution in `pmf`.\n",
        "\n",
        "  \"\"\"\n",
        "  ############################################################################\n",
        "  # Exercise for students: compute the entropy of the provided PMF\n",
        "  #   1. Exclude the points in the distribution with no mass (where `pmf==0`).\n",
        "  #      Hint: this is equivalent to including only the points with `pmf>0`.\n",
        "  #   2. Implement the equation for Shannon entropy (in bits).\n",
        "  #  When ready to test, comment or remove the next line\n",
        "  # raise NotImplementedError(\"Exercise: implement the equation for entropy\")\n",
        "  ############################################################################\n",
        "\n",
        "  # reduce to non-zero entries to avoid an error from log2(0)\n",
        "  pmf = pmf[pmf>0]\n",
        "\n",
        "  # implement the equation for Shannon entropy (in bits)\n",
        "  h = -np.sum(pmf * np.log2(pmf))\n",
        "\n",
        "  # return the absolute value (avoids getting a -0 result)\n",
        "  return np.abs(h)\n",
        "\n",
        "# Call entropy function and print result\n",
        "print(f\"{entropy(pmf):.2f} bits\")"
      ]
    },
    {
      "cell_type": "markdown",
      "metadata": {
        "cellView": "both",
        "execution": {},
        "id": "mJoJFsSWuYrH"
      },
      "source": [
        "[*Click for solution*](https://github.com/NeuromatchAcademy/course-content/tree/main//tutorials/W1D1_ModelTypes/solutions/W1D1_Tutorial3_Solution_f07b571c.py)\n",
        "\n"
      ]
    },
    {
      "cell_type": "markdown",
      "metadata": {
        "execution": {},
        "id": "qdQq6FViuYrI"
      },
      "source": [
        "We expect zero surprise from a deterministic distribution. If we had done this calculation by hand, it would simply be $-1\\log_2 1 = -0=0$."
      ]
    },
    {
      "cell_type": "markdown",
      "metadata": {
        "execution": {},
        "id": "tb-12T46uYrJ"
      },
      "source": [
        "Note that changing the location of the peak (i.e. the point and bin on which all the mass rests) doesn't alter the entropy. The entropy is about how predictable a sample is with respect to a distribution. A single peak is deterministic regardless of which point it sits on - the following plot shows a PMF that would also have zero entropy."
      ]
    },
    {
      "cell_type": "code",
      "execution_count": null,
      "metadata": {
        "cellView": "form",
        "execution": {},
        "id": "e_yduzwEuYrL",
        "outputId": "aa2ecc4b-63be-49d9-fd45-00b4f4b07b8e",
        "colab": {
          "base_uri": "https://localhost:8080/",
          "height": 430
        }
      },
      "outputs": [
        {
          "output_type": "display_data",
          "data": {
            "text/plain": [
              "<Figure size 576x432 with 1 Axes>"
            ],
            "image/png": "[encoded data removed]"
          },
          "metadata": {
            "image/png": {
              "width": 558,
              "height": 413
            },
            "needs_background": "light"
          }
        }
      ],
      "source": [
        "# @markdown Execute this cell to visualize another PMF with zero entropy\n",
        "pmf = np.zeros(n_bins)\n",
        "pmf[2] = 1.0  # arbitrary point has all the mass\n",
        "\n",
        "pmf_ = np.insert(pmf, 0, pmf[0])\n",
        "plt.plot(bins, pmf_, drawstyle=\"steps\")\n",
        "plt.fill_between(bins, pmf_, step=\"pre\", alpha=0.4)\n",
        "plt.xlabel(\"x\")\n",
        "plt.ylabel(\"p(x)\")\n",
        "plt.xlim(x_range)\n",
        "plt.ylim(0, 1);"
      ]
    },
    {
      "cell_type": "markdown",
      "metadata": {
        "execution": {},
        "id": "DeneK0WmuYrM"
      },
      "source": [
        "What about a distribution with mass split equally between two points?"
      ]
    },
    {
      "cell_type": "code",
      "execution_count": null,
      "metadata": {
        "cellView": "form",
        "execution": {},
        "id": "gs2QATMvuYrN",
        "outputId": "80ba359b-88e0-4147-c1e4-4c768f2f1d6d",
        "colab": {
          "base_uri": "https://localhost:8080/",
          "height": 430
        }
      },
      "outputs": [
        {
          "output_type": "display_data",
          "data": {
            "text/plain": [
              "<Figure size 576x432 with 1 Axes>"
            ],
            "image/png": "[encoded data removed]"
          },
          "metadata": {
            "image/png": {
              "width": 558,
              "height": 413
            },
            "needs_background": "light"
          }
        }
      ],
      "source": [
        "# @markdown Execute this cell to visualize a PMF with split mass\n",
        "\n",
        "pmf = np.zeros(n_bins)\n",
        "pmf[len(pmf) // 3] = 0.5\n",
        "pmf[2 * len(pmf) // 3] = 0.5\n",
        "\n",
        "pmf_ = np.insert(pmf, 0, pmf[0])\n",
        "plt.plot(bins, pmf_, drawstyle=\"steps\")\n",
        "plt.fill_between(bins, pmf_, step=\"pre\", alpha=0.4)\n",
        "plt.xlabel(\"x\")\n",
        "plt.ylabel(\"p(x)\")\n",
        "plt.xlim(x_range)\n",
        "plt.ylim(0, 1);"
      ]
    },
    {
      "cell_type": "markdown",
      "metadata": {
        "execution": {},
        "id": "4spdPQCguYrS"
      },
      "source": [
        "Here, the entropy calculation is: $-(0.5 \\log_2 0.5 + 0.5\\log_2 0.5)=1$"
      ]
    },
    {
      "cell_type": "markdown",
      "metadata": {
        "execution": {},
        "id": "xxLMIgU4uYrU"
      },
      "source": [
        "There is 1 bit of entropy. This means that before we take a random sample, there is 1 bit of uncertainty about which point in the distribution the sample will fall on: it will either be the first peak or the second one. \n",
        "\n",
        "Likewise, if we make one of the peaks taller (i.e. its point holds more of the probability mass) and the other one shorter, the entropy will decrease because of the increased certainty that the sample will fall on one point and not the other: : $-(0.2 \\log_2 0.2 + 0.8\\log_2 0.8)\\approx 0.72$\n",
        "\n"
      ]
    },
    {
      "cell_type": "markdown",
      "metadata": {
        "execution": {},
        "id": "PhtJywfDuYrV"
      },
      "source": [
        "Try changing the definition of the number and weighting of peaks, and see how the entropy varies."
      ]
    },
    {
      "cell_type": "markdown",
      "metadata": {
        "execution": {},
        "id": "JpwS0jSauYrV"
      },
      "source": [
        "If we split the probability mass among even more points, the entropy continues to increase. Let's derive the general form for $N$ points of equal mass, where $p_i=p=1/N$:\n",
        "\n",
        "\\begin{align}\n",
        "-\\sum_i p_i \\log_b p_i &= -\\sum_i^N \\frac{1}{N} \\log_b \\frac{1}{N} \\\\\n",
        "&= -\\log_b \\frac{1}{N} \\\\\n",
        "&= \\log_b N\n",
        "\\end{align}"
      ]
    },
    {
      "cell_type": "markdown",
      "metadata": {
        "execution": {},
        "id": "NE8MXdEyuYrW"
      },
      "source": [
        "If we have $N$ discrete points, the _uniform distribution_ (where all points have equal mass) is the distribution with the highest entropy: $\\log_b N$. This upper bound on entropy is useful when considering binning strategies, as any estimate of entropy over $N$ discrete points (or bins) must be in the interval $[0, \\log_b N]$.\n"
      ]
    },
    {
      "cell_type": "code",
      "execution_count": null,
      "metadata": {
        "cellView": "form",
        "execution": {},
        "id": "35ERhgL2uYrX",
        "outputId": "50c3592d-3c66-4f07-cc13-5a5aba7c4b63",
        "colab": {
          "base_uri": "https://localhost:8080/",
          "height": 430
        }
      },
      "outputs": [
        {
          "output_type": "display_data",
          "data": {
            "text/plain": [
              "<Figure size 576x432 with 1 Axes>"
            ],
            "image/png": "[encoded data removed]"
          },
          "metadata": {
            "image/png": {
              "width": 558,
              "height": 413
            },
            "needs_background": "light"
          }
        }
      ],
      "source": [
        "# @markdown Execute this cell to visualize a PMF of uniform distribution\n",
        "\n",
        "pmf = np.ones(n_bins) / n_bins  # [1/N] * N\n",
        "\n",
        "pmf_ = np.insert(pmf, 0, pmf[0])\n",
        "plt.plot(bins, pmf_, drawstyle=\"steps\")\n",
        "plt.fill_between(bins, pmf_, step=\"pre\", alpha=0.4)\n",
        "plt.xlabel(\"x\")\n",
        "plt.ylabel(\"p(x)\")\n",
        "plt.xlim(x_range);\n",
        "plt.ylim(0, 1);"
      ]
    },
    {
      "cell_type": "markdown",
      "metadata": {
        "execution": {},
        "id": "6kXRFKOjuYrX"
      },
      "source": [
        "Here, there are 50 points and the entropy of the uniform distribution is $\\log_2 50\\approx 5.64$. If we construct _any_ discrete distribution $X$ over 50 points (or bins) and calculate an entropy of $H_2(X)>\\log_2 50$, something must be wrong with our implementation of the discrete entropy computation."
      ]
    },
    {
      "cell_type": "markdown",
      "metadata": {
        "execution": {},
        "id": "SxCFY48tuYrX"
      },
      "source": [
        "---\n",
        "# Section 2: Information, neurons, and spikes\n",
        "\n",
        "*Estimated timing to here from start of tutorial: 20 min*"
      ]
    },
    {
      "cell_type": "code",
      "execution_count": null,
      "metadata": {
        "cellView": "form",
        "execution": {},
        "id": "oFaJ8kqpuYrY"
      },
      "outputs": [],
      "source": [
        "# @title Video 2: Entropy of different distributions\n",
        "from ipywidgets import widgets\n",
        "\n",
        "out2 = widgets.Output()\n",
        "with out2:\n",
        "  from IPython.display import IFrame\n",
        "  class BiliVideo(IFrame):\n",
        "      def __init__(self, id, page=1, width=400, height=300, **kwargs):\n",
        "          self.id=id\n",
        "          src = 'https://player.bilibili.com/player.html?bvid={0}&page={1}'.format(id, page)\n",
        "          super(BiliVideo, self).__init__(src, width, height, **kwargs)\n",
        "\n",
        "  video = BiliVideo(id=\"BV1df4y1976g\", width=854, height=480, fs=1)\n",
        "  print('Video available at https://www.bilibili.com/video/{0}'.format(video.id))\n",
        "  display(video)\n",
        "\n",
        "out1 = widgets.Output()\n",
        "with out1:\n",
        "  from IPython.display import YouTubeVideo\n",
        "  video = YouTubeVideo(id=\"o6nyrx3KH20\", width=854, height=480, fs=1, rel=0)\n",
        "  print('Video available at https://youtube.com/watch?v=' + video.id)\n",
        "  display(video)\n",
        "\n",
        "out = widgets.Tab([out1, out2])\n",
        "out.set_title(0, 'Youtube')\n",
        "out.set_title(1, 'Bilibili')\n",
        "\n",
        "display(out)"
      ]
    },
    {
      "cell_type": "markdown",
      "metadata": {
        "execution": {},
        "id": "dVMliZ5muYrY"
      },
      "source": [
        "Recall the discussion of spike times and inter-spike intervals (ISIs) from Tutorial 1. What does the information content (or distributional entropy) of these measures say about our theory of nervous systems? \n",
        "\n",
        "We'll consider three hypothetical neurons that all have the same mean ISI, but with different distributions:\n",
        "\n",
        "1. Deterministic\n",
        "2. Uniform\n",
        "3. Exponential\n",
        "\n",
        "Fixing the mean of the ISI distribution is equivalent to fixing its inverse: the neuron's mean firing rate. If a neuron has a fixed energy budget and each of its spikes has the same energy cost, then by fixing the mean firing rate, we are normalizing for energy expenditure. This provides a basis for comparing the entropy of different ISI distributions. In other words: if our neuron has a fixed budget, what ISI distribution should it express (all else being equal) to maximize the information content of its outputs?\n",
        "\n",
        "Let's construct our three distributions and see how their entropies differ."
      ]
    },
    {
      "cell_type": "code",
      "execution_count": null,
      "metadata": {
        "execution": {},
        "id": "cat7Lz9ZuYrZ"
      },
      "outputs": [],
      "source": [
        "n_bins = 50\n",
        "mean_isi = 0.025\n",
        "isi_range = (0, 0.25)\n",
        "\n",
        "bins = np.linspace(*isi_range, n_bins + 1)\n",
        "mean_idx = np.searchsorted(bins, mean_isi)\n",
        "\n",
        "# 1. all mass concentrated on the ISI mean\n",
        "pmf_single = np.zeros(n_bins)\n",
        "pmf_single[mean_idx] = 1.0\n",
        "\n",
        "# 2. mass uniformly distributed about the ISI mean\n",
        "pmf_uniform = np.zeros(n_bins)\n",
        "pmf_uniform[0:2*mean_idx] = 1 / (2 * mean_idx)\n",
        "\n",
        "# 3. mass exponentially distributed about the ISI mean\n",
        "pmf_exp = stats.expon.pdf(bins[1:], scale=mean_isi)\n",
        "pmf_exp /= np.sum(pmf_exp)"
      ]
    },
    {
      "cell_type": "code",
      "execution_count": null,
      "metadata": {
        "cellView": "form",
        "execution": {},
        "id": "1U67Yo7yuYrZ",
        "outputId": "da542fd5-ab8c-4cd5-82dd-1d90b56f5e6d",
        "colab": {
          "base_uri": "https://localhost:8080/",
          "height": 358
        }
      },
      "outputs": [
        {
          "output_type": "display_data",
          "data": {
            "text/plain": [
              "<Figure size 1296x360 with 3 Axes>"
            ],
            "image/png": "[encoded data removed]"
          },
          "metadata": {
            "image/png": {
              "width": 1278,
              "height": 341
            },
            "needs_background": "light"
          }
        }
      ],
      "source": [
        "#@title\n",
        "#@markdown Run this cell to plot the three PMFs\n",
        "fig, axes = plt.subplots(ncols=3, figsize=(18, 5))\n",
        "\n",
        "dists =  [# (subplot title, pmf, ylim)\n",
        "          (\"(1) Deterministic\", pmf_single, (0, 1.05)),\n",
        "          (\"(1) Uniform\", pmf_uniform, (0, 1.05)),\n",
        "          (\"(1) Exponential\", pmf_exp, (0, 1.05))]\n",
        "\n",
        "for ax, (label, pmf_, ylim) in zip(axes, dists):\n",
        "  pmf_ = np.insert(pmf_, 0, pmf_[0])\n",
        "  ax.plot(bins, pmf_, drawstyle=\"steps\")\n",
        "  ax.fill_between(bins, pmf_, step=\"pre\", alpha=0.4)\n",
        "  ax.set_title(label)\n",
        "  ax.set_xlabel(\"Inter-spike interval (s)\")\n",
        "  ax.set_ylabel(\"Probability mass\")\n",
        "  ax.set_xlim(isi_range);\n",
        "  ax.set_ylim(ylim);"
      ]
    },
    {
      "cell_type": "code",
      "execution_count": null,
      "metadata": {
        "execution": {},
        "id": "r9-xG03luYra",
        "outputId": "37b56493-e939-429a-e83a-d614c60e98c9",
        "colab": {
          "base_uri": "https://localhost:8080/"
        }
      },
      "outputs": [
        {
          "output_type": "stream",
          "name": "stdout",
          "text": [
            "Deterministic: 0.00 bits\n",
            "Uniform: 3.32 bits\n",
            "Exponential: 3.77 bits\n"
          ]
        }
      ],
      "source": [
        "print(\n",
        "  f\"Deterministic: {entropy(pmf_single):.2f} bits\",\n",
        "  f\"Uniform: {entropy(pmf_uniform):.2f} bits\",\n",
        "  f\"Exponential: {entropy(pmf_exp):.2f} bits\",\n",
        "  sep=\"\\n\",\n",
        ")"
      ]
    },
    {
      "cell_type": "markdown",
      "metadata": {
        "execution": {},
        "id": "BidNR-zzuYra"
      },
      "source": [
        "---\n",
        "# Section 3: Calculate entropy of ISI distributions from data\n",
        "\n",
        "*Estimated timing to here from start of tutorial: 25 min*"
      ]
    },
    {
      "cell_type": "markdown",
      "metadata": {
        "execution": {},
        "id": "MePmVRMQuYra"
      },
      "source": [
        "## Section 3.1: Computing probabilities from histogram"
      ]
    },
    {
      "cell_type": "code",
      "execution_count": null,
      "metadata": {
        "cellView": "form",
        "execution": {},
        "id": "mG4SDUTSuYra"
      },
      "outputs": [],
      "source": [
        "# @title Video 3: Probabilities from histogram\n",
        "from ipywidgets import widgets\n",
        "\n",
        "out2 = widgets.Output()\n",
        "with out2:\n",
        "  from IPython.display import IFrame\n",
        "  class BiliVideo(IFrame):\n",
        "      def __init__(self, id, page=1, width=400, height=300, **kwargs):\n",
        "          self.id=id\n",
        "          src = 'https://player.bilibili.com/player.html?bvid={0}&page={1}'.format(id, page)\n",
        "          super(BiliVideo, self).__init__(src, width, height, **kwargs)\n",
        "\n",
        "  video = BiliVideo(id=\"BV1Jk4y1B7cz\", width=854, height=480, fs=1)\n",
        "  print('Video available at https://www.bilibili.com/video/{0}'.format(video.id))\n",
        "  display(video)\n",
        "\n",
        "out1 = widgets.Output()\n",
        "with out1:\n",
        "  from IPython.display import YouTubeVideo\n",
        "  video = YouTubeVideo(id=\"e2U_-07O9jo\", width=854, height=480, fs=1, rel=0)\n",
        "  print('Video available at https://youtube.com/watch?v=' + video.id)\n",
        "  display(video)\n",
        "\n",
        "out = widgets.Tab([out1, out2])\n",
        "out.set_title(0, 'Youtube')\n",
        "out.set_title(1, 'Bilibili')\n",
        "\n",
        "display(out)"
      ]
    },
    {
      "cell_type": "markdown",
      "metadata": {
        "execution": {},
        "id": "qisYvFDXuYra"
      },
      "source": [
        "In the previous example we created the PMFs by hand to illustrate idealized scenarios. How would we compute them from data recorded from actual neurons?\n",
        "\n",
        "One way is to convert the ISI histograms we've previously computed into discrete probability distributions using the following equation:\n",
        "\n",
        "\\begin{equation}\n",
        "p_i = \\frac{n_i}{\\sum\\nolimits_{i}n_i}\n",
        "\\end{equation}\n",
        "\n",
        "where $p_i$ is the probability of an ISI falling within a particular interval $i$ and $n_i$ is the count of how many ISIs were observed in that interval."
      ]
    },
    {
      "cell_type": "markdown",
      "metadata": {
        "execution": {},
        "id": "hR9YSZJbuYrb"
      },
      "source": [
        "### Coding Exercise 3.1: Probability Mass Function\n",
        "\n",
        "Your second exercise is to implement a method that will produce a probability mass function from an array of ISI bin counts.\n",
        "\n",
        "To verify your solution, we will compute the probability distribution of ISIs from real neural data taken from the Steinmetz dataset."
      ]
    },
    {
      "cell_type": "code",
      "execution_count": null,
      "metadata": {
        "execution": {},
        "id": "PqpBpXLquYrc",
        "outputId": "ed9d5fd5-91bb-4ace-f898-c011a74b5324",
        "colab": {
          "base_uri": "https://localhost:8080/",
          "height": 430
        }
      },
      "outputs": [
        {
          "output_type": "display_data",
          "data": {
            "text/plain": [
              "<Figure size 576x432 with 1 Axes>"
            ],
            "image/png": "[encoded data removed]"
          },
          "metadata": {
            "image/png": {
              "width": 558,
              "height": 413
            },
            "needs_background": "light"
          }
        }
      ],
      "source": [
        "def pmf_from_counts(counts):\n",
        "  \"\"\"Given counts, normalize by the total to estimate probabilities.\"\"\"\n",
        "  ###########################################################################\n",
        "  # Exercise: Compute the PMF. Remove the next line to test your function\n",
        "  # raise NotImplementedError(\"Student exercise: compute the PMF from ISI counts\")\n",
        "  ###########################################################################\n",
        "\n",
        "  pmf = np.array([count/sum(counts) for count in counts])\n",
        "\n",
        "  return pmf\n",
        "\n",
        "\n",
        "# Get neuron index\n",
        "neuron_idx = 283\n",
        "\n",
        "# Get counts of ISIs from Steinmetz data\n",
        "isi = np.diff(steinmetz_spikes[neuron_idx])\n",
        "bins = np.linspace(*isi_range, n_bins + 1)\n",
        "counts, _ = np.histogram(isi, bins)\n",
        "\n",
        "# Compute pmf\n",
        "pmf = pmf_from_counts(counts)\n",
        "\n",
        "# Visualize\n",
        "plot_pmf(pmf,isi_range)"
      ]
    },
    {
      "cell_type": "markdown",
      "metadata": {
        "cellView": "both",
        "execution": {},
        "id": "7THUxuJquYrc"
      },
      "source": [
        "[*Click for solution*](https://github.com/NeuromatchAcademy/course-content/tree/main//tutorials/W1D1_ModelTypes/solutions/W1D1_Tutorial3_Solution_2db0a1bc.py)\n",
        "\n",
        "*Example output:*\n",
        "\n",
        "<img alt='Solution hint' align='left' width=1116.0 height=828.0 src=https://raw.githubusercontent.com/NeuromatchAcademy/course-content/main/tutorials/W1D1_ModelTypes/static/W1D1_Tutorial3_Solution_2db0a1bc_0.png>\n",
        "\n"
      ]
    },
    {
      "cell_type": "markdown",
      "metadata": {
        "execution": {},
        "id": "Zcz48c3wuYrc"
      },
      "source": [
        "## Section 3.2: Calculating entropy from pmf"
      ]
    },
    {
      "cell_type": "code",
      "execution_count": null,
      "metadata": {
        "cellView": "form",
        "execution": {},
        "id": "wf0GngWmuYrd"
      },
      "outputs": [],
      "source": [
        "# @title Video 4: Calculating entropy from pmf\n",
        "from ipywidgets import widgets\n",
        "\n",
        "out2 = widgets.Output()\n",
        "with out2:\n",
        "  from IPython.display import IFrame\n",
        "  class BiliVideo(IFrame):\n",
        "      def __init__(self, id, page=1, width=400, height=300, **kwargs):\n",
        "          self.id=id\n",
        "          src = 'https://player.bilibili.com/player.html?bvid={0}&page={1}'.format(id, page)\n",
        "          super(BiliVideo, self).__init__(src, width, height, **kwargs)\n",
        "\n",
        "  video = BiliVideo(id=\"BV1vA411e7Cd\", width=854, height=480, fs=1)\n",
        "  print('Video available at https://www.bilibili.com/video/{0}'.format(video.id))\n",
        "  display(video)\n",
        "\n",
        "out1 = widgets.Output()\n",
        "with out1:\n",
        "  from IPython.display import YouTubeVideo\n",
        "  video = YouTubeVideo(id=\"Xjy-jj-6Oz0\", width=854, height=480, fs=1, rel=0)\n",
        "  print('Video available at https://youtube.com/watch?v=' + video.id)\n",
        "  display(video)\n",
        "\n",
        "out = widgets.Tab([out1, out2])\n",
        "out.set_title(0, 'Youtube')\n",
        "out.set_title(1, 'Bilibili')\n",
        "\n",
        "display(out)"
      ]
    },
    {
      "cell_type": "markdown",
      "metadata": {
        "execution": {},
        "id": "P38muBH7uYre"
      },
      "source": [
        "Now that we have the probability distribution for the actual neuron spiking activity, we can calculate its entropy."
      ]
    },
    {
      "cell_type": "code",
      "execution_count": null,
      "metadata": {
        "execution": {},
        "id": "i3oGedPEuYrg",
        "outputId": "4e4f45ce-1fcc-4495-eece-63b005722fa7",
        "colab": {
          "base_uri": "https://localhost:8080/"
        }
      },
      "outputs": [
        {
          "output_type": "stream",
          "name": "stdout",
          "text": [
            "Entropy for Neuron 283: 3.36 bits\n"
          ]
        }
      ],
      "source": [
        "print(f\"Entropy for Neuron {neuron_idx}: {entropy(pmf):.2f} bits\")"
      ]
    },
    {
      "cell_type": "markdown",
      "metadata": {
        "execution": {},
        "id": "tNVasQc7uYrg"
      },
      "source": [
        "### Interactive Demo 3.2: Entropy of neurons\n",
        "\n",
        "We can combine the above distribution plot and entropy calculation with an interactive widget to explore how the different neurons in the dataset vary in spiking activity and relative information. Note that the mean firing rate across neurons is not fixed, so some neurons with a uniform ISI distribution may have higher entropy than neurons with a more exponential distribution.\n",
        "\n",
        "\n"
      ]
    },
    {
      "cell_type": "code",
      "execution_count": null,
      "metadata": {
        "cellView": "form",
        "execution": {},
        "id": "fYdkFjs5uYrh",
        "outputId": "6cbd4878-dfb5-45bb-b1ca-f6402c4dbd0b",
        "colab": {
          "base_uri": "https://localhost:8080/",
          "height": 462,
          "referenced_widgets": [
            "22a062a105824dc69dd44e1699919c99",
            "3d9eb6196c424fdc9ac59e3349540709",
            "c07287394bbf4428a5e780bf102ea9e6",
            "81c9c236ede04379b8ca1a53bd47580f",
            "30c02d2d2f6743d1a3bd6bb5fb1b48c6",
            "efa3de29566e47f883526d062fe8788c",
            "1645b6ec20e941b68c884d13239cde94"
          ]
        }
      },
      "outputs": [
        {
          "output_type": "display_data",
          "data": {
            "text/plain": [
              "interactive(children=(IntSlider(value=0, description='neuron', max=733), Output()), _dom_classes=('widget-inte…"
            ],
            "application/vnd.jupyter.widget-view+json": {
              "version_major": 2,
              "version_minor": 0,
              "model_id": "22a062a105824dc69dd44e1699919c99"
            }
          },
          "metadata": {}
        }
      ],
      "source": [
        "#@title\n",
        "#@markdown **Run the cell** to enable the sliders.\n",
        "\n",
        "def _pmf_from_counts(counts):\n",
        "  \"\"\"Given counts, normalize by the total to estimate probabilities.\"\"\"\n",
        "  pmf = counts / np.sum(counts)\n",
        "  return pmf\n",
        "\n",
        "def _entropy(pmf):\n",
        "  \"\"\"Given a discrete distribution, return the Shannon entropy in bits.\"\"\"\n",
        "  # remove non-zero entries to avoid an error from log2(0)\n",
        "  pmf = pmf[pmf > 0]\n",
        "  h = -np.sum(pmf * np.log2(pmf))\n",
        "  # absolute value applied to avoid getting a -0 result\n",
        "  return np.abs(h)\n",
        "\n",
        "@widgets.interact(neuron=widgets.IntSlider(0, min=0, max=(len(steinmetz_spikes)-1)))\n",
        "def steinmetz_pmf(neuron):\n",
        "  \"\"\" Given a neuron from the Steinmetz data, compute its PMF and entropy \"\"\"\n",
        "  isi = np.diff(steinmetz_spikes[neuron])\n",
        "  bins = np.linspace(*isi_range, n_bins + 1)\n",
        "  counts, _ = np.histogram(isi, bins)\n",
        "  pmf = _pmf_from_counts(counts)\n",
        "\n",
        "  plot_pmf(pmf,isi_range)\n",
        "  plt.title(f\"Neuron {neuron}: H = {_entropy(pmf):.2f} bits\")"
      ]
    },
    {
      "cell_type": "markdown",
      "metadata": {
        "execution": {},
        "id": "FBstdO36uYrj"
      },
      "source": [
        "---\n",
        "# Section 4: Reflecting on why models\n",
        "\n",
        "*Estimated timing to here from start of tutorial: 35 min*"
      ]
    },
    {
      "cell_type": "markdown",
      "metadata": {
        "execution": {},
        "id": "ufMtfK5luYrk"
      },
      "source": [
        "## Think! 3: Reflecting on how models\n",
        "\n",
        "Please discuss the following questions for around 10 minutes with your group:\n",
        "\n",
        "- Have you seen why models before?\n",
        "- Have you ever done one?\n",
        "- Why are why models useful?\n",
        "- When are they possible? Does your field have why models?\n",
        "- What do we learn from constructing them?"
      ]
    },
    {
      "cell_type": "markdown",
      "metadata": {
        "execution": {},
        "id": "Ba2VieZ8uYrm"
      },
      "source": [
        "---\n",
        "# Summary\n",
        "\n",
        "*Estimated timing of tutorial: 45 minutes*"
      ]
    },
    {
      "cell_type": "code",
      "execution_count": null,
      "metadata": {
        "cellView": "form",
        "execution": {},
        "id": "H0Dtdt_duYro"
      },
      "outputs": [],
      "source": [
        "# @title Video 5: Summary of model types\n",
        "from ipywidgets import widgets\n",
        "\n",
        "out2 = widgets.Output()\n",
        "with out2:\n",
        "  from IPython.display import IFrame\n",
        "  class BiliVideo(IFrame):\n",
        "      def __init__(self, id, page=1, width=400, height=300, **kwargs):\n",
        "          self.id=id\n",
        "          src = 'https://player.bilibili.com/player.html?bvid={0}&page={1}'.format(id, page)\n",
        "          super(BiliVideo, self).__init__(src, width, height, **kwargs)\n",
        "\n",
        "  video = BiliVideo(id=\"BV1F5411e7ww\", width=854, height=480, fs=1)\n",
        "  print('Video available at https://www.bilibili.com/video/{0}'.format(video.id))\n",
        "  display(video)\n",
        "\n",
        "out1 = widgets.Output()\n",
        "with out1:\n",
        "  from IPython.display import YouTubeVideo\n",
        "  video = YouTubeVideo(id=\"X4K2RR5qBK8\", width=854, height=480, fs=1, rel=0)\n",
        "  print('Video available at https://youtube.com/watch?v=' + video.id)\n",
        "  display(video)\n",
        "\n",
        "out = widgets.Tab([out1, out2])\n",
        "out.set_title(0, 'Youtube')\n",
        "out.set_title(1, 'Bilibili')\n",
        "\n",
        "display(out)"
      ]
    },
    {
      "cell_type": "markdown",
      "metadata": {
        "execution": {},
        "id": "fyGS0uAruYrp"
      },
      "source": [
        "Congratulations! You've finished your first NMA tutorial. In this 3 part tutorial series, we used different types of models to understand the spiking behavior of neurons recorded in the Steinmetz data set. \n",
        "\n",
        " - We used \"what\" models to discover that the ISI distribution of real neurons is closest to an exponential distribution\n",
        " - We used \"how\" models to discover that balanced excitatory and inhibitory inputs, coupled with a leaky membrane, can give rise to neuronal spiking with exhibiting such an exponential ISI distribution\n",
        " - We used \"why\" models to discover that exponential ISI distributions contain the most information when the mean spiking is constrained\n",
        "\n"
      ]
    },
    {
      "cell_type": "markdown",
      "metadata": {
        "execution": {},
        "id": "vh_Qqd3buYrp"
      },
      "source": [
        "---\n",
        "# Notation\n",
        "\n",
        "\\begin{align}\n",
        "H(X) &\\quad \\text{entropy of random variable X}\\\\\n",
        "b &\\quad \\text{base, e.g. b=2 or b=e}\\\\\n",
        "x &\\quad \\text{event x}\\\\\n",
        "p(x) &\\quad \\text{probability of observing event x}\\\\\n",
        "\\text{ISI} &\\quad \\text{interspike interval}\\\\\n",
        "n_i &\\quad \\text{count of observed ISIs in interval i}\\\\\n",
        "p_i  &\\quad \\text{probability of of an ISI falling within a particular interval i}\n",
        "\\end{align}"
      ]
    },
    {
      "cell_type": "markdown",
      "metadata": {
        "execution": {},
        "id": "P3N_clqruYrr"
      },
      "source": [
        "---\n",
        "# Bonus"
      ]
    },
    {
      "cell_type": "markdown",
      "metadata": {
        "execution": {},
        "id": "sXR89CLluYrr"
      },
      "source": [
        "---\n",
        "## Bonus Section 1: The foundations for Entropy\n",
        "\n",
        "In his foundational [1948 paper](https://en.wikipedia.org/wiki/A_Mathematical_Theory_of_Communication) on information theory, Claude Shannon began with three criteria for a function $H$ defining the entropy of a discrete distribution of probability masses $p_i\\in p(X)$ over the points $x_i\\in X$:\n",
        "1. $H$ should be continuous in the $p_i$. \n",
        "  - That is, $H$ should change smoothly in response to smooth changes to the mass $p_i$ on each point $x_i$.\n",
        "2. If all the points have equal shares of the probability mass, $p_i=1/N$, $H$ should be a non-decreasing function of $N$. \n",
        "  - That is, if $X_N$ is the support with $N$ discrete points and $p(x\\in X_N)$ assigns constant mass to each point, then $H(X_1) < H(X_2) < H(X_3) < \\dots$\n",
        "3. $H$ should be preserved by (invariant to) the equivalent (de)composition of distributions.\n",
        "  - For example (from Shannon's paper) if we have a discrete distribution over three points with masses $(\\frac{1}{2},\\frac{1}{3},\\frac{1}{6})$, then their entropy can be represented in terms of a direct choice between the three and calculated $H(\\frac{1}{2},\\frac{1}{3},\\frac{1}{6})$. However, it could also be represented in terms of a series of two choices: \n",
        "    1. either we sample the point with mass $1/2$ or not (_not_ is the other $1/2$, whose subdivisions are not given in the first choice), \n",
        "    2. if (with probability $1/2$) we _don't_ sample the first point, we sample one of the two remaining points, masses $1/3$ and $1/6$.\n",
        "    \n",
        "    Thus in this case we require that $H(\\frac{1}{2},\\frac{1}{3},\\frac{1}{6})=H(\\frac{1}{2},\\frac{1}{2}) + \\frac{1}{2}H(\\frac{1}{3}, \\frac{1}{6})$\n",
        "\n",
        "There is a unique function (up to a linear scaling factor) which satisfies these 3 requirements: \n",
        "\n",
        "\\begin{equation}\n",
        "H_b(X) = -\\sum_{x\\in X} p(x) \\log_b p(x)\n",
        "\\end{equation}\n",
        "\n",
        "Where the base of the logarithm $b>1$ controls the units of entropy. The two most common cases are $b=2$ for units of _bits_, and $b=e$ for _nats_.\n",
        "\n",
        "We can view this function as the expectation of the self-information over a distribution:\n",
        "\n",
        "\\begin{align}\n",
        "H_b(X) &= \\mathbb{E}_{x\\in X} \\left[I_b(x)\\right]\\\\\n",
        "I_b(x) &= -\\log_b p(x)\n",
        "\\end{align}\n",
        "\n",
        "Self-information is just the negative logarithm of probability, and is a measure of how surprising an event sampled from the distribution would be. Events with $p(x)=1$ are certain to occur, and their self-information is zero (as is the entropy of the distribution they compose) meaning they are totally unsurprising. The smaller the probability of an event, the higher its self-information, and the more surprising the event would be to observe. \n"
      ]
    }
  ],
  "metadata": {
    "colab": {
      "collapsed_sections": [],
      "name": "Copy of W1D1_Tutorial3",
      "provenance": [],
      "toc_visible": true,
      "include_colab_link": true
    },
    "kernel": {
      "display_name": "Python 3",
      "language": "python",
      "name": "python3"
    },
    "kernelspec": {
      "display_name": "Python 3",
      "language": "python",
      "name": "python3"
    },
    "language_info": {
      "codemirror_mode": {
        "name": "ipython",
        "version": 3
      },
      "file_extension": ".py",
      "mimetype": "text/x-python",
      "name": "python",
      "nbconvert_exporter": "python",
      "pygments_lexer": "ipython3",
      "version": "3.7.13"
    },
    "widgets": {
      "application/vnd.jupyter.widget-state+json": {
        "22a062a105824dc69dd44e1699919c99": {
          "model_module": "@jupyter-widgets/controls",
          "model_name": "VBoxModel",
          "model_module_version": "1.5.0",
          "state": {
            "_dom_classes": [
              "widget-interact"
            ],
            "_model_module": "@jupyter-widgets/controls",
            "_model_module_version": "1.5.0",
            "_model_name": "VBoxModel",
            "_view_count": null,
            "_view_module": "@jupyter-widgets/controls",
            "_view_module_version": "1.5.0",
            "_view_name": "VBoxView",
            "box_style": "",
            "children": [
              "IPY_MODEL_3d9eb6196c424fdc9ac59e3349540709",
              "IPY_MODEL_c07287394bbf4428a5e780bf102ea9e6"
            ],
            "layout": "IPY_MODEL_81c9c236ede04379b8ca1a53bd47580f"
          }
        },
        "3d9eb6196c424fdc9ac59e3349540709": {
          "model_module": "@jupyter-widgets/controls",
          "model_name": "IntSliderModel",
          "model_module_version": "1.5.0",
          "state": {
            "_dom_classes": [],
            "_model_module": "@jupyter-widgets/controls",
            "_model_module_version": "1.5.0",
            "_model_name": "IntSliderModel",
            "_view_count": null,
            "_view_module": "@jupyter-widgets/controls",
            "_view_module_version": "1.5.0",
            "_view_name": "IntSliderView",
            "continuous_update": true,
            "description": "neuron",
            "description_tooltip": null,
            "disabled": false,
            "layout": "IPY_MODEL_30c02d2d2f6743d1a3bd6bb5fb1b48c6",
            "max": 733,
            "min": 0,
            "orientation": "horizontal",
            "readout": true,
            "readout_format": "d",
            "step": 1,
            "style": "IPY_MODEL_efa3de29566e47f883526d062fe8788c",
            "value": 625
          }
        },
        "c07287394bbf4428a5e780bf102ea9e6": {
          "model_module": "@jupyter-widgets/output",
          "model_name": "OutputModel",
          "model_module_version": "1.0.0",
          "state": {
            "_dom_classes": [],
            "_model_module": "@jupyter-widgets/output",
            "_model_module_version": "1.0.0",
            "_model_name": "OutputModel",
            "_view_count": null,
            "_view_module": "@jupyter-widgets/output",
            "_view_module_version": "1.0.0",
            "_view_name": "OutputView",
            "layout": "IPY_MODEL_1645b6ec20e941b68c884d13239cde94",
            "msg_id": "",
            "outputs": [
              {
                "output_type": "display_data",
                "data": {
                  "text/plain": "<Figure size 576x432 with 1 Axes>",
                  "image/png": "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\n"
                },
                "metadata": {
                  "image/png": {
                    "width": 558,
                    "height": 413
                  },
                  "needs_background": "light"
                }
              }
            ]
          }
        },
        "81c9c236ede04379b8ca1a53bd47580f": {
          "model_module": "@jupyter-widgets/base",
          "model_name": "LayoutModel",
          "model_module_version": "1.2.0",
          "state": {
            "_model_module": "@jupyter-widgets/base",
            "_model_module_version": "1.2.0",
            "_model_name": "LayoutModel",
            "_view_count": null,
            "_view_module": "@jupyter-widgets/base",
            "_view_module_version": "1.2.0",
            "_view_name": "LayoutView",
            "align_content": null,
            "align_items": null,
            "align_self": null,
            "border": null,
            "bottom": null,
            "display": null,
            "flex": null,
            "flex_flow": null,
            "grid_area": null,
            "grid_auto_columns": null,
            "grid_auto_flow": null,
            "grid_auto_rows": null,
            "grid_column": null,
            "grid_gap": null,
            "grid_row": null,
            "grid_template_areas": null,
            "grid_template_columns": null,
            "grid_template_rows": null,
            "height": null,
            "justify_content": null,
            "justify_items": null,
            "left": null,
            "margin": null,
            "max_height": null,
            "max_width": null,
            "min_height": null,
            "min_width": null,
            "object_fit": null,
            "object_position": null,
            "order": null,
            "overflow": null,
            "overflow_x": null,
            "overflow_y": null,
            "padding": null,
            "right": null,
            "top": null,
            "visibility": null,
            "width": null
          }
        },
        "30c02d2d2f6743d1a3bd6bb5fb1b48c6": {
          "model_module": "@jupyter-widgets/base",
          "model_name": "LayoutModel",
          "model_module_version": "1.2.0",
          "state": {
            "_model_module": "@jupyter-widgets/base",
            "_model_module_version": "1.2.0",
            "_model_name": "LayoutModel",
            "_view_count": null,
            "_view_module": "@jupyter-widgets/base",
            "_view_module_version": "1.2.0",
            "_view_name": "LayoutView",
            "align_content": null,
            "align_items": null,
            "align_self": null,
            "border": null,
            "bottom": null,
            "display": null,
            "flex": null,
            "flex_flow": null,
            "grid_area": null,
            "grid_auto_columns": null,
            "grid_auto_flow": null,
            "grid_auto_rows": null,
            "grid_column": null,
            "grid_gap": null,
            "grid_row": null,
            "grid_template_areas": null,
            "grid_template_columns": null,
            "grid_template_rows": null,
            "height": null,
            "justify_content": null,
            "justify_items": null,
            "left": null,
            "margin": null,
            "max_height": null,
            "max_width": null,
            "min_height": null,
            "min_width": null,
            "object_fit": null,
            "object_position": null,
            "order": null,
            "overflow": null,
            "overflow_x": null,
            "overflow_y": null,
            "padding": null,
            "right": null,
            "top": null,
            "visibility": null,
            "width": null
          }
        },
        "efa3de29566e47f883526d062fe8788c": {
          "model_module": "@jupyter-widgets/controls",
          "model_name": "SliderStyleModel",
          "model_module_version": "1.5.0",
          "state": {
            "_model_module": "@jupyter-widgets/controls",
            "_model_module_version": "1.5.0",
            "_model_name": "SliderStyleModel",
            "_view_count": null,
            "_view_module": "@jupyter-widgets/base",
            "_view_module_version": "1.2.0",
            "_view_name": "StyleView",
            "description_width": "",
            "handle_color": null
          }
        },
        "1645b6ec20e941b68c884d13239cde94": {
          "model_module": "@jupyter-widgets/base",
          "model_name": "LayoutModel",
          "model_module_version": "1.2.0",
          "state": {
            "_model_module": "@jupyter-widgets/base",
            "_model_module_version": "1.2.0",
            "_model_name": "LayoutModel",
            "_view_count": null,
            "_view_module": "@jupyter-widgets/base",
            "_view_module_version": "1.2.0",
            "_view_name": "LayoutView",
            "align_content": null,
            "align_items": null,
            "align_self": null,
            "border": null,
            "bottom": null,
            "display": null,
            "flex": null,
            "flex_flow": null,
            "grid_area": null,
            "grid_auto_columns": null,
            "grid_auto_flow": null,
            "grid_auto_rows": null,
            "grid_column": null,
            "grid_gap": null,
            "grid_row": null,
            "grid_template_areas": null,
            "grid_template_columns": null,
            "grid_template_rows": null,
            "height": null,
            "justify_content": null,
            "justify_items": null,
            "left": null,
            "margin": null,
            "max_height": null,
            "max_width": null,
            "min_height": null,
            "min_width": null,
            "object_fit": null,
            "object_position": null,
            "order": null,
            "overflow": null,
            "overflow_x": null,
            "overflow_y": null,
            "padding": null,
            "right": null,
            "top": null,
            "visibility": null,
            "width": null
          }
        }
      }
    }
  },
  "nbformat": 4,
  "nbformat_minor": 0
}