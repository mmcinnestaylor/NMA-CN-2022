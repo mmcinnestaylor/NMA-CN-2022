{
  "nbformat": 4,
  "nbformat_minor": 0,
  "metadata": {
    "colab": {
      "name": "steinmetz_analysis.ipynb",
      "provenance": [],
      "collapsed_sections": [],
      "machine_shape": "hm",
      "include_colab_link": true
    },
    "kernelspec": {
      "name": "python3",
      "display_name": "Python 3"
    },
    "language_info": {
      "name": "python"
    },
    "gpuClass": "standard"
  },
  "cells": [
    {
      "cell_type": "markdown",
      "metadata": {
        "id": "view-in-github",
        "colab_type": "text"
      },
      "source": [
        "<a href=\"https://colab.research.google.com/github/mmcinnestaylor/NMA-CN-2022/blob/main/project/steinmetz_analysis.ipynb\" target=\"_parent\"><img src=\"https://colab.research.google.com/assets/colab-badge.svg\" alt=\"Open In Colab\"/></a>"
      ]
    },
    {
      "cell_type": "code",
      "execution_count": 1,
      "metadata": {
        "id": "LfDG_mHHVKsv",
        "colab": {
          "base_uri": "https://localhost:8080/"
        },
        "outputId": "c2f1fe88-297c-4f76-8c84-58ac983e50db"
      },
      "outputs": [
        {
          "output_type": "stream",
          "name": "stdout",
          "text": [
            "Mounted at /content/drive\n"
          ]
        }
      ],
      "source": [
        "from google.colab import drive\n",
        "drive.mount('/content/drive')"
      ]
    },
    {
      "cell_type": "code",
      "source": [
        "import os, csv, math\n",
        "import numpy as np\n",
        "import pandas as pd\n",
        "import matplotlib.pyplot as plt\n",
        "\n",
        "from datetime import datetime\n",
        "from tqdm import tqdm"
      ],
      "metadata": {
        "id": "PCcEl-7AVp58"
      },
      "execution_count": 2,
      "outputs": []
    },
    {
      "cell_type": "code",
      "source": [
        "BASE_PATH = '/content/drive/MyDrive/steinmetz' # Path to dataset base directory"
      ],
      "metadata": {
        "id": "oZYfViQqF_0Y"
      },
      "execution_count": 3,
      "outputs": []
    },
    {
      "cell_type": "code",
      "source": [
        "# @title Helper Functions\n",
        "#@markdown - get_spike_trains(clustered_spikes, start_time=0, bin_size=10, window_size=100, format='binary')\n",
        "#@markdown  - Generates spike trains for each valid cluster in a recording session.\n",
        "#@markdown - get_area_spike_trains(clustered_spikes, clusters_locs, start_time=0, bin_size=10, window_size=100, format='counts', aggregate=True)\n",
        "#@markdown  - Generates spike trains separated by brain area\n",
        "#@markdown - clusters_to_area(cluster_ids, cluster_locs)\n",
        "#@markdown  - Generates a dictionary keyed by brain areas monitored during a recording session. The values are lists of np arrays corresponding the the cluster\n",
        "#@markdown - group_trial_timestamps(intervals, vis_stims, go_cues, responses, feedback)\n",
        "#@markdown  - Groups all timepoints per trial: start, visual stimulus, go cue, response, feedback, trial end\n",
        "\n",
        "def get_spike_trains(clustered_spikes, start_time=0, bin_size=10, window_size=100, format='binary'):\n",
        "  \"\"\"\n",
        "  Spike train generator function.\n",
        "  Builds trains over a given time window using discrete time bins. \n",
        "\n",
        "  Args:\n",
        "    clustered_spikes : a dictionary of clusters\n",
        "    start_time(ms)   : the starting time point of the window within a session\n",
        "    bin_size(ms)     : the size of the discrete time step within the window\n",
        "    window_size(ms)  : the width of the time window\n",
        "    window_size(ms)  : binary or counts\n",
        "\n",
        "  Returns:\n",
        "    spike_trains     : the spikes trains of the neurons in the window\n",
        "  \"\"\"\n",
        "  \n",
        "  num_neurons = len(clustered_spikes.keys())\n",
        "  num_bins = int(window_size/bin_size)\n",
        "\n",
        "  if format == 'binary' or format == 'counts':\n",
        "    # Initialize spike train matrix [num_neurons x num_bins]\n",
        "    spike_trains = np.zeros((num_neurons,num_bins), dtype=int)\n",
        "\n",
        "    # Iterate over all neurons in a recording session\n",
        "    for i,cluster_id in enumerate(sorted(clustered_spikes.keys())):\n",
        "      # Iterate over time bins in the window\n",
        "      for j in range(num_bins):\n",
        "        # Define bin start and end times\n",
        "        bin_start = start_time + (j * bin_size)\n",
        "        bin_end = start_time + ((j+1) * bin_size)\n",
        "        \n",
        "        # Convert spike times of a given neuron to millisecond scale\n",
        "        neuron_spikes = clustered_spikes[cluster_id] * 1000 \n",
        "        \n",
        "        # Check if a spike occured in time bin [start, end)\n",
        "        spikes = np.logical_and(neuron_spikes>=bin_start, neuron_spikes<bin_end)\n",
        "        if format == 'binary':\n",
        "          if True in spikes:\n",
        "            spike_trains[i][j] = 1\n",
        "        else:\n",
        "          spike_trains[i][j] = np.count_nonzero(spikes==True) \n",
        "  else: # to be implemented\n",
        "    pass\n",
        "    \n",
        "  return spike_trains\n",
        "\n",
        "\n",
        "def clusters_to_area(cluster_ids, cluster_locs):\n",
        "  # Get set of brain areas recorded\n",
        "  brain_areas = set(cluster_locs.tolist())\n",
        "\n",
        "  # Build output dict-> key=brain area, val=all clusters in brain area\n",
        "  clusters_per_area = {area: [] for area in brain_areas}\n",
        "\n",
        "  # Group clusters by brain area\n",
        "  for id in cluster_ids:\n",
        "    cluster_area = cluster_locs[id]\n",
        "    clusters_per_area[cluster_area].append(id)\n",
        "  \n",
        "  # Convert lists to np arrays for efficiency \n",
        "  for area in clusters_per_area.keys():\n",
        "    clusters_per_area[area] = np.array(sorted(clusters_per_area[area]))\n",
        "\n",
        "  return clusters_per_area\n",
        "\n",
        "\n",
        "def get_area_spike_trains(clustered_spikes, clusters_locs, start_time=0, bin_size=10, window_size=100, format='counts', aggregate=True, print_areas=False):\n",
        "  num_bins = int(window_size/bin_size)\n",
        "  clusters_by_area = clusters_to_area(clustered_spikes.keys(), clusters_locs)\n",
        "  area_spikes = {area: np.zeros((clusters_by_area[area].shape[0], num_bins)) for area in clusters_by_area.keys()}\n",
        "\n",
        "  # Process \n",
        "  for area in area_spikes.keys():\n",
        "    if print_areas:\n",
        "      print(f'Processing area: {area} - {len(clusters_by_area[area])} clusters')\n",
        "\n",
        "    # Iterate through the clusters in an area\n",
        "    for i,cluster_id in enumerate(clusters_by_area[area]):\n",
        "      \n",
        "      # Convert spike times of a given neuron to millisecond scale\n",
        "      neuron_spikes = clustered_spikes[cluster_id] * 1000\n",
        "\n",
        "      # Iterate through time bins\n",
        "      for j in range(num_bins):\n",
        "        \n",
        "        # Define bin start and end times\n",
        "        bin_start = start_time + (j * bin_size)\n",
        "        bin_end = start_time + ((j+1) * bin_size)\n",
        "\n",
        "        # Check if a spike occured in time bin [start, end)\n",
        "        spikes = np.logical_and(neuron_spikes>=bin_start, neuron_spikes<bin_end)\n",
        "      \n",
        "        if format == 'binary':\n",
        "          if True in spikes:\n",
        "            area_spikes[area][i][j] = 1\n",
        "        else: # Counts\n",
        "          area_spikes[area][i][j] = np.count_nonzero(spikes==True)\n",
        "\n",
        "    # Combines all area neuron behavior into a single array\n",
        "    if aggregate==True and format=='counts':\n",
        "      area_spikes[area] = area_spikes[area].sum(axis=0)\n",
        "    elif aggregate==True and format=='binary':\n",
        "      counts = area_spikes[area].sum(axis=0)\n",
        "      area_spikes[area] = 1 * np.logical_and(counts > 0)\n",
        "\n",
        "  return area_spikes\n",
        "\n",
        "def group_trial_timestamps(intervals, vis_stims, go_cues, responses, feedback):\n",
        "  num_trials = intervals.shape[0]\n",
        "  trial_timepoints = np.zeros((num_trials, 6))\n",
        "\n",
        "  for trial in range(num_trials):     \n",
        "    # Trial start\n",
        "    trial_timepoints[trial][0] = intervals[trial][0]\n",
        "    # Visual stimulus\n",
        "    trial_timepoints[trial][1] = vis_stims[trial][0]\n",
        "    # Go gue\n",
        "    trial_timepoints[trial][2] = go_cues[trial][0]\n",
        "    # Response(wheel turn)\n",
        "    trial_timepoints[trial][3] = responses[trial][0]\n",
        "    # Feeback\n",
        "    trial_timepoints[trial][4] = feedback[trial][0]\n",
        "    # Trial end\n",
        "    trial_timepoints[trial][5] = intervals[trial][1]\n",
        "\n",
        "  return trial_timepoints\n"
      ],
      "metadata": {
        "id": "kVRDJAIvx64c",
        "cellView": "form"
      },
      "execution_count": 4,
      "outputs": []
    },
    {
      "cell_type": "code",
      "source": [
        "# @title Load Data\n",
        "#@markdown - Uses the path defined in BASE_PATH\n",
        "#@markdown - Assumes each recording session resides in a separate subdirectory formatted as mouseID_year-month-date\n",
        "#@markdown - **'mouse_id'**: (str) Mouse name per session directory format\n",
        "#@markdown - **'session_date'**: (date) Date of session per session directory format\n",
        "#@markdown - **'clustered_spikes'**: A dictionary of clusters(neurons) recorded during the session. Clusters with annotation values < 1 are not included.\n",
        "#@markdown  - keys(int): The cluster's integer ID as specified in the datafiles.\n",
        "#@markdown  - values(np.array): A 1-D array of size *nSpikes* where each entry corresponds to a time point in seconds during the recording session in which the cluster(neuron) produced a spike.\n",
        "#@markdown - **'clusters_locs'**: (np.array) A 1-D  array of size *nClusters* where each entry corresponds to the the Allen CCF brain area of cluster *n*.\n",
        "#@markdown  - This array includes **all** clusters from a recording session. Thus the keys of `clustered_spikes` should be used as the index number when accessing the values here.\n",
        "#@markdown - **'trials_fb_times'**: trials.feedback_times.npy\n",
        "#@markdown - **'trials_fb_type'**: trials.feedbackType.npy\n",
        "#@markdown - **'trials_go_times'**: trials.goCue_times.npy\n",
        "#@markdown - **'trials_included'**: trials.included.npy\n",
        "#@markdown - **'trials_intervals'**: trials.intervals.npy\n",
        "#@markdown - **'trials_rep_num'**: trials.repNum.npy\n",
        "#@markdown - **'trials_resp_choice'**: trials.response_choice.npy\n",
        "#@markdown - **'trials_resp_times'**: trials.response_times.npy\n",
        "#@markdown - **'trials_vis_times'**: trials.visualStim_times.npy\n",
        "\n",
        "\n",
        "all_session_data = dict()\n",
        "\n",
        "# Order sessions by surname + date\n",
        "for i,session in tqdm(enumerate(sorted(os.listdir(BASE_PATH)))):\n",
        "  session_path = os.path.join(BASE_PATH, session)\n",
        "\n",
        "  print(f\"Loading session: {session} \")\n",
        "\n",
        "  # Load spike and cluster data\n",
        "  raw_spikes = np.load(session_path+'/spikes.times.npy')\n",
        "  raw_clusters = np.load(session_path+'/spikes.clusters.npy')\n",
        "  cluster_annotations = np.load(session_path+'/clusters._phy_annotation.npy'), #cluster quality\n",
        "  num_clusters = raw_clusters.max() \n",
        "\n",
        "  # Initialize 2-D list\n",
        "  sorted_spike_times = [[] for i in range(num_clusters+1)]\n",
        "\n",
        "  # Group spike times by their predicted cluster number \n",
        "  for j in range(len(raw_spikes)):\n",
        "    sorted_spike_times[raw_clusters[j][0]].append(raw_spikes[j][0])\n",
        "  \n",
        "  # Dict to store valid clusters (annotation quality > 1)\n",
        "  filtered_clusters = dict()\n",
        "\n",
        "  # Convert clustered spikes to numpy arrays for efficiency\n",
        "  for j,cluster in enumerate(sorted_spike_times):\n",
        "    # Only store valid clusters\n",
        "    if cluster_annotations[0][j][0] > 1:\n",
        "      filtered_clusters[j] = np.array(sorted_spike_times[j])\n",
        "\n",
        "  cluster_locs = []\n",
        "  cluster_peak_channels = np.load(session_path+'/clusters.peakChannel.npy')\n",
        "  brain_locs = pd.read_csv(session_path+'/channels.brainLocation.tsv', sep='\\t')\n",
        "\n",
        "  for cluster in cluster_peak_channels:\n",
        "    # Offset area index by 1 due to 0-indexing in Pandas\n",
        "    # clusters.peakChannel.npy appears to use 1-indexing\n",
        "    idx = cluster[0]-1\n",
        "    cluster_locs.append(brain_locs['allen_ontology'][idx])\n",
        "  \n",
        "  # Convert cluster brain locations to np array for efficiency\n",
        "  cluster_locs = np.array(cluster_locs)\n",
        "\n",
        "  # Load session data into dictionary\n",
        "  all_session_data[i] = {\n",
        "    # Session information\n",
        "    'mouse_id': session.split('_')[0],\n",
        "    'session_date': datetime.strptime(session.split('_')[1], '%Y-%m-%d').date(),\n",
        "\n",
        "    # Neural Data \n",
        "    'clustered_spikes': filtered_clusters, # Dict: key=cluster_ID, val=spike_times(seconds)\n",
        "\n",
        "    # Cluster Data\n",
        "    'clusters_locs': cluster_locs,\n",
        "\n",
        "    # Trial Data\n",
        "    'trials_fb_type': np.load(session_path+'/trials.feedbackType.npy'),\n",
        "    'trials_fb_times': np.load(session_path+'/trials.feedback_times.npy'),\n",
        "    'trials_go_times': np.load(session_path+'/trials.goCue_times.npy'),\n",
        "    'trials_included': np.load(session_path+'/trials.included.npy'),\n",
        "    'trials_rep_num': np.load(session_path+'/trials.repNum.npy'),\n",
        "    'trials_resp_choice': np.load(session_path+'/trials.response_choice.npy'),\n",
        "    'trials_resp_times': np.load(session_path+'/trials.response_times.npy'),\n",
        "    'trials_intervals': np.load(session_path+'/trials.intervals.npy'),\n",
        "    'trials_vis_times': np.load(session_path+'/trials.visualStim_times.npy')\n",
        "  }"
      ],
      "metadata": {
        "id": "6PwfjOuKDpzp",
        "cellView": "form",
        "colab": {
          "base_uri": "https://localhost:8080/"
        },
        "outputId": "686d1366-707c-4f50-9fea-8b71c522b27d"
      },
      "execution_count": 5,
      "outputs": [
        {
          "output_type": "stream",
          "name": "stderr",
          "text": [
            "\r0it [00:00, ?it/s]"
          ]
        },
        {
          "output_type": "stream",
          "name": "stdout",
          "text": [
            "Loading session: Cori_2016-12-14 \n"
          ]
        },
        {
          "output_type": "stream",
          "name": "stderr",
          "text": [
            "\r1it [00:13, 13.94s/it]"
          ]
        },
        {
          "output_type": "stream",
          "name": "stdout",
          "text": [
            "Loading session: Cori_2016-12-17 \n"
          ]
        },
        {
          "output_type": "stream",
          "name": "stderr",
          "text": [
            "\r2it [00:28, 14.33s/it]"
          ]
        },
        {
          "output_type": "stream",
          "name": "stdout",
          "text": [
            "Loading session: Cori_2016-12-18 \n"
          ]
        },
        {
          "output_type": "stream",
          "name": "stderr",
          "text": [
            "\r3it [00:51, 18.21s/it]"
          ]
        },
        {
          "output_type": "stream",
          "name": "stdout",
          "text": [
            "Loading session: Forssmann_2017-11-01 \n"
          ]
        },
        {
          "output_type": "stream",
          "name": "stderr",
          "text": [
            "\r4it [01:12, 19.41s/it]"
          ]
        },
        {
          "output_type": "stream",
          "name": "stdout",
          "text": [
            "Loading session: Forssmann_2017-11-02 \n"
          ]
        },
        {
          "output_type": "stream",
          "name": "stderr",
          "text": [
            "\r5it [01:27, 17.66s/it]"
          ]
        },
        {
          "output_type": "stream",
          "name": "stdout",
          "text": [
            "Loading session: Forssmann_2017-11-04 \n"
          ]
        },
        {
          "output_type": "stream",
          "name": "stderr",
          "text": [
            "\r6it [01:39, 15.96s/it]"
          ]
        },
        {
          "output_type": "stream",
          "name": "stdout",
          "text": [
            "Loading session: Forssmann_2017-11-05 \n"
          ]
        },
        {
          "output_type": "stream",
          "name": "stderr",
          "text": [
            "\r7it [01:51, 14.41s/it]"
          ]
        },
        {
          "output_type": "stream",
          "name": "stdout",
          "text": [
            "Loading session: Hench_2017-06-15 \n"
          ]
        },
        {
          "output_type": "stream",
          "name": "stderr",
          "text": [
            "\r8it [02:18, 18.47s/it]"
          ]
        },
        {
          "output_type": "stream",
          "name": "stdout",
          "text": [
            "Loading session: Hench_2017-06-16 \n"
          ]
        },
        {
          "output_type": "stream",
          "name": "stderr",
          "text": [
            "\r9it [02:39, 19.23s/it]"
          ]
        },
        {
          "output_type": "stream",
          "name": "stdout",
          "text": [
            "Loading session: Hench_2017-06-17 \n"
          ]
        },
        {
          "output_type": "stream",
          "name": "stderr",
          "text": [
            "\r10it [03:01, 20.22s/it]"
          ]
        },
        {
          "output_type": "stream",
          "name": "stdout",
          "text": [
            "Loading session: Hench_2017-06-18 \n"
          ]
        },
        {
          "output_type": "stream",
          "name": "stderr",
          "text": [
            "\r11it [03:15, 18.30s/it]"
          ]
        },
        {
          "output_type": "stream",
          "name": "stdout",
          "text": [
            "Loading session: Lederberg_2017-12-05 \n"
          ]
        },
        {
          "output_type": "stream",
          "name": "stderr",
          "text": [
            "\r12it [03:31, 17.45s/it]"
          ]
        },
        {
          "output_type": "stream",
          "name": "stdout",
          "text": [
            "Loading session: Lederberg_2017-12-06 \n"
          ]
        },
        {
          "output_type": "stream",
          "name": "stderr",
          "text": [
            "\r13it [04:00, 21.00s/it]"
          ]
        },
        {
          "output_type": "stream",
          "name": "stdout",
          "text": [
            "Loading session: Lederberg_2017-12-07 \n"
          ]
        },
        {
          "output_type": "stream",
          "name": "stderr",
          "text": [
            "\r14it [04:13, 18.70s/it]"
          ]
        },
        {
          "output_type": "stream",
          "name": "stdout",
          "text": [
            "Loading session: Lederberg_2017-12-08 \n"
          ]
        },
        {
          "output_type": "stream",
          "name": "stderr",
          "text": [
            "\r15it [04:30, 18.14s/it]"
          ]
        },
        {
          "output_type": "stream",
          "name": "stdout",
          "text": [
            "Loading session: Lederberg_2017-12-09 \n"
          ]
        },
        {
          "output_type": "stream",
          "name": "stderr",
          "text": [
            "\r16it [04:41, 15.98s/it]"
          ]
        },
        {
          "output_type": "stream",
          "name": "stdout",
          "text": [
            "Loading session: Lederberg_2017-12-10 \n"
          ]
        },
        {
          "output_type": "stream",
          "name": "stderr",
          "text": [
            "\r17it [04:50, 13.93s/it]"
          ]
        },
        {
          "output_type": "stream",
          "name": "stdout",
          "text": [
            "Loading session: Lederberg_2017-12-11 \n"
          ]
        },
        {
          "output_type": "stream",
          "name": "stderr",
          "text": [
            "\r18it [05:05, 14.10s/it]"
          ]
        },
        {
          "output_type": "stream",
          "name": "stdout",
          "text": [
            "Loading session: Moniz_2017-05-15 \n"
          ]
        },
        {
          "output_type": "stream",
          "name": "stderr",
          "text": [
            "\r19it [05:26, 16.43s/it]"
          ]
        },
        {
          "output_type": "stream",
          "name": "stdout",
          "text": [
            "Loading session: Moniz_2017-05-16 \n"
          ]
        },
        {
          "output_type": "stream",
          "name": "stderr",
          "text": [
            "\r20it [05:45, 16.99s/it]"
          ]
        },
        {
          "output_type": "stream",
          "name": "stdout",
          "text": [
            "Loading session: Moniz_2017-05-18 \n"
          ]
        },
        {
          "output_type": "stream",
          "name": "stderr",
          "text": [
            "\r21it [06:02, 16.94s/it]"
          ]
        },
        {
          "output_type": "stream",
          "name": "stdout",
          "text": [
            "Loading session: Muller_2017-01-07 \n"
          ]
        },
        {
          "output_type": "stream",
          "name": "stderr",
          "text": [
            "\r22it [06:18, 16.78s/it]"
          ]
        },
        {
          "output_type": "stream",
          "name": "stdout",
          "text": [
            "Loading session: Muller_2017-01-08 \n"
          ]
        },
        {
          "output_type": "stream",
          "name": "stderr",
          "text": [
            "\r23it [06:31, 15.78s/it]"
          ]
        },
        {
          "output_type": "stream",
          "name": "stdout",
          "text": [
            "Loading session: Muller_2017-01-09 \n"
          ]
        },
        {
          "output_type": "stream",
          "name": "stderr",
          "text": [
            "\r24it [06:44, 14.79s/it]"
          ]
        },
        {
          "output_type": "stream",
          "name": "stdout",
          "text": [
            "Loading session: Radnitz_2017-01-08 \n"
          ]
        },
        {
          "output_type": "stream",
          "name": "stderr",
          "text": [
            "\r25it [07:03, 16.03s/it]"
          ]
        },
        {
          "output_type": "stream",
          "name": "stdout",
          "text": [
            "Loading session: Radnitz_2017-01-09 \n"
          ]
        },
        {
          "output_type": "stream",
          "name": "stderr",
          "text": [
            "\r26it [07:16, 15.10s/it]"
          ]
        },
        {
          "output_type": "stream",
          "name": "stdout",
          "text": [
            "Loading session: Radnitz_2017-01-10 \n"
          ]
        },
        {
          "output_type": "stream",
          "name": "stderr",
          "text": [
            "\r27it [07:35, 16.26s/it]"
          ]
        },
        {
          "output_type": "stream",
          "name": "stdout",
          "text": [
            "Loading session: Radnitz_2017-01-11 \n"
          ]
        },
        {
          "output_type": "stream",
          "name": "stderr",
          "text": [
            "\r28it [07:52, 16.45s/it]"
          ]
        },
        {
          "output_type": "stream",
          "name": "stdout",
          "text": [
            "Loading session: Radnitz_2017-01-12 \n"
          ]
        },
        {
          "output_type": "stream",
          "name": "stderr",
          "text": [
            "\r29it [08:05, 15.61s/it]"
          ]
        },
        {
          "output_type": "stream",
          "name": "stdout",
          "text": [
            "Loading session: Richards_2017-10-29 \n"
          ]
        },
        {
          "output_type": "stream",
          "name": "stderr",
          "text": [
            "\r30it [08:20, 15.36s/it]"
          ]
        },
        {
          "output_type": "stream",
          "name": "stdout",
          "text": [
            "Loading session: Richards_2017-10-30 \n"
          ]
        },
        {
          "output_type": "stream",
          "name": "stderr",
          "text": [
            "\r31it [08:34, 14.83s/it]"
          ]
        },
        {
          "output_type": "stream",
          "name": "stdout",
          "text": [
            "Loading session: Richards_2017-10-31 \n"
          ]
        },
        {
          "output_type": "stream",
          "name": "stderr",
          "text": [
            "\r32it [08:42, 12.86s/it]"
          ]
        },
        {
          "output_type": "stream",
          "name": "stdout",
          "text": [
            "Loading session: Richards_2017-11-01 \n"
          ]
        },
        {
          "output_type": "stream",
          "name": "stderr",
          "text": [
            "\r33it [08:54, 12.51s/it]"
          ]
        },
        {
          "output_type": "stream",
          "name": "stdout",
          "text": [
            "Loading session: Richards_2017-11-02 \n"
          ]
        },
        {
          "output_type": "stream",
          "name": "stderr",
          "text": [
            "\r34it [09:06, 12.52s/it]"
          ]
        },
        {
          "output_type": "stream",
          "name": "stdout",
          "text": [
            "Loading session: Tatum_2017-12-06 \n"
          ]
        },
        {
          "output_type": "stream",
          "name": "stderr",
          "text": [
            "\r35it [09:24, 14.04s/it]"
          ]
        },
        {
          "output_type": "stream",
          "name": "stdout",
          "text": [
            "Loading session: Tatum_2017-12-07 \n"
          ]
        },
        {
          "output_type": "stream",
          "name": "stderr",
          "text": [
            "\r36it [09:38, 14.16s/it]"
          ]
        },
        {
          "output_type": "stream",
          "name": "stdout",
          "text": [
            "Loading session: Tatum_2017-12-08 \n"
          ]
        },
        {
          "output_type": "stream",
          "name": "stderr",
          "text": [
            "\r37it [10:12, 20.03s/it]"
          ]
        },
        {
          "output_type": "stream",
          "name": "stdout",
          "text": [
            "Loading session: Tatum_2017-12-09 \n"
          ]
        },
        {
          "output_type": "stream",
          "name": "stderr",
          "text": [
            "\r38it [10:29, 19.18s/it]"
          ]
        },
        {
          "output_type": "stream",
          "name": "stdout",
          "text": [
            "Loading session: Theiler_2017-10-11 \n"
          ]
        },
        {
          "output_type": "stream",
          "name": "stderr",
          "text": [
            "39it [10:42, 16.48s/it]\n"
          ]
        }
      ]
    },
    {
      "cell_type": "code",
      "source": [
        "# @title File writer for Kobayashi method\n",
        "\n",
        "#num_clusters = len(sorted_spike_times.keys())\n",
        "\n",
        "with open(\"/content/drive/MyDrive/steinmetz/Cori_2016-12-14/kobayashi_datafile_5n.txt\", \"w\") as f:\n",
        "  for i,cluster in enumerate(sorted_spike_times.keys()):\n",
        "    written = False\n",
        "    \n",
        "    # check if cluster is valid \n",
        "    if spike_clusters_annotations[cluster][0] < 2:\n",
        "      continue\n",
        "\n",
        "    for time in sorted_spike_times[cluster]:\n",
        "      # limit spikes to first 5 minutes\n",
        "      if time <= 10:\n",
        "        written = True\n",
        "        f.write(str(time)+'\\n')\n",
        "\n",
        "    #if i != num_clusters:\n",
        "    # append only if a spike time has been written for a given neuron\n",
        "    if written:    \n",
        "      f.write(';\\n')\n",
        "  \n",
        "  f.close()"
      ],
      "metadata": {
        "id": "DaTZwFISn6nA",
        "cellView": "form"
      },
      "execution_count": null,
      "outputs": []
    },
    {
      "cell_type": "code",
      "source": [
        "clustered_locs = clusters_to_area(all_session_data[0]['clustered_spikes'].keys(), all_session_data[0]['clusters_locs'])"
      ],
      "metadata": {
        "id": "-ZvXIVn7yg6S"
      },
      "execution_count": 26,
      "outputs": []
    },
    {
      "cell_type": "code",
      "source": [
        "area_spikes = get_area_spike_trains(all_session_data[0]['clustered_spikes'], all_session_data[0]['clusters_locs'], start_time=0, bin_size=10, window_size=100, format='counts', aggregate=True)"
      ],
      "metadata": {
        "id": "Kbp0DI4TGIrW"
      },
      "execution_count": 28,
      "outputs": []
    },
    {
      "cell_type": "code",
      "source": [
        "trials_times = group_trial_timestamps(all_session_data[0]['trials_intervals'], all_session_data[0]['trials_vis_times'], all_session_data[0]['trials_go_times'], all_session_data[0]['trials_resp_times'], all_session_data[0]['trials_fb_times'])"
      ],
      "metadata": {
        "id": "NvpyOqrE_rvq"
      },
      "execution_count": 6,
      "outputs": []
    },
    {
      "cell_type": "code",
      "source": [
        "choice_code_areas = ['MOs', 'PL', 'MOp', 'CP', 'SNr', 'SCm', 'MRN', 'ZI']"
      ],
      "metadata": {
        "id": "Exs1I-_MyGo1"
      },
      "execution_count": 7,
      "outputs": []
    },
    {
      "cell_type": "markdown",
      "source": [
        "### Examining v2r and c2r statistics"
      ],
      "metadata": {
        "id": "ONAw_8whL05q"
      }
    },
    {
      "cell_type": "code",
      "source": [
        "delta_v2r = []\n",
        "delta_c2r = []\n",
        "engaged_trials = 0\n",
        "total_trials = 0\n",
        "\n",
        "for session in all_session_data.keys():\n",
        "  grouped_trials_times = group_trial_timestamps(all_session_data[session]['trials_intervals'], all_session_data[session]['trials_vis_times'], all_session_data[session]['trials_go_times'], all_session_data[session]['trials_resp_times'], all_session_data[session]['trials_fb_times'])\n",
        "  session_areas = set(all_session_data[session]['clusters_locs'])\n",
        "\n",
        "  aoi_present = False\n",
        "  for area in choice_code_areas:\n",
        "    if area in session_areas:\n",
        "      aoi_present = True\n",
        "      break\n",
        "\n",
        "  if aoi_present == True:\n",
        "    #print(f'SESSION: {session} - choice areas detected')\n",
        "    \n",
        "    session_engaged_trials = 0\n",
        "    for i,trial in enumerate(grouped_trials_times):\n",
        "      total_trials += 1\n",
        "      if all_session_data[session]['trials_included'][i] == True:\n",
        "        engaged_trials += 1\n",
        "        session_engaged_trials += 1\n",
        "        delta_v2r.append(trial[3] - trial[1]) # vis stim to response delta\n",
        "        delta_c2r.append(trial[3] - trial[2]) # cue to response delta\n",
        "    #print(f'Engaged trials: {session_engaged_trials}/{len(grouped_trials_times)}')\n",
        "  else:\n",
        "    #print(f'SESSION: {session} - choice areas not recorded')\n",
        "    continue"
      ],
      "metadata": {
        "id": "qJ-5SPtG2FLq"
      },
      "execution_count": 16,
      "outputs": []
    },
    {
      "cell_type": "code",
      "source": [
        "delta_v2r = np.array(delta_v2r)\n",
        "delta_c2r = np.array(delta_c2r)\n",
        "\n",
        "avg_v2r = np.average(delta_v2r)\n",
        "med_v2r = np.median(delta_v2r)\n",
        "max_v2r = delta_v2r.max()\n",
        "min_v2r = delta_v2r.min()\n",
        "\n",
        "avg_c2r = np.average(delta_c2r)\n",
        "med_c2r = np.median(delta_c2r)\n",
        "max_c2r = delta_c2r.max()\n",
        "min_c2r = delta_c2r.min()\n",
        "\n",
        "print(f'V2R:\\n  avg: {avg_v2r}\\n  med: {med_v2r}\\n  max: {max_v2r}\\n  min: {min_v2r}')\n",
        "print(f'C2R:\\n  avg: {avg_c2r}\\n  med: {med_c2r}\\n  max: {max_c2r}\\n  min: {min_c2r}')"
      ],
      "metadata": {
        "id": "q7AUdM8U-NBG"
      },
      "execution_count": null,
      "outputs": []
    },
    {
      "cell_type": "code",
      "source": [
        "data = [delta_v2r, delta_c2r]\n",
        "fig = plt.figure(figsize =(10, 7))\n",
        "\n",
        "# Creating axes instance\n",
        "ax = fig.add_axes([0, 0, 1, 1])\n",
        "\n",
        "# Creating plot\n",
        "plt.boxplot(data)\n",
        "\n",
        "# x-axis labels\n",
        "ax.set_xticklabels(['v2r', 'c2r'])\n",
        "\n",
        "plt.xlabel('Deltas')\n",
        "plt.ylabel('Seconds')\n",
        "\n",
        "# Removing top axes and right axes\n",
        "# ticks\n",
        "ax.get_xaxis().tick_bottom()\n",
        "ax.get_yaxis().tick_left()\n",
        "\n",
        "# show plot\n",
        "plt.show()"
      ],
      "metadata": {
        "id": "-YpS96_yEHBo"
      },
      "execution_count": null,
      "outputs": []
    },
    {
      "cell_type": "markdown",
      "source": [
        "### Build choice area dataset\n",
        "Per the Steinmetz results, choice selective behavior occurs 50-100ms before movement onset. Thus we build a dataset of neural data from choice coding areas using a window size of 100ms. "
      ],
      "metadata": {
        "id": "3S8HnV_tL7up"
      }
    },
    {
      "cell_type": "code",
      "source": [
        "BIN_SIZE = 5 # milliseconds\n",
        "WINDOW_SIZE = 100 # milliseconds"
      ],
      "metadata": {
        "id": "P_PvDTDfL686"
      },
      "execution_count": 31,
      "outputs": []
    },
    {
      "cell_type": "code",
      "source": [
        "neural_data = []\n",
        "choice_data = []\n",
        "\n",
        "for session in all_session_data.keys():\n",
        "  grouped_trials_times = group_trial_timestamps(all_session_data[session]['trials_intervals'], all_session_data[session]['trials_vis_times'], all_session_data[session]['trials_go_times'], all_session_data[session]['trials_resp_times'], all_session_data[session]['trials_fb_times'])\n",
        "  session_areas = set(all_session_data[session]['clusters_locs'])\n",
        "\n",
        "  aoi_present = False\n",
        "  # Check if at least one choice area was recorded in session\n",
        "  for area in choice_code_areas:\n",
        "    if area in session_areas:\n",
        "      aoi_present = True\n",
        "      break\n",
        "\n",
        "  # Ignore sessions where choice areas were not recorded\n",
        "  if aoi_present == True:\n",
        "    print(f'SESSION: {session} - choice areas detected')\n",
        "    # Iterate through session trials\n",
        "    for i,trial in enumerate(tqdm(grouped_trials_times, desc='Session Trials')):\n",
        "      \n",
        "      # Stop after n trials (sanity check if we are using the print statement below)\n",
        "      #if i > 3:\n",
        "      #  break\n",
        "\n",
        "      # Only include trials where mouse was engaged\n",
        "      if all_session_data[session]['trials_included'][i] == True:\n",
        "        # Response timestamp - window size\n",
        "        start = int(trial[3]*1000 - WINDOW_SIZE)\n",
        "\n",
        "        # Get neural data in window of interest\n",
        "        area_spikes = get_area_spike_trains(all_session_data[session]['clustered_spikes'], all_session_data[session]['clusters_locs'], start_time=start, bin_size=BIN_SIZE, window_size=WINDOW_SIZE, aggregate=True)\n",
        "        \n",
        "        # Check for neural data of each choice area\n",
        "        for area in choice_code_areas:\n",
        "          if area in session_areas:\n",
        "            neural_data.append(area_spikes[area])\n",
        "            choice_data.append(all_session_data[session]['trials_resp_choice'][i]) # Right: -1, Left: +1, NoGo: 0\n",
        "            #print(session, i, area, area_spikes[area], all_session_data[session]['trials_resp_choice'][i])\n",
        "  else:\n",
        "    print(f'SESSION: {session} - choice areas not recorded')\n"
      ],
      "metadata": {
        "id": "2iN8cWr-MxcI"
      },
      "execution_count": null,
      "outputs": []
    }
  ]
}