{
  "nbformat": 4,
  "nbformat_minor": 0,
  "metadata": {
    "colab": {
      "name": "steinmetz_analysis.ipynb",
      "provenance": [],
      "collapsed_sections": [],
      "machine_shape": "hm",
      "include_colab_link": true
    },
    "kernelspec": {
      "name": "python3",
      "display_name": "Python 3"
    },
    "language_info": {
      "name": "python"
    },
    "gpuClass": "standard"
  },
  "cells": [
    {
      "cell_type": "markdown",
      "metadata": {
        "id": "view-in-github",
        "colab_type": "text"
      },
      "source": [
        "<a href=\"https://colab.research.google.com/github/mmcinnestaylor/NMA-CN-2022/blob/main/project/steinmetz_analysis.ipynb\" target=\"_parent\"><img src=\"https://colab.research.google.com/assets/colab-badge.svg\" alt=\"Open In Colab\"/></a>"
      ]
    },
    {
      "cell_type": "code",
      "execution_count": 1,
      "metadata": {
        "id": "LfDG_mHHVKsv",
        "colab": {
          "base_uri": "https://localhost:8080/"
        },
        "outputId": "17d6a868-436f-46af-c566-95cb236f331c"
      },
      "outputs": [
        {
          "output_type": "stream",
          "name": "stdout",
          "text": [
            "Mounted at /content/drive\n"
          ]
        }
      ],
      "source": [
        "from google.colab import drive\n",
        "drive.mount('/content/drive')"
      ]
    },
    {
      "cell_type": "code",
      "source": [
        "import os, csv, math\n",
        "import numpy as np\n",
        "import pandas as pd\n",
        "import matplotlib.pyplot as plt\n",
        "\n",
        "from datetime import datetime\n",
        "from tqdm import tqdm"
      ],
      "metadata": {
        "id": "PCcEl-7AVp58"
      },
      "execution_count": 30,
      "outputs": []
    },
    {
      "cell_type": "code",
      "source": [
        "BASE_PATH = '/content/drive/MyDrive/steinmetz' # Path to dataset base directory"
      ],
      "metadata": {
        "id": "oZYfViQqF_0Y"
      },
      "execution_count": 3,
      "outputs": []
    },
    {
      "cell_type": "code",
      "source": [
        "# @title Helper Functions\n",
        "#@markdown - get_spike_trains(clustered_spikes, start_time=0, bin_size=10, window_size=100, format='binary')\n",
        "#@markdown  - Generates spike trains for each valid cluster in a recording session.\n",
        "#@markdown - get_area_spike_trains(clustered_spikes, clusters_locs, start_time=0, bin_size=10, window_size=100, format='counts', aggregate=True)\n",
        "#@markdown  - Generates spike trains separated by brain area\n",
        "#@markdown - clusters_to_area(cluster_ids, cluster_locs)\n",
        "#@markdown  - Generates a dictionary keyed by brain areas monitored during a recording session. The values are lists of np arrays corresponding the the cluster\n",
        "#@markdown - group_trial_timestamps(intervals, vis_stims, go_cues, responses, feedback)\n",
        "#@markdown  - Groups all timepoints per trial: start, visual stimulus, go cue, response, feedback, trial end\n",
        "\n",
        "def get_spike_trains(clustered_spikes, start_time=0, bin_size=10, window_size=100, format='binary'):\n",
        "  \"\"\"\n",
        "  Spike train generator function.\n",
        "  Builds trains over a given time window using discrete time bins. \n",
        "\n",
        "  Args:\n",
        "    clustered_spikes : a dictionary of clusters\n",
        "    start_time(ms)   : the starting time point of the window within a session\n",
        "    bin_size(ms)     : the size of the discrete time step within the window\n",
        "    window_size(ms)  : the width of the time window\n",
        "    window_size(ms)  : binary or counts\n",
        "\n",
        "  Returns:\n",
        "    spike_trains     : the spikes trains of the neurons in the window\n",
        "  \"\"\"\n",
        "  \n",
        "  num_neurons = len(clustered_spikes.keys())\n",
        "  num_bins = int(window_size/bin_size)\n",
        "\n",
        "  if format == 'binary' or format == 'counts':\n",
        "    # Initialize spike train matrix [num_neurons x num_bins]\n",
        "    spike_trains = np.zeros((num_neurons,num_bins), dtype=int)\n",
        "\n",
        "    # Iterate over all neurons in a recording session\n",
        "    for i,cluster_id in enumerate(sorted(clustered_spikes.keys())):\n",
        "      # Iterate over time bins in the window\n",
        "      for j in range(num_bins):\n",
        "        # Define bin start and end times\n",
        "        bin_start = start_time + (j * bin_size)\n",
        "        bin_end = start_time + ((j+1) * bin_size)\n",
        "        \n",
        "        # Convert spike times of a given neuron to millisecond scale\n",
        "        neuron_spikes = clustered_spikes[cluster_id] * 1000 \n",
        "        \n",
        "        # Check if a spike occured in time bin [start, end)\n",
        "        spikes = np.logical_and(neuron_spikes>=bin_start, neuron_spikes<bin_end)\n",
        "        if format == 'binary':\n",
        "          if True in spikes:\n",
        "            spike_trains[i][j] = 1\n",
        "        else:\n",
        "          spike_trains[i][j] = np.count_nonzero(spikes==True) \n",
        "  else: # to be implemented\n",
        "    pass\n",
        "    \n",
        "  return spike_trains\n",
        "\n",
        "\n",
        "def clusters_to_area(cluster_ids, cluster_locs):\n",
        "  # Get set of brain areas recorded\n",
        "  brain_areas = set(cluster_locs.tolist())\n",
        "\n",
        "  # Build output dict-> key=brain area, val=all clusters in brain area\n",
        "  clusters_per_area = {area: [] for area in brain_areas}\n",
        "\n",
        "  # Group clusters by brain area\n",
        "  for id in cluster_ids:\n",
        "    cluster_area = cluster_locs[id]\n",
        "    clusters_per_area[cluster_area].append(id)\n",
        "  \n",
        "  # Convert lists to np arrays for efficiency \n",
        "  for area in clusters_per_area.keys():\n",
        "    clusters_per_area[area] = np.array(clusters_per_area[area])\n",
        "\n",
        "  return clusters_per_area\n",
        "\n",
        "\n",
        "def get_area_spike_trains(clustered_spikes, clusters_locs, start_time=0, bin_size=10, window_size=100, format='counts', aggregate=True):\n",
        "  num_bins = int(window_size/bin_size)\n",
        "  clusters_by_area = clusters_to_area(clustered_spikes.keys(), clusters_locs)\n",
        "  area_spikes = {area: np.zeros((clusters_by_area[area].shape[0], num_bins)) for area in clusters_by_area.keys()}\n",
        "\n",
        "  # Process \n",
        "  for area in area_spikes.keys():\n",
        "    print(f'Processing area: {area} - {len(clusters_by_area[area])} clusters')\n",
        "\n",
        "    # Iterate through the clusters in an area\n",
        "    for i,cluster_id in enumerate(clusters_by_area[area]):\n",
        "      \n",
        "      # Convert spike times of a given neuron to millisecond scale\n",
        "      neuron_spikes = clustered_spikes[cluster_id] * 1000\n",
        "\n",
        "      # Iterate through time bins\n",
        "      for j in range(num_bins):\n",
        "        \n",
        "        # Define bin start and end times\n",
        "        bin_start = start_time + (j * bin_size)\n",
        "        bin_end = start_time + ((j+1) * bin_size)\n",
        "\n",
        "        # Check if a spike occured in time bin [start, end)\n",
        "        spikes = np.logical_and(neuron_spikes>=bin_start, neuron_spikes<bin_end)\n",
        "      \n",
        "        if format == 'binary':\n",
        "          if True in spikes:\n",
        "            area_spikes[area][i][j] = 1\n",
        "        else: # Counts\n",
        "          area_spikes[area][i][j] = np.count_nonzero(spikes==True)\n",
        "\n",
        "    # Combines all area neuron behavior into a single array\n",
        "    if aggregate==True and format=='counts':\n",
        "      area_spikes[area] = area_spikes[area].sum(axis=0)\n",
        "    elif aggregate==True and format=='binary':\n",
        "      counts = area_spikes[area].sum(axis=0)\n",
        "      area_spikes[area] = 1 * np.logical_and(counts > 0)\n",
        "\n",
        "  return area_spikes\n",
        "\n",
        "def group_trial_timestamps(intervals, vis_stims, go_cues, responses, feedback):\n",
        "  num_trials = intervals.shape[0]\n",
        "  trial_timepoints = np.zeros((num_trials, 6))\n",
        "\n",
        "  for trial in range(num_trials):     \n",
        "    # Trial start\n",
        "    trial_timepoints[trial][0] = intervals[trial][0]\n",
        "    # Visual stimulus\n",
        "    trial_timepoints[trial][1] = vis_stims[trial][0]\n",
        "    # Go gue\n",
        "    trial_timepoints[trial][2] = go_cues[trial][0]\n",
        "    # Response(wheel turn)\n",
        "    trial_timepoints[trial][3] = responses[trial][0]\n",
        "    # Feeback\n",
        "    trial_timepoints[trial][4] = feedback[trial][0]\n",
        "    # Trial end\n",
        "    trial_timepoints[trial][5] = intervals[trial][1]\n",
        "\n",
        "  return trial_timepoints\n"
      ],
      "metadata": {
        "id": "kVRDJAIvx64c",
        "cellView": "form"
      },
      "execution_count": 35,
      "outputs": []
    },
    {
      "cell_type": "code",
      "source": [
        "# @title Load Data\n",
        "#@markdown - Uses the path defined in BASE_PATH\n",
        "#@markdown - Assumes each recording session resides in a separate subdirectory formatted as mouseID_year-month-date\n",
        "#@markdown - **'mouse_id'**: (str) Mouse name per session directory format\n",
        "#@markdown - **'session_date'**: (date) Date of session per session directory format\n",
        "#@markdown - **'clustered_spikes'**: A dictionary of clusters(neurons) recorded during the session. Clusters with annotation values < 1 are not included.\n",
        "#@markdown  - keys(int): The cluster's integer ID as specified in the datafiles.\n",
        "#@markdown  - values(np.array): A 1-D array of size *nSpikes* where each entry corresponds to a time point in seconds during the recording session in which the cluster(neuron) produced a spike.\n",
        "#@markdown - **'clusters_locs'**: (np.array) A 1-D  array of size *nClusters* where each entry corresponds to the the Allen CCF brain area of cluster *n*.\n",
        "#@markdown  - This array includes **all** clusters from a recording session. Thus the keys of `clustered_spikes` should be used as the index number when accessing the values here.\n",
        "#@markdown - **'trials_fb_times'**: trials.feedback_times.npy\n",
        "#@markdown - **'trials_fb_type'**: trials.feedbackType.npy\n",
        "#@markdown - **'trials_go_times'**: trials.goCue_times.npy\n",
        "#@markdown - **'trials_included'**: trials.included.npy\n",
        "#@markdown - **'trials_intervals'**: trials.intervals.npy\n",
        "#@markdown - **'trials_rep_num'**: trials.repNum.npy\n",
        "#@markdown - **'trials_resp_choice'**: trials.response_choice.npy\n",
        "#@markdown - **'trials_resp_times'**: trials.response_times.npy\n",
        "#@markdown - **'trials_vis_times'**: trials.visualStim_times.npy\n",
        "\n",
        "\n",
        "all_session_data = dict()\n",
        "\n",
        "# Order sessions by surname + date\n",
        "for i,session in tqdm(enumerate(sorted(os.listdir(BASE_PATH)))):\n",
        "  session_path = os.path.join(BASE_PATH, session)\n",
        "\n",
        "  print(f\"Loading session: {session} \")\n",
        "\n",
        "  # Load spike and cluster data\n",
        "  raw_spikes = np.load(session_path+'/spikes.times.npy')\n",
        "  raw_clusters = np.load(session_path+'/spikes.clusters.npy')\n",
        "  cluster_annotations = np.load(session_path+'/clusters._phy_annotation.npy'), #cluster quality\n",
        "  num_clusters = raw_clusters.max() \n",
        "\n",
        "  # Initialize 2-D list\n",
        "  sorted_spike_times = [[] for i in range(num_clusters+1)]\n",
        "\n",
        "  # Group spike times by their predicted cluster number \n",
        "  for j in range(len(raw_spikes)):\n",
        "    sorted_spike_times[raw_clusters[j][0]].append(raw_spikes[j][0])\n",
        "  \n",
        "  # Dict to store valid clusters (annotation quality > 1)\n",
        "  filtered_clusters = dict()\n",
        "\n",
        "  # Convert clustered spikes to numpy arrays for efficiency\n",
        "  for j,cluster in enumerate(sorted_spike_times):\n",
        "    # Only store valid clusters\n",
        "    if cluster_annotations[0][j][0] > 1:\n",
        "      filtered_clusters[j] = np.array(sorted_spike_times[j])\n",
        "\n",
        "  cluster_locs = []\n",
        "  cluster_peak_channels = np.load(session_path+'/clusters.peakChannel.npy')\n",
        "  brain_locs = pd.read_csv(session_path+'/channels.brainLocation.tsv', sep='\\t')\n",
        "\n",
        "  for cluster in cluster_peak_channels:\n",
        "    # Offset area index by 1 due to 0-indexing in Pandas\n",
        "    # clusters.peakChannel.npy appears to use 1-indexing\n",
        "    idx = cluster[0]-1\n",
        "    cluster_locs.append(brain_locs['allen_ontology'][idx])\n",
        "  \n",
        "  # Convert cluster brain locations to np array for efficiency\n",
        "  cluster_locs = np.array(cluster_locs)\n",
        "\n",
        "  # Load session data into dictionary\n",
        "  all_session_data[i] = {\n",
        "    # Session information\n",
        "    'mouse_id': session.split('_')[0],\n",
        "    'session_date': datetime.strptime(session.split('_')[1], '%Y-%m-%d').date(),\n",
        "\n",
        "    # Neural Data \n",
        "    'clustered_spikes': filtered_clusters, # Dict: key=cluster_ID, val=spike_times(seconds)\n",
        "\n",
        "    # Cluster Data\n",
        "    'clusters_locs': cluster_locs,\n",
        "\n",
        "    # Trial Data\n",
        "    'trials_fb_type': np.load(session_path+'/trials.feedbackType.npy'),\n",
        "    'trials_fb_times': np.load(session_path+'/trials.feedback_times.npy'),\n",
        "    'trials_go_times': np.load(session_path+'/trials.goCue_times.npy'),\n",
        "    'trials_included': np.load(session_path+'/trials.included.npy'),\n",
        "    'trials_rep_num': np.load(session_path+'/trials.repNum.npy'),\n",
        "    'trials_resp_choice': np.load(session_path+'/trials.response_choice.npy'),\n",
        "    'trials_resp_times': np.load(session_path+'/trials.response_times.npy'),\n",
        "    'trials_intervals': np.load(session_path+'/trials.intervals.npy'),\n",
        "    'trials_vis_times': np.load(session_path+'/trials.visualStim_times.npy')\n",
        "  }"
      ],
      "metadata": {
        "id": "6PwfjOuKDpzp",
        "cellView": "form"
      },
      "execution_count": null,
      "outputs": []
    },
    {
      "cell_type": "code",
      "source": [
        "# @title File writer for Kobayashi method\n",
        "\n",
        "#num_clusters = len(sorted_spike_times.keys())\n",
        "\n",
        "with open(\"/content/drive/MyDrive/steinmetz/Cori_2016-12-14/kobayashi_datafile_5n.txt\", \"w\") as f:\n",
        "  for i,cluster in enumerate(sorted_spike_times.keys()):\n",
        "    written = False\n",
        "    \n",
        "    # check if cluster is valid \n",
        "    if spike_clusters_annotations[cluster][0] < 2:\n",
        "      continue\n",
        "\n",
        "    for time in sorted_spike_times[cluster]:\n",
        "      # limit spikes to first 5 minutes\n",
        "      if time <= 10:\n",
        "        written = True\n",
        "        f.write(str(time)+'\\n')\n",
        "\n",
        "    #if i != num_clusters:\n",
        "    # append only if a spike time has been written for a given neuron\n",
        "    if written:    \n",
        "      f.write(';\\n')\n",
        "  \n",
        "  f.close()"
      ],
      "metadata": {
        "id": "DaTZwFISn6nA",
        "cellView": "form"
      },
      "execution_count": null,
      "outputs": []
    },
    {
      "cell_type": "code",
      "source": [
        "clustered_locs = clusters_to_area(all_session_data[0]['clustered_spikes'].keys(), all_session_data[0]['clusters_locs'])"
      ],
      "metadata": {
        "id": "-ZvXIVn7yg6S"
      },
      "execution_count": 26,
      "outputs": []
    },
    {
      "cell_type": "code",
      "source": [
        "print(clustered_locs.keys())"
      ],
      "metadata": {
        "colab": {
          "base_uri": "https://localhost:8080/"
        },
        "id": "c3Oexj1MIYsw",
        "outputId": "2e929b05-cd74-4c0b-e71c-f66f8509ffb6"
      },
      "execution_count": 31,
      "outputs": [
        {
          "output_type": "stream",
          "name": "stdout",
          "text": [
            "dict_keys(['DG', 'CA3', 'ACA', 'VISp', 'SUB', 'MOs', 'LS', 'root'])\n"
          ]
        }
      ]
    },
    {
      "cell_type": "code",
      "source": [
        "area_spikes = get_area_spike_trains(all_session_data[0]['clustered_spikes'], all_session_data[0]['clusters_locs'], start_time=0, bin_size=10, window_size=100, format='counts', aggregate=True)"
      ],
      "metadata": {
        "id": "Kbp0DI4TGIrW"
      },
      "execution_count": 28,
      "outputs": []
    },
    {
      "cell_type": "code",
      "source": [
        "trials_times = group_trial_timestamps(all_session_data[0]['trials_intervals'], all_session_data[0]['trials_vis_times'], all_session_data[0]['trials_go_times'], all_session_data[0]['trials_resp_times'], all_session_data[0]['trials_fb_times'])"
      ],
      "metadata": {
        "id": "NvpyOqrE_rvq"
      },
      "execution_count": 29,
      "outputs": []
    },
    {
      "cell_type": "code",
      "source": [
        "visual_area_all = []\n",
        "window = 1000\n",
        "\n",
        "for trial in tqdm(trials_times, desc='TRIAL'):\n",
        "  start = trial[1]*1000 - window/2\n",
        "  spikes = get_area_spike_trains(all_session_data[0]['clustered_spikes'], all_session_data[0]['clusters_locs'], start_time=start, bin_size=50, window_size=window)\n",
        "  \n",
        "  visual_area_all.append(spikes['VISp'])"
      ],
      "metadata": {
        "id": "CsJOgDecHs2e"
      },
      "execution_count": null,
      "outputs": []
    }
  ]
}