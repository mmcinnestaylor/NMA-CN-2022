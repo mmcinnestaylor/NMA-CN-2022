{
  "nbformat": 4,
  "nbformat_minor": 0,
  "metadata": {
    "colab": {
      "name": "steinmetz_analysis.ipynb",
      "provenance": [],
      "collapsed_sections": [],
      "machine_shape": "hm",
      "include_colab_link": true
    },
    "kernelspec": {
      "name": "python3",
      "display_name": "Python 3"
    },
    "language_info": {
      "name": "python"
    },
    "gpuClass": "standard"
  },
  "cells": [
    {
      "cell_type": "markdown",
      "metadata": {
        "id": "view-in-github",
        "colab_type": "text"
      },
      "source": [
        "<a href=\"https://colab.research.google.com/github/mmcinnestaylor/NMA-CN-2022/blob/main/project/steinmetz_analysis.ipynb\" target=\"_parent\"><img src=\"https://colab.research.google.com/assets/colab-badge.svg\" alt=\"Open In Colab\"/></a>"
      ]
    },
    {
      "cell_type": "code",
      "execution_count": null,
      "metadata": {
        "id": "LfDG_mHHVKsv"
      },
      "outputs": [],
      "source": [
        "from google.colab import drive\n",
        "drive.mount('/content/drive')"
      ]
    },
    {
      "cell_type": "code",
      "source": [
        "import os\n",
        "import numpy as np\n",
        "\n",
        "from datetime import datetime\n",
        "from tqdm import tqdm"
      ],
      "metadata": {
        "id": "PCcEl-7AVp58"
      },
      "execution_count": 2,
      "outputs": []
    },
    {
      "cell_type": "code",
      "source": [
        "BASE_PATH = '/content/drive/MyDrive/steinmetz' # Path to dataset base directory\n",
        "\n",
        "WINDOW_SIZE = 10 #will be used for binning spikes"
      ],
      "metadata": {
        "id": "oZYfViQqF_0Y"
      },
      "execution_count": 3,
      "outputs": []
    },
    {
      "cell_type": "code",
      "source": [
        "# @title Helper Functions\n",
        "#@markdown - bin_spikes()\n",
        "def bin_spikes(spike_times, window_size):\n",
        "  pass"
      ],
      "metadata": {
        "cellView": "form",
        "id": "kVRDJAIvx64c"
      },
      "execution_count": 17,
      "outputs": []
    },
    {
      "cell_type": "markdown",
      "source": [
        "## Load Data"
      ],
      "metadata": {
        "id": "bYSrWjRwDYgo"
      }
    },
    {
      "cell_type": "code",
      "source": [
        "# @title Helper Functions\n",
        "#@markdown - Uses the path defined in BASE_PATH\n",
        "#@markdown - Assumes each recording session resides in a separate subdirectory formatted as mouseID_year-month-date\n",
        "\n",
        "all_session_data = dict()\n",
        "\n",
        "# Order sessions by surname + date\n",
        "for i,session in tqdm(enumerate(sorted(os.listdir(BASE_PATH)))):\n",
        "  session_path = os.path.join(BASE_PATH, session)\n",
        "\n",
        "  print(f\"Loading session: {session} \")\n",
        "\n",
        "  # Sort spikes by cluster\n",
        "  raw_spikes = np.load(session_path+'/spikes.times.npy')\n",
        "  raw_clusters = np.load(session_path+'/spikes.clusters.npy')\n",
        "  num_clusters = raw_clusters.max() \n",
        "\n",
        "  sorted_spike_times = [[] for i in range(num_clusters+1)]\n",
        "\n",
        "  # Group spike times by their predicted cluster number \n",
        "  for j in range(len(raw_spikes)):\n",
        "    sorted_spike_times[raw_clusters[j][0]].append(raw_spikes[j][0])\n",
        "  \n",
        "  # Convert clustered spikes to numpy arrays for efficiency\n",
        "  for j,cluster in enumerate(sorted_spike_times):\n",
        "    sorted_spike_times[j] = np.array(sorted_spike_times[j])\n",
        "\n",
        "  # Load session data into dictionary\n",
        "  all_session_data[i] = {\n",
        "    # Session information\n",
        "    'mouse_id': session.split('_')[0],\n",
        "    'session_date': datetime.strptime(session.split('_')[1], '%Y-%m-%d').date(),\n",
        "\n",
        "    # Neural Data \n",
        "    'clustered_spikes': sorted_spike_times,\n",
        "\n",
        "    # Cluster Data\n",
        "    'spike_clusters_annotations': np.load(session_path+'/clusters._phy_annotation.npy'), #cluster quality\n",
        "    'clusters_peak_channels': np.load(session_path+'/clusters.peakChannel.npy'),\n",
        "\n",
        "    # Channels Data\n",
        "    #'channels_site': np.load(session_path+'/channels.site.npy')\n",
        "\n",
        "  }\n",
        "  \n",
        "\n"
      ],
      "metadata": {
        "cellView": "form",
        "id": "6PwfjOuKDpzp"
      },
      "execution_count": null,
      "outputs": []
    },
    {
      "cell_type": "code",
      "source": [
        "# @title File writer for Kobayashi method\n",
        "\n",
        "#num_clusters = len(sorted_spike_times.keys())\n",
        "\n",
        "with open(\"/content/drive/MyDrive/steinmetz/Cori_2016-12-14/kobayashi_datafile_5n.txt\", \"w\") as f:\n",
        "  for i,cluster in enumerate(sorted_spike_times.keys()):\n",
        "    written = False\n",
        "    \n",
        "    # check if cluster is valid \n",
        "    if spike_clusters_annotations[cluster][0] < 2:\n",
        "      continue\n",
        "\n",
        "    for time in sorted_spike_times[cluster]:\n",
        "      # limit spikes to first 5 minutes\n",
        "      if time <= 10:\n",
        "        written = True\n",
        "        f.write(str(time)+'\\n')\n",
        "\n",
        "    #if i != num_clusters:\n",
        "    # append only if a spike time has been written for a given neuron\n",
        "    if written:    \n",
        "      f.write(';\\n')\n",
        "  \n",
        "  f.close()"
      ],
      "metadata": {
        "id": "DaTZwFISn6nA",
        "cellView": "form"
      },
      "execution_count": null,
      "outputs": []
    }
  ]
}