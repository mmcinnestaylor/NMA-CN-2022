{
  "nbformat": 4,
  "nbformat_minor": 0,
  "metadata": {
    "colab": {
      "name": "steinmetz_analysis.ipynb",
      "provenance": [],
      "collapsed_sections": [
        "ueeVGEIjcEm7",
        "ONAw_8whL05q"
      ],
      "include_colab_link": true
    },
    "kernelspec": {
      "name": "python3",
      "display_name": "Python 3"
    },
    "language_info": {
      "name": "python"
    },
    "gpuClass": "standard",
    "accelerator": "GPU"
  },
  "cells": [
    {
      "cell_type": "markdown",
      "metadata": {
        "id": "view-in-github",
        "colab_type": "text"
      },
      "source": [
        "<a href=\"https://colab.research.google.com/github/mmcinnestaylor/NMA-CN-2022/blob/main/project/steinmetz_analysis.ipynb\" target=\"_parent\"><img src=\"https://colab.research.google.com/assets/colab-badge.svg\" alt=\"Open In Colab\"/></a>"
      ]
    },
    {
      "cell_type": "code",
      "execution_count": 2,
      "metadata": {
        "id": "LfDG_mHHVKsv",
        "colab": {
          "base_uri": "https://localhost:8080/"
        },
        "outputId": "9b6ccd4e-aecf-461a-93e3-002819bea559"
      },
      "outputs": [
        {
          "output_type": "stream",
          "name": "stdout",
          "text": [
            "Mounted at /content/drive\n"
          ]
        }
      ],
      "source": [
        "from google.colab import drive\n",
        "drive.mount('/content/drive')"
      ]
    },
    {
      "cell_type": "code",
      "source": [
        "import os, csv, math, torch\n",
        "import numpy as np\n",
        "import pandas as pd\n",
        "import matplotlib.pyplot as plt\n",
        "\n",
        "from datetime import datetime\n",
        "from sklearn.model_selection import train_test_split\n",
        "from torch import nn\n",
        "from torch.utils.data import DataLoader, Dataset\n",
        "from tqdm import tqdm"
      ],
      "metadata": {
        "id": "PCcEl-7AVp58"
      },
      "execution_count": 3,
      "outputs": []
    },
    {
      "cell_type": "code",
      "source": [
        "device = \"cuda\" if torch.cuda.is_available() else \"cpu\"\n",
        "print(f\"Using {device} device\")"
      ],
      "metadata": {
        "colab": {
          "base_uri": "https://localhost:8080/"
        },
        "id": "W848Q6QklRHm",
        "outputId": "cefab8f1-5f90-48ac-ed3f-092a6d685231"
      },
      "execution_count": 4,
      "outputs": [
        {
          "output_type": "stream",
          "name": "stdout",
          "text": [
            "Using cuda device\n"
          ]
        }
      ]
    },
    {
      "cell_type": "code",
      "source": [
        "torch.set_default_dtype(torch.float64) "
      ],
      "metadata": {
        "id": "GMxJNKMRDvUn"
      },
      "execution_count": null,
      "outputs": []
    },
    {
      "cell_type": "code",
      "source": [
        "BASE_PATH = '/content/drive/MyDrive/steinmetz' # Path to dataset base directory"
      ],
      "metadata": {
        "id": "oZYfViQqF_0Y"
      },
      "execution_count": 5,
      "outputs": []
    },
    {
      "cell_type": "code",
      "source": [
        "# @title Helper Functions\n",
        "#@markdown - get_spike_trains(clustered_spikes, start_time=0, bin_size=10, window_size=100, format='binary')\n",
        "#@markdown  - Generates spike trains for each valid cluster in a recording session.\n",
        "#@markdown - get_area_spike_trains(clustered_spikes, clusters_locs, start_time=0, bin_size=10, window_size=100, format='counts', aggregate=True)\n",
        "#@markdown  - Generates spike trains separated by brain area\n",
        "#@markdown - clusters_to_area(cluster_ids, cluster_locs)\n",
        "#@markdown  - Generates a dictionary keyed by brain areas monitored during a recording session. The values are lists of np arrays corresponding the the cluster\n",
        "#@markdown - group_trial_timestamps(intervals, vis_stims, go_cues, responses, feedback)\n",
        "#@markdown  - Groups all timepoints per trial: start, visual stimulus, go cue, response, feedback, trial end\n",
        "\n",
        "def get_spike_trains(clustered_spikes, start_time=0, bin_size=10, window_size=100, format='binary'):\n",
        "  \"\"\"\n",
        "  Spike train generator function.\n",
        "  Builds trains over a given time window using discrete time bins. \n",
        "\n",
        "  Args:\n",
        "    clustered_spikes : a dictionary of clusters\n",
        "    start_time(ms)   : the starting time point of the window within a session\n",
        "    bin_size(ms)     : the size of the discrete time step within the window\n",
        "    window_size(ms)  : the width of the time window\n",
        "    window_size(ms)  : binary or counts\n",
        "\n",
        "  Returns:\n",
        "    spike_trains     : the spikes trains of the neurons in the window\n",
        "  \"\"\"\n",
        "  \n",
        "  num_neurons = len(clustered_spikes.keys())\n",
        "  num_bins = int(window_size/bin_size)\n",
        "\n",
        "  if format == 'binary' or format == 'counts':\n",
        "    # Initialize spike train matrix [num_neurons x num_bins]\n",
        "    spike_trains = np.zeros((num_neurons,num_bins), dtype=int)\n",
        "\n",
        "    # Iterate over all neurons in a recording session\n",
        "    for i,cluster_id in enumerate(sorted(clustered_spikes.keys())):\n",
        "      # Iterate over time bins in the window\n",
        "      for j in range(num_bins):\n",
        "        # Define bin start and end times\n",
        "        bin_start = start_time + (j * bin_size)\n",
        "        bin_end = start_time + ((j+1) * bin_size)\n",
        "        \n",
        "        # Convert spike times of a given neuron to millisecond scale\n",
        "        neuron_spikes = clustered_spikes[cluster_id] * 1000 \n",
        "        \n",
        "        # Check if a spike occured in time bin [start, end)\n",
        "        spikes = np.logical_and(neuron_spikes>=bin_start, neuron_spikes<bin_end)\n",
        "        if format == 'binary':\n",
        "          if True in spikes:\n",
        "            spike_trains[i][j] = 1\n",
        "        else:\n",
        "          spike_trains[i][j] = np.count_nonzero(spikes==True) \n",
        "  else: # to be implemented\n",
        "    pass\n",
        "    \n",
        "  return spike_trains\n",
        "\n",
        "\n",
        "def clusters_to_area(cluster_ids, cluster_locs):\n",
        "  # Get set of brain areas recorded\n",
        "  brain_areas = set(cluster_locs.tolist())\n",
        "\n",
        "  # Build output dict-> key=brain area, val=all clusters in brain area\n",
        "  clusters_per_area = {area: [] for area in brain_areas}\n",
        "\n",
        "  # Group clusters by brain area\n",
        "  for id in cluster_ids:\n",
        "    cluster_area = cluster_locs[id]\n",
        "    clusters_per_area[cluster_area].append(id)\n",
        "  \n",
        "  # Convert lists to np arrays for efficiency \n",
        "  for area in clusters_per_area.keys():\n",
        "    clusters_per_area[area] = np.array(sorted(clusters_per_area[area]))\n",
        "\n",
        "  return clusters_per_area\n",
        "\n",
        "\n",
        "def get_area_spike_trains(clustered_spikes, clusters_locs, start_time=0, bin_size=10, window_size=100, format='counts', aggregate=True, print_areas=False):\n",
        "  num_bins = int(window_size/bin_size)\n",
        "  clusters_by_area = clusters_to_area(clustered_spikes.keys(), clusters_locs)\n",
        "  area_spikes = {area: np.zeros((clusters_by_area[area].shape[0], num_bins)) for area in clusters_by_area.keys()}\n",
        "\n",
        "  # Process \n",
        "  for area in area_spikes.keys():\n",
        "    if print_areas:\n",
        "      print(f'Processing area: {area} - {len(clusters_by_area[area])} clusters')\n",
        "\n",
        "    # Iterate through the clusters in an area\n",
        "    for i,cluster_id in enumerate(clusters_by_area[area]):\n",
        "      \n",
        "      # Convert spike times of a given neuron to millisecond scale\n",
        "      neuron_spikes = clustered_spikes[cluster_id] * 1000\n",
        "\n",
        "      # Iterate through time bins\n",
        "      for j in range(num_bins):\n",
        "        \n",
        "        # Define bin start and end times\n",
        "        bin_start = start_time + (j * bin_size)\n",
        "        bin_end = start_time + ((j+1) * bin_size)\n",
        "\n",
        "        # Check if a spike occured in time bin [start, end)\n",
        "        spikes = np.logical_and(neuron_spikes>=bin_start, neuron_spikes<bin_end)\n",
        "      \n",
        "        if format == 'binary':\n",
        "          if True in spikes:\n",
        "            area_spikes[area][i][j] = 1\n",
        "        else: # Counts\n",
        "          area_spikes[area][i][j] = np.count_nonzero(spikes==True)\n",
        "\n",
        "    # Combines all area neuron behavior into a single array\n",
        "    if aggregate==True and format=='counts':\n",
        "      area_spikes[area] = area_spikes[area].sum(axis=0)\n",
        "    elif aggregate==True and format=='binary':\n",
        "      counts = area_spikes[area].sum(axis=0)\n",
        "      area_spikes[area] = 1 * np.logical_and(counts > 0)\n",
        "\n",
        "  return area_spikes\n",
        "\n",
        "def group_trial_timestamps(intervals, vis_stims, go_cues, responses, feedback):\n",
        "  num_trials = intervals.shape[0]\n",
        "  trial_timepoints = np.zeros((num_trials, 6))\n",
        "\n",
        "  for trial in range(num_trials):     \n",
        "    # Trial start\n",
        "    trial_timepoints[trial][0] = intervals[trial][0]\n",
        "    # Visual stimulus\n",
        "    trial_timepoints[trial][1] = vis_stims[trial][0]\n",
        "    # Go gue\n",
        "    trial_timepoints[trial][2] = go_cues[trial][0]\n",
        "    # Response(wheel turn)\n",
        "    trial_timepoints[trial][3] = responses[trial][0]\n",
        "    # Feeback\n",
        "    trial_timepoints[trial][4] = feedback[trial][0]\n",
        "    # Trial end\n",
        "    trial_timepoints[trial][5] = intervals[trial][1]\n",
        "\n",
        "  return trial_timepoints\n"
      ],
      "metadata": {
        "id": "kVRDJAIvx64c",
        "cellView": "form"
      },
      "execution_count": 6,
      "outputs": []
    },
    {
      "cell_type": "code",
      "source": [
        "# @title Load Data\n",
        "#@markdown - Uses the path defined in BASE_PATH\n",
        "#@markdown - Assumes each recording session resides in a separate subdirectory formatted as mouseID_year-month-date\n",
        "#@markdown - **'mouse_id'**: (str) Mouse name per session directory format\n",
        "#@markdown - **'session_date'**: (date) Date of session per session directory format\n",
        "#@markdown - **'clustered_spikes'**: A dictionary of clusters(neurons) recorded during the session. Clusters with annotation values < 1 are not included.\n",
        "#@markdown  - keys(int): The cluster's integer ID as specified in the datafiles.\n",
        "#@markdown  - values(np.array): A 1-D array of size *nSpikes* where each entry corresponds to a time point in seconds during the recording session in which the cluster(neuron) produced a spike.\n",
        "#@markdown - **'clusters_locs'**: (np.array) A 1-D  array of size *nClusters* where each entry corresponds to the the Allen CCF brain area of cluster *n*.\n",
        "#@markdown  - This array includes **all** clusters from a recording session. Thus the keys of `clustered_spikes` should be used as the index number when accessing the values here.\n",
        "#@markdown - **'trials_fb_times'**: trials.feedback_times.npy\n",
        "#@markdown - **'trials_fb_type'**: trials.feedbackType.npy\n",
        "#@markdown - **'trials_go_times'**: trials.goCue_times.npy\n",
        "#@markdown - **'trials_included'**: trials.included.npy\n",
        "#@markdown - **'trials_intervals'**: trials.intervals.npy\n",
        "#@markdown - **'trials_rep_num'**: trials.repNum.npy\n",
        "#@markdown - **'trials_resp_choice'**: trials.response_choice.npy\n",
        "#@markdown - **'trials_resp_times'**: trials.response_times.npy\n",
        "#@markdown - **'trials_vis_times'**: trials.visualStim_times.npy\n",
        "\n",
        "\n",
        "all_session_data = dict()\n",
        "\n",
        "# Order sessions by surname + date\n",
        "for i,session in enumerate(tqdm(sorted(os.listdir(BASE_PATH)))):\n",
        "  session_path = os.path.join(BASE_PATH, session)\n",
        "\n",
        "  #print(f\"Loading session: {session} \")\n",
        "\n",
        "  # Load spike and cluster data\n",
        "  raw_spikes = np.load(session_path+'/spikes.times.npy')\n",
        "  raw_clusters = np.load(session_path+'/spikes.clusters.npy')\n",
        "  cluster_annotations = np.load(session_path+'/clusters._phy_annotation.npy'), #cluster quality\n",
        "  num_clusters = raw_clusters.max() \n",
        "\n",
        "  # Initialize 2-D list\n",
        "  sorted_spike_times = [[] for i in range(num_clusters+1)]\n",
        "\n",
        "  # Group spike times by their predicted cluster number \n",
        "  for j in range(len(raw_spikes)):\n",
        "    sorted_spike_times[raw_clusters[j][0]].append(raw_spikes[j][0])\n",
        "  \n",
        "  # Dict to store valid clusters (annotation quality > 1)\n",
        "  filtered_clusters = dict()\n",
        "\n",
        "  # Convert clustered spikes to numpy arrays for efficiency\n",
        "  for j,cluster in enumerate(sorted_spike_times):\n",
        "    # Only store valid clusters\n",
        "    if cluster_annotations[0][j][0] > 1:\n",
        "      filtered_clusters[j] = np.array(sorted_spike_times[j])\n",
        "\n",
        "  cluster_locs = []\n",
        "  cluster_peak_channels = np.load(session_path+'/clusters.peakChannel.npy')\n",
        "  brain_locs = pd.read_csv(session_path+'/channels.brainLocation.tsv', sep='\\t')\n",
        "\n",
        "  for cluster in cluster_peak_channels:\n",
        "    # Offset area index by 1 due to 0-indexing in Pandas\n",
        "    # clusters.peakChannel.npy appears to use 1-indexing\n",
        "    idx = cluster[0]-1\n",
        "    cluster_locs.append(brain_locs['allen_ontology'][idx])\n",
        "  \n",
        "  # Convert cluster brain locations to np array for efficiency\n",
        "  cluster_locs = np.array(cluster_locs)\n",
        "\n",
        "  # Load session data into dictionary\n",
        "  all_session_data[i] = {\n",
        "    # Session information\n",
        "    'mouse_id': session.split('_')[0],\n",
        "    'session_date': datetime.strptime(session.split('_')[1], '%Y-%m-%d').date(),\n",
        "\n",
        "    # Neural Data \n",
        "    'clustered_spikes': filtered_clusters, # Dict: key=cluster_ID, val=spike_times(seconds)\n",
        "\n",
        "    # Cluster Data\n",
        "    'clusters_locs': cluster_locs,\n",
        "\n",
        "    # Trial Data\n",
        "    'trials_fb_type': np.load(session_path+'/trials.feedbackType.npy'),\n",
        "    'trials_fb_times': np.load(session_path+'/trials.feedback_times.npy'),\n",
        "    'trials_go_times': np.load(session_path+'/trials.goCue_times.npy'),\n",
        "    'trials_included': np.load(session_path+'/trials.included.npy'),\n",
        "    'trials_rep_num': np.load(session_path+'/trials.repNum.npy'),\n",
        "    'trials_resp_choice': np.load(session_path+'/trials.response_choice.npy'),\n",
        "    'trials_resp_times': np.load(session_path+'/trials.response_times.npy'),\n",
        "    'trials_intervals': np.load(session_path+'/trials.intervals.npy'),\n",
        "    'trials_vis_times': np.load(session_path+'/trials.visualStim_times.npy')\n",
        "  }"
      ],
      "metadata": {
        "id": "6PwfjOuKDpzp",
        "cellView": "form"
      },
      "execution_count": null,
      "outputs": []
    },
    {
      "cell_type": "code",
      "source": [
        "# @title File writer for Kobayashi method\n",
        "\n",
        "#num_clusters = len(sorted_spike_times.keys())\n",
        "\n",
        "with open(\"/content/drive/MyDrive/steinmetz/Cori_2016-12-14/kobayashi_datafile_5n.txt\", \"w\") as f:\n",
        "  for i,cluster in enumerate(sorted_spike_times.keys()):\n",
        "    written = False\n",
        "    \n",
        "    # check if cluster is valid \n",
        "    if spike_clusters_annotations[cluster][0] < 2:\n",
        "      continue\n",
        "\n",
        "    for time in sorted_spike_times[cluster]:\n",
        "      # limit spikes to first 5 minutes\n",
        "      if time <= 10:\n",
        "        written = True\n",
        "        f.write(str(time)+'\\n')\n",
        "\n",
        "    #if i != num_clusters:\n",
        "    # append only if a spike time has been written for a given neuron\n",
        "    if written:    \n",
        "      f.write(';\\n')\n",
        "  \n",
        "  f.close()"
      ],
      "metadata": {
        "id": "DaTZwFISn6nA",
        "cellView": "form"
      },
      "execution_count": null,
      "outputs": []
    },
    {
      "cell_type": "markdown",
      "source": [
        "### Example Helper Function calls"
      ],
      "metadata": {
        "id": "ueeVGEIjcEm7"
      }
    },
    {
      "cell_type": "code",
      "source": [
        "clustered_locs = clusters_to_area(all_session_data[0]['clustered_spikes'].keys(), all_session_data[0]['clusters_locs'])"
      ],
      "metadata": {
        "id": "-ZvXIVn7yg6S"
      },
      "execution_count": 26,
      "outputs": []
    },
    {
      "cell_type": "code",
      "source": [
        "area_spikes = get_area_spike_trains(all_session_data[0]['clustered_spikes'], all_session_data[0]['clusters_locs'], start_time=0, bin_size=10, window_size=100, format='counts', aggregate=True)"
      ],
      "metadata": {
        "id": "Kbp0DI4TGIrW"
      },
      "execution_count": 28,
      "outputs": []
    },
    {
      "cell_type": "code",
      "source": [
        "trials_times = group_trial_timestamps(all_session_data[0]['trials_intervals'], all_session_data[0]['trials_vis_times'], all_session_data[0]['trials_go_times'], all_session_data[0]['trials_resp_times'], all_session_data[0]['trials_fb_times'])"
      ],
      "metadata": {
        "id": "NvpyOqrE_rvq"
      },
      "execution_count": 6,
      "outputs": []
    },
    {
      "cell_type": "markdown",
      "source": [
        "### Examining v2r and c2r statistics"
      ],
      "metadata": {
        "id": "ONAw_8whL05q"
      }
    },
    {
      "cell_type": "code",
      "source": [
        "choice_code_areas = ['MOs', 'PL', 'MOp', 'CP', 'SNr', 'SCm', 'MRN', 'ZI']"
      ],
      "metadata": {
        "id": "Exs1I-_MyGo1"
      },
      "execution_count": null,
      "outputs": []
    },
    {
      "cell_type": "code",
      "source": [
        "delta_v2r = []\n",
        "delta_c2r = []\n",
        "engaged_trials = 0\n",
        "total_trials = 0\n",
        "\n",
        "for session in all_session_data.keys():\n",
        "  grouped_trials_times = group_trial_timestamps(all_session_data[session]['trials_intervals'], all_session_data[session]['trials_vis_times'], all_session_data[session]['trials_go_times'], all_session_data[session]['trials_resp_times'], all_session_data[session]['trials_fb_times'])\n",
        "  session_areas = set(all_session_data[session]['clusters_locs'])\n",
        "\n",
        "  aoi_present = False\n",
        "  for area in choice_code_areas:\n",
        "    if area in session_areas:\n",
        "      aoi_present = True\n",
        "      break\n",
        "\n",
        "  if aoi_present == True:\n",
        "    #print(f'SESSION: {session} - choice areas detected')\n",
        "    \n",
        "    session_engaged_trials = 0\n",
        "    for i,trial in enumerate(grouped_trials_times):\n",
        "      total_trials += 1\n",
        "      if all_session_data[session]['trials_included'][i] == True:\n",
        "        engaged_trials += 1\n",
        "        session_engaged_trials += 1\n",
        "        delta_v2r.append(trial[3] - trial[1]) # vis stim to response delta\n",
        "        delta_c2r.append(trial[3] - trial[2]) # cue to response delta\n",
        "    #print(f'Engaged trials: {session_engaged_trials}/{len(grouped_trials_times)}')\n",
        "  else:\n",
        "    #print(f'SESSION: {session} - choice areas not recorded')\n",
        "    continue"
      ],
      "metadata": {
        "id": "qJ-5SPtG2FLq"
      },
      "execution_count": 16,
      "outputs": []
    },
    {
      "cell_type": "code",
      "source": [
        "delta_v2r = np.array(delta_v2r)\n",
        "delta_c2r = np.array(delta_c2r)\n",
        "\n",
        "avg_v2r = np.average(delta_v2r)\n",
        "med_v2r = np.median(delta_v2r)\n",
        "max_v2r = delta_v2r.max()\n",
        "min_v2r = delta_v2r.min()\n",
        "\n",
        "avg_c2r = np.average(delta_c2r)\n",
        "med_c2r = np.median(delta_c2r)\n",
        "max_c2r = delta_c2r.max()\n",
        "min_c2r = delta_c2r.min()\n",
        "\n",
        "print(f'V2R:\\n  avg: {avg_v2r}\\n  med: {med_v2r}\\n  max: {max_v2r}\\n  min: {min_v2r}')\n",
        "print(f'C2R:\\n  avg: {avg_c2r}\\n  med: {med_c2r}\\n  max: {max_c2r}\\n  min: {min_c2r}')"
      ],
      "metadata": {
        "id": "q7AUdM8U-NBG"
      },
      "execution_count": null,
      "outputs": []
    },
    {
      "cell_type": "code",
      "source": [
        "data = [delta_v2r, delta_c2r]\n",
        "fig = plt.figure(figsize =(10, 7))\n",
        "\n",
        "# Creating axes instance\n",
        "ax = fig.add_axes([0, 0, 1, 1])\n",
        "\n",
        "# Creating plot\n",
        "plt.boxplot(data)\n",
        "\n",
        "# x-axis labels\n",
        "ax.set_xticklabels(['v2r', 'c2r'])\n",
        "\n",
        "plt.xlabel('Deltas')\n",
        "plt.ylabel('Seconds')\n",
        "\n",
        "# Removing top axes and right axes\n",
        "# ticks\n",
        "ax.get_xaxis().tick_bottom()\n",
        "ax.get_yaxis().tick_left()\n",
        "\n",
        "# show plot\n",
        "plt.show()"
      ],
      "metadata": {
        "id": "-YpS96_yEHBo"
      },
      "execution_count": null,
      "outputs": []
    },
    {
      "cell_type": "markdown",
      "source": [
        "## Predicting Mouse Action Choice "
      ],
      "metadata": {
        "id": "AwYAB660POMK"
      }
    },
    {
      "cell_type": "code",
      "source": [
        "BIN_SIZE = 5 # milliseconds\n",
        "WINDOW_SIZE = 100 # milliseconds\n",
        "choice_code_areas = ['MOs', 'PL', 'MOp', 'CP', 'SNr', 'SCm', 'MRN', 'ZI']"
      ],
      "metadata": {
        "id": "P_PvDTDfL686"
      },
      "execution_count": 10,
      "outputs": []
    },
    {
      "cell_type": "code",
      "source": [
        "#@title Process Steinmetz Data\n",
        "#@markdown We iterate through all recording sessions and build a dataset of binned spike counts for our areas of interest using a selected window and bin size.\n",
        "#@markdown - Per the Steinmetz results, choice selective behavior occurs 50-100ms before movement onset.\n",
        "neural_data = []\n",
        "choice_data = []\n",
        "\n",
        "for session in all_session_data.keys():\n",
        "  session_areas = set(all_session_data[session]['clusters_locs'])\n",
        "  mouse_id = all_session_data[session]['mouse_id']\n",
        "  session_date = all_session_data[session]['session_date']\n",
        "\n",
        "  aoi_present = False\n",
        "  # Check if at least one choice area was recorded in session\n",
        "  for area in choice_code_areas:\n",
        "    if area in session_areas:\n",
        "      aoi_present = True\n",
        "      break\n",
        "\n",
        "  # Ignore sessions where choice areas were not recorded\n",
        "  if aoi_present == True:\n",
        "    print(f'SESSION: {session}_{mouse_id}_{session_date} >> choice areas detected')\n",
        "    grouped_trials_times = group_trial_timestamps(all_session_data[session]['trials_intervals'], all_session_data[session]['trials_vis_times'], all_session_data[session]['trials_go_times'], all_session_data[session]['trials_resp_times'], all_session_data[session]['trials_fb_times'])\n",
        "\n",
        "    # Iterate through session trials\n",
        "    for i,trial in enumerate(tqdm(grouped_trials_times, desc='Session Trials')):\n",
        "      \n",
        "      # Stop after n trials (sanity check if we are using the print statement below)\n",
        "      #if i > 3:\n",
        "      #  break\n",
        "\n",
        "      # Only include trials where mouse was engaged\n",
        "      if all_session_data[session]['trials_included'][i] == True:\n",
        "        # Response timestamp - window size\n",
        "        start = int(trial[3]*1000 - WINDOW_SIZE)\n",
        "\n",
        "        # Get neural data in window of interest\n",
        "        area_spikes = get_area_spike_trains(all_session_data[session]['clustered_spikes'], all_session_data[session]['clusters_locs'], start_time=start, bin_size=BIN_SIZE, window_size=WINDOW_SIZE, aggregate=True)\n",
        "        \n",
        "        # Check for neural data of each choice area\n",
        "        for area in choice_code_areas:\n",
        "          if area in session_areas:\n",
        "            neural_data.append(area_spikes[area])\n",
        "            choice_data.append(all_session_data[session]['trials_resp_choice'][i]) # Right: -1, Left: +1, NoGo: 0\n",
        "            #print(session, i, area, area_spikes[area], all_session_data[session]['trials_resp_choice'][i])\n",
        "  else:\n",
        "    print(f'SESSION: {session}_{mouse_id}_{session_date} >> choice areas not recorded')\n",
        "\n",
        "neural_data = np.array(neural_data)\n",
        "choice_data = np.array(choice_data)"
      ],
      "metadata": {
        "cellView": "form",
        "id": "2iN8cWr-MxcI"
      },
      "execution_count": null,
      "outputs": []
    },
    {
      "cell_type": "code",
      "source": [
        "# Save data arrays (optional)\n",
        "np.save(BASE_PATH+'/neural_data.npy', neural_data)\n",
        "np.save(BASE_PATH+'/choice_data.npy', choice_data)"
      ],
      "metadata": {
        "id": "WAVHgAX8IraZ"
      },
      "execution_count": 23,
      "outputs": []
    },
    {
      "cell_type": "code",
      "source": [
        "#@title Define SpikeDataset Class\n",
        "#@markdown We create a custom Pytorch dataset class to handle the neural and choice data, which allows the use of Pytorch's Dataloader class during training and evaluation.\n",
        "\n",
        "class SpikeDataset(Dataset):\n",
        "  def __init__(self, spike_matrix, spike_labels, transform=None, target_transform=None):\n",
        "    self.spike_data = torch.from_numpy(spike_matrix)#.float()\n",
        "    self.spike_labels = torch.from_numpy(spike_labels)#.float()#.long()\n",
        "    self.transform = transform\n",
        "    self.target_transform = target_transform\n",
        "\n",
        "  def __len__(self):\n",
        "    return len(self.spike_labels)\n",
        "\n",
        "  def __getitem__(self, idx):\n",
        "    spike_train = self.spike_data[idx]\n",
        "    label = self.spike_labels[idx]\n",
        "    if self.transform:\n",
        "        pass\n",
        "    if self.target_transform:\n",
        "        pass\n",
        "    return spike_train, label"
      ],
      "metadata": {
        "cellView": "form",
        "id": "Ee897MXjPK0T"
      },
      "execution_count": 27,
      "outputs": []
    },
    {
      "cell_type": "code",
      "source": [
        "#@title Define Decoding Model\n",
        "\n",
        "class NeuralDecoderNetwork(nn.Module):\n",
        "    def __init__(self, input_shape, output_shape):\n",
        "        super(NeuralDecoderNetwork, self).__init__()\n",
        "        self.flatten = nn.Flatten()\n",
        "        self.linear_relu_stack = nn.Sequential(\n",
        "            nn.Linear(input_shape, 64),\n",
        "            nn.ReLU(),\n",
        "            nn.BatchNorm1d(64),\n",
        "            nn.Linear(64, 32),\n",
        "            nn.ReLU(),\n",
        "            nn.BatchNorm1d(32),\n",
        "            nn.Linear(32, 16),\n",
        "            nn.ReLU(),\n",
        "            nn.BatchNorm1d(16),\n",
        "            nn.Linear(16, 8),\n",
        "            nn.ReLU(),\n",
        "            nn.BatchNorm1d(8),\n",
        "            #nn.Dropout(p=0.1),\n",
        "            nn.Linear(8, 1),\n",
        "        )\n",
        "\n",
        "    def forward(self, x):\n",
        "        x = self.flatten(x)\n",
        "        logits = self.linear_relu_stack(x)\n",
        "        return logits"
      ],
      "metadata": {
        "cellView": "form",
        "id": "YaLaO6zEjd9W"
      },
      "execution_count": 24,
      "outputs": []
    },
    {
      "cell_type": "code",
      "source": [
        "#@title Define Train and Evaluation Loops\n",
        "\n",
        "def train_loop(dataloader, model, loss_fn, optimizer):\n",
        "  size = len(dataloader.dataset)\n",
        "\n",
        "  model.train()\n",
        "  for batch, (X, y) in enumerate(dataloader):\n",
        "    # Compute prediction and loss\n",
        "    X, y = X.to(device), y.to(device)\n",
        "\n",
        "    pred = model(X)\n",
        "    loss = loss_fn(pred, y.unsqueeze(1))\n",
        "\n",
        "    # Backpropagation\n",
        "    optimizer.zero_grad()\n",
        "    loss.backward()\n",
        "    optimizer.step()\n",
        "\n",
        "    if batch % 10 == 0:\n",
        "      loss, current = loss.item(), batch * len(X)\n",
        "      print(f\"loss: {loss:>7f}  [{current:>5d}/{size:>5d}]\")\n",
        "\n",
        "\n",
        "def test_loop(dataloader, model, loss_fn):\n",
        "  size = len(dataloader.dataset)\n",
        "  num_batches = len(dataloader)\n",
        "  test_loss, correct = 0, 0\n",
        "\n",
        "  model.eval()\n",
        "  with torch.no_grad():\n",
        "    for X, y in dataloader:\n",
        "      X, y = X.to(device), y.to(device)\n",
        "\n",
        "      pred = model(X)\n",
        "      test_loss += loss_fn(pred, y.unsqueeze(1)).item()\n",
        "      correct += (pred.argmax(1) == y).type(torch.float).sum().item()\n",
        "\n",
        "  test_loss /= num_batches\n",
        "  correct /= size\n",
        "  print(f\"Test Error: \\n Accuracy: {(100*correct):>0.1f}%, Avg loss: {test_loss:>8f} \\n\")"
      ],
      "metadata": {
        "cellView": "form",
        "id": "hIwPzCIXkwi0"
      },
      "execution_count": 19,
      "outputs": []
    },
    {
      "cell_type": "code",
      "source": [
        "# Load neural and choice data from files (optional)\n",
        "neural_data = np.load(BASE_PATH+'/cleaned_neural_data.npy')\n",
        "choice_data = np.load(BASE_PATH+'/cleaned_choice_data.npy')"
      ],
      "metadata": {
        "id": "0MbpLky3WaTg"
      },
      "execution_count": null,
      "outputs": []
    },
    {
      "cell_type": "markdown",
      "source": [
        "### Train Model"
      ],
      "metadata": {
        "id": "y67EwVucT8wK"
      }
    },
    {
      "cell_type": "code",
      "source": [
        "BATCH_SIZE = 64\n",
        "LR = 0.01 #1e-3\n",
        "EPOCHS = 50"
      ],
      "metadata": {
        "id": "owRCd33nYV3p"
      },
      "execution_count": 30,
      "outputs": []
    },
    {
      "cell_type": "code",
      "source": [
        "X_train, X_test, y_train, y_test = train_test_split(neural_data, choice_data, test_size=0.2)\n",
        "\n",
        "training_data = SpikeDataset(X_train, y_train)\n",
        "test_data = SpikeDataset(X_test, y_test)\n",
        "\n",
        "train_dataloader = DataLoader(training_data, batch_size=BATCH_SIZE, shuffle=True)\n",
        "test_dataloader = DataLoader(test_data, batch_size=BATCH_SIZE, shuffle=True)"
      ],
      "metadata": {
        "id": "YLeF_ggrUDxo"
      },
      "execution_count": 28,
      "outputs": []
    },
    {
      "cell_type": "code",
      "source": [
        "input_shape = neural_data.shape[1]\n",
        "num_classes = len(np.unique(choice_data)) if len(np.unique(choice_data)) > 2 else 1\n",
        "\n",
        "# Initialize model\n",
        "model = NeuralDecoderNetwork(input_shape, num_classes).to(device)\n",
        "print(model)"
      ],
      "metadata": {
        "id": "tmFpeTFnvoFf"
      },
      "execution_count": null,
      "outputs": []
    },
    {
      "cell_type": "code",
      "source": [
        "# Initialize the loss function & optimizer\n",
        "#loss_fn = nn.CrossEntropyLoss()\n",
        "loss_fn = nn.BCEWithLogitsLoss()\n",
        "optimizer = torch.optim.Adam(model.parameters(), lr=LR)"
      ],
      "metadata": {
        "id": "IHm4HgFHljMl"
      },
      "execution_count": 32,
      "outputs": []
    },
    {
      "cell_type": "code",
      "source": [
        "for t in range(EPOCHS):\n",
        "    print(f\"Epoch {t+1}\\n-------------------------------\")\n",
        "    train_loop(train_dataloader, model, loss_fn, optimizer)\n",
        "    test_loop(test_dataloader, model, loss_fn)\n",
        "print(\"Done!\")"
      ],
      "metadata": {
        "id": "SxbBNYoWifHg"
      },
      "execution_count": null,
      "outputs": []
    }
  ]
}